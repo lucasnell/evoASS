{
 "cells": [
  {
   "cell_type": "markdown",
   "metadata": {},
   "source": [
    "# Derivative of traits_i with respect to traits_i\n",
    "\n",
    "Here I will be testing my solution for\n",
    "$\\frac{ \\partial \\mathbf{\\hat{V}_i} }{ \\partial \\mathbf{V_i} }$\n",
    "(see below)\n",
    "by calculating the Jacobian using the `theano` package\n",
    "and comparing those results to my solution.\n",
    "\n",
    "\n",
    "\n",
    "\n",
    "## Importing packages and setting options"
   ]
  },
  {
   "cell_type": "code",
   "execution_count": 33,
   "metadata": {},
   "outputs": [
    {
     "name": "stdout",
     "output_type": "stream",
     "text": [
      "env: OMP_NUM_THREADS=4\n",
      "env: THEANO_FLAGS='openmp=True'\n"
     ]
    }
   ],
   "source": [
    "%env OMP_NUM_THREADS=4\n",
    "%env THEANO_FLAGS='openmp=True'\n",
    "import sympy\n",
    "import theano\n",
    "theano.config.cxx = \"\"\n",
    "import theano.tensor as T\n",
    "import numpy as np\n",
    "import pandas as pd\n",
    "from tqdm import tqdm\n",
    "import math\n",
    "pd.options.display.max_columns = 10"
   ]
  },
  {
   "cell_type": "markdown",
   "metadata": {},
   "source": [
    "## Equations\n",
    "\n",
    "__Notes:__\n",
    "\n",
    "- $*$ is matrix multiplication.\n",
    "- ${}^\\text{T}$ represents transpose.\n",
    "- Elements in __bold__ are matrices\n",
    "- $\\mathbf{I}$ is an identity matrix with the same number of \n",
    "  rows and columns as the number of traits in $\\mathbf{V_i}$\n",
    "- Run `vignette(\"model\", \"sauron\")` in R to see more of the model and\n",
    "  what each parameter means.\n",
    "  \n",
    "\n",
    "The equations for (1) traits for species $i$ at time $t+1$ ($\\mathbf{\\hat{V}_i}$)\n",
    "and (2) the partial derivative of species $i$ traits with respect\n",
    "to species $k$ traits (where $k \\ne i$)\n",
    "are as follows:\n",
    "\n",
    "\\begin{align}\n",
    "\\mathbf{\\hat{V}_i} &= \\mathbf{V_i} + \\sigma^2\n",
    "    \\left[\n",
    "        2 ~ g ~ Z ~ \\text{e}^{-\\mathbf{V_i} * \\mathbf{V_i}^\\text{T}} \\mathbf{V_i} \n",
    "        - f ~ \\mathbf{V_i} * (\\mathbf{C} + \\mathbf{C}^\\text{T})\n",
    "    \\right] \\\\\n",
    "    Z &= N_i + \\sum_{j \\ne i}^{n}{ N_j ~ \\text{e}^{-d \\mathbf{V_j} * \\mathbf{V_j}^\\text{T}} } \\\\\n",
    "    \\frac{ \\partial \\mathbf{\\hat{V}_i} }{ \\partial \\mathbf{V_i} } &= \\mathbf{I} + \\sigma^2 ~\n",
    "        \\left[\n",
    "            2 ~ g ~ Z ~ \\text{e}^{ -\\mathbf{V_i} * \\mathbf{V_i}^{\\text{T}} }\n",
    "            \\left(\n",
    "                -2 ~ \\mathbf{V_i}^{\\text{T}} * \\mathbf{V_i} + \\mathbf{I}\n",
    "            \\right) -\n",
    "            f \\left( \\mathbf{C} + \\mathbf{C}^\\text{T} \\right)\n",
    "        \\right]\n",
    "\\end{align}\n"
   ]
  },
  {
   "cell_type": "markdown",
   "metadata": {},
   "source": [
    "## Read CSV of simulated datasets"
   ]
  },
  {
   "cell_type": "code",
   "execution_count": 35,
   "metadata": {},
   "outputs": [
    {
     "data": {
      "text/html": [
       "<div>\n",
       "<style scoped>\n",
       "    .dataframe tbody tr th:only-of-type {\n",
       "        vertical-align: middle;\n",
       "    }\n",
       "\n",
       "    .dataframe tbody tr th {\n",
       "        vertical-align: top;\n",
       "    }\n",
       "\n",
       "    .dataframe thead th {\n",
       "        text-align: right;\n",
       "    }\n",
       "</style>\n",
       "<table border=\"1\" class=\"dataframe\">\n",
       "  <thead>\n",
       "    <tr style=\"text-align: right;\">\n",
       "      <th></th>\n",
       "      <th>V1</th>\n",
       "      <th>V2</th>\n",
       "      <th>V3</th>\n",
       "      <th>V4</th>\n",
       "      <th>V5</th>\n",
       "      <th>...</th>\n",
       "      <th>f</th>\n",
       "      <th>g</th>\n",
       "      <th>eta</th>\n",
       "      <th>r0</th>\n",
       "      <th>d</th>\n",
       "    </tr>\n",
       "  </thead>\n",
       "  <tbody>\n",
       "    <tr>\n",
       "      <th>0</th>\n",
       "      <td>5.329784</td>\n",
       "      <td>-0.593159</td>\n",
       "      <td>0.003065</td>\n",
       "      <td>1.414273</td>\n",
       "      <td>-6.458124</td>\n",
       "      <td>...</td>\n",
       "      <td>0.137235</td>\n",
       "      <td>0.104261</td>\n",
       "      <td>0.063997</td>\n",
       "      <td>0.343463</td>\n",
       "      <td>-0.118705</td>\n",
       "    </tr>\n",
       "    <tr>\n",
       "      <th>1</th>\n",
       "      <td>-1.514917</td>\n",
       "      <td>-1.024847</td>\n",
       "      <td>5.413096</td>\n",
       "      <td>-4.548136</td>\n",
       "      <td>1.542865</td>\n",
       "      <td>...</td>\n",
       "      <td>0.600063</td>\n",
       "      <td>0.197839</td>\n",
       "      <td>0.103529</td>\n",
       "      <td>0.279827</td>\n",
       "      <td>-0.158496</td>\n",
       "    </tr>\n",
       "    <tr>\n",
       "      <th>2</th>\n",
       "      <td>-9.969353</td>\n",
       "      <td>0.930724</td>\n",
       "      <td>2.855755</td>\n",
       "      <td>8.144096</td>\n",
       "      <td>3.640262</td>\n",
       "      <td>...</td>\n",
       "      <td>0.537799</td>\n",
       "      <td>0.202685</td>\n",
       "      <td>-0.088763</td>\n",
       "      <td>0.303346</td>\n",
       "      <td>-0.159742</td>\n",
       "    </tr>\n",
       "    <tr>\n",
       "      <th>3</th>\n",
       "      <td>3.821274</td>\n",
       "      <td>-3.732219</td>\n",
       "      <td>-2.680385</td>\n",
       "      <td>-1.586652</td>\n",
       "      <td>-9.755770</td>\n",
       "      <td>...</td>\n",
       "      <td>0.123312</td>\n",
       "      <td>0.117315</td>\n",
       "      <td>-0.082240</td>\n",
       "      <td>0.136664</td>\n",
       "      <td>0.103837</td>\n",
       "    </tr>\n",
       "    <tr>\n",
       "      <th>4</th>\n",
       "      <td>3.291826</td>\n",
       "      <td>0.708288</td>\n",
       "      <td>-5.281580</td>\n",
       "      <td>6.224788</td>\n",
       "      <td>-0.271641</td>\n",
       "      <td>...</td>\n",
       "      <td>0.560044</td>\n",
       "      <td>0.054967</td>\n",
       "      <td>0.046302</td>\n",
       "      <td>0.254523</td>\n",
       "      <td>-0.125201</td>\n",
       "    </tr>\n",
       "  </tbody>\n",
       "</table>\n",
       "<p>5 rows × 21 columns</p>\n",
       "</div>"
      ],
      "text/plain": [
       "         V1        V2        V3        V4        V5    ...            f  \\\n",
       "0  5.329784 -0.593159  0.003065  1.414273 -6.458124    ...     0.137235   \n",
       "1 -1.514917 -1.024847  5.413096 -4.548136  1.542865    ...     0.600063   \n",
       "2 -9.969353  0.930724  2.855755  8.144096  3.640262    ...     0.537799   \n",
       "3  3.821274 -3.732219 -2.680385 -1.586652 -9.755770    ...     0.123312   \n",
       "4  3.291826  0.708288 -5.281580  6.224788 -0.271641    ...     0.560044   \n",
       "\n",
       "          g       eta        r0         d  \n",
       "0  0.104261  0.063997  0.343463 -0.118705  \n",
       "1  0.197839  0.103529  0.279827 -0.158496  \n",
       "2  0.202685 -0.088763  0.303346 -0.159742  \n",
       "3  0.117315 -0.082240  0.136664  0.103837  \n",
       "4  0.054967  0.046302  0.254523 -0.125201  \n",
       "\n",
       "[5 rows x 21 columns]"
      ]
     },
     "execution_count": 35,
     "metadata": {},
     "output_type": "execute_result"
    }
   ],
   "source": [
    "sims = pd.read_csv(\"simulated_data.csv\")\n",
    "sims.head()"
   ]
  },
  {
   "cell_type": "markdown",
   "metadata": {},
   "source": [
    "## Functions to compare methods"
   ]
  },
  {
   "cell_type": "code",
   "execution_count": 36,
   "metadata": {},
   "outputs": [],
   "source": [
    "def automatic(i, N, V, Z, CCC, f, g, s2):\n",
    "    \"\"\"Automatic differentiation using theano pkg\"\"\"\n",
    "    Vi = T.dvector('Vi')\n",
    "    Vhat = Vi + s2 * (\n",
    "        ( 2 * g * Z * T.exp(-1 * T.dot(Vi, Vi.T)) * Vi) - \n",
    "        ( f * T.dot(Vi, CCC) )\n",
    "    )\n",
    "    J, updates = theano.scan(lambda i, Vhat, Vi : T.grad(Vhat[i], Vi), \n",
    "                         sequences=T.arange(Vhat.shape[0]), non_sequences=[Vhat, Vi])\n",
    "    num_fun = theano.function([Vi], J, updates=updates)\n",
    "    out_array = num_fun(V[i,:]).T\n",
    "    return out_array"
   ]
  },
  {
   "cell_type": "code",
   "execution_count": 37,
   "metadata": {},
   "outputs": [],
   "source": [
    "def symbolic(i, V, Z, CCC, f, g, s2):\n",
    "    \"\"\"Symbolic differentiation using my brain\"\"\"\n",
    "    q = V.shape[1]\n",
    "    I = np.identity(q)\n",
    "    Vi = V[i,:]\n",
    "    Vi = Vi.reshape((1, q))\n",
    "    dVhat = I + s2 * (\n",
    "        ( 2 * g * Z * np.exp(-1 * Vi @ Vi.T)[0,0] * (I - 2 * Vi.T @ Vi) ) -\n",
    "        (f * CCC)\n",
    "    )\n",
    "    return dVhat"
   ]
  },
  {
   "cell_type": "code",
   "execution_count": 38,
   "metadata": {},
   "outputs": [],
   "source": [
    "def compare_methods(sim_i, s2 = 0.01, abs = False):\n",
    "    \"\"\"Compare answers from symbolic and automatic methods\"\"\"\n",
    "    \n",
    "    # Fill info from data frame:\n",
    "    N = sims.loc[sim_i, [x.startswith(\"N\") for x in sims.columns]].values\n",
    "    V = sims.loc[sim_i, [x.startswith(\"V\") for x in sims.columns]].values\n",
    "    n, q = (N.size, int(V.size / N.size))\n",
    "    V = V.reshape((n, q), order = 'F')\n",
    "    f = sims.loc[sim_i,\"f\"]\n",
    "    g = sims.loc[sim_i,\"g\"]\n",
    "    eta = sims.loc[sim_i,\"eta\"]\n",
    "    d = sims.loc[sim_i,\"d\"]\n",
    "    C = np.zeros((q, q)) + eta\n",
    "    np.fill_diagonal(C,1.0)\n",
    "    CCC = C + C.T\n",
    "    \n",
    "    # Create output array:\n",
    "    diffs = np.empty((n, 4))\n",
    "    diffs[:,0] = sim_i\n",
    "    \n",
    "    # Fill output array:\n",
    "    for i in range(0, n):\n",
    "        Z = N[i] + np.sum([np.exp(-d * np.dot(V[j,:], V[j,:].T)) * N[j] \n",
    "            for j in range(0, N.size) if j != i])\n",
    "        auto = automatic(i, N, V, Z, CCC, f, g, s2)\n",
    "        sym = symbolic(i, V, Z, CCC, f, g, s2)\n",
    "        if abs:\n",
    "            diff = auto - sym\n",
    "        else:\n",
    "            diff = (auto - sym) / sym\n",
    "        diff = diff.flatten()\n",
    "        diffs[i, 1] = i\n",
    "        diffs[i, 2] = diff.min()\n",
    "        diffs[i, 3] = diff.max()\n",
    "    \n",
    "    return diffs"
   ]
  },
  {
   "cell_type": "markdown",
   "metadata": {},
   "source": [
    "### Example of using `compare_methods`:"
   ]
  },
  {
   "cell_type": "code",
   "execution_count": 39,
   "metadata": {},
   "outputs": [
    {
     "name": "stdout",
     "output_type": "stream",
     "text": [
      "-4.2579648295609155e-16\n",
      "0.0\n"
     ]
    }
   ],
   "source": [
    "diffs = compare_methods(0)\n",
    "# Worst case examples:\n",
    "print(diffs[:,2].min())\n",
    "print(diffs[:,3].max())"
   ]
  },
  {
   "cell_type": "markdown",
   "metadata": {},
   "source": [
    "## Comparing methods\n",
    "\n",
    "This takes ~2 minutes."
   ]
  },
  {
   "cell_type": "code",
   "execution_count": 28,
   "metadata": {},
   "outputs": [],
   "source": [
    "n_per_rep = 4\n",
    "diffs = np.empty((int(n_per_rep * 100), 4))"
   ]
  },
  {
   "cell_type": "code",
   "execution_count": 29,
   "metadata": {},
   "outputs": [
    {
     "name": "stderr",
     "output_type": "stream",
     "text": [
      "100%|██████████| 100/100 [02:11<00:00,  1.37s/it]\n"
     ]
    }
   ],
   "source": [
    "for rep in tqdm(range(100)):\n",
    "    diffs_r = compare_methods(rep)\n",
    "    diffs[(rep * n_per_rep):((rep+1) * n_per_rep),:] = diffs_r"
   ]
  },
  {
   "cell_type": "markdown",
   "metadata": {},
   "source": [
    "## The results\n",
    "They appear to be extremely similar, enough so that I feel comfortable with my symbolic version."
   ]
  },
  {
   "cell_type": "code",
   "execution_count": 30,
   "metadata": {},
   "outputs": [
    {
     "name": "stdout",
     "output_type": "stream",
     "text": [
      "-4.7219454061666434e-14\n",
      "1.752071503448691e-14\n"
     ]
    }
   ],
   "source": [
    "print(diffs[:,2].min())\n",
    "print(diffs[:,3].max())"
   ]
  },
  {
   "cell_type": "markdown",
   "metadata": {},
   "source": [
    "## Write output to file\n",
    "\n",
    "To make sure the R version works, too, I'm writing to a CSV file the output from the symbolic version on the 100 datasets."
   ]
  },
  {
   "cell_type": "code",
   "execution_count": 42,
   "metadata": {},
   "outputs": [
    {
     "data": {
      "text/plain": [
       "array([[ 9.97255309e-01, -1.75653056e-04, -1.75653056e-04,\n",
       "        -1.75653056e-04,  9.97255309e-01, -1.75653056e-04,\n",
       "        -1.75653056e-04, -1.75653056e-04,  9.97255309e-01,\n",
       "         9.97255309e-01, -1.75653056e-04, -1.75653056e-04,\n",
       "        -1.75653056e-04,  9.97255309e-01, -1.75653056e-04,\n",
       "        -1.75653056e-04, -1.75653056e-04,  9.97255309e-01,\n",
       "         1.60663243e+00,  9.27146520e-03, -1.20901663e-03,\n",
       "         9.27146520e-03, -6.18695473e+00,  8.52319329e-01,\n",
       "        -1.20901663e-03,  8.52319329e-01,  1.51339457e+00,\n",
       "         9.97251834e-01, -1.88198005e-04, -1.81311180e-04,\n",
       "        -1.88198005e-04,  9.97222504e-01, -1.90971899e-04,\n",
       "        -1.81311180e-04, -1.90971899e-04,  9.97249559e-01],\n",
       "       [ 9.94402392e-01,  3.81319643e-04,  3.81319643e-04,\n",
       "         3.81319643e-04,  9.94402392e-01,  3.81319643e-04,\n",
       "         3.81319643e-04,  3.81319643e-04,  9.94402392e-01,\n",
       "         9.94402392e-01,  3.81319643e-04,  3.81319643e-04,\n",
       "         3.81319643e-04,  9.94402392e-01,  3.81319643e-04,\n",
       "         3.81319643e-04,  3.81319643e-04,  9.94402392e-01,\n",
       "         9.94402392e-01,  3.81319643e-04,  3.81319643e-04,\n",
       "         3.81319643e-04,  9.94402392e-01,  3.81319643e-04,\n",
       "         3.81319643e-04,  3.81319643e-04,  9.94402392e-01,\n",
       "         9.94402392e-01,  3.81319643e-04,  3.81319643e-04,\n",
       "         3.81319643e-04,  9.94402392e-01,  3.81319643e-04,\n",
       "         3.81319643e-04,  3.81319643e-04,  9.94402392e-01]])"
      ]
     },
     "execution_count": 42,
     "metadata": {},
     "output_type": "execute_result"
    }
   ],
   "source": [
    "n = np.sum([x.startswith(\"N\") for x in sims.columns])\n",
    "q = int(np.sum([x.startswith(\"V\") for x in sims.columns]) / n)\n",
    "s2 = 0.01\n",
    "# Output array\n",
    "results = np.zeros((100, n * q * q))\n",
    "\n",
    "for sim_i in range(100):\n",
    "    \n",
    "    # Fill info from data frame:\n",
    "    N = sims.loc[sim_i, [x.startswith(\"N\") for x in sims.columns]].values\n",
    "    V = sims.loc[sim_i, [x.startswith(\"V\") for x in sims.columns]].values\n",
    "    V = V.reshape((n, q), order = 'F')\n",
    "    f = sims.loc[sim_i,\"f\"]\n",
    "    g = sims.loc[sim_i,\"g\"]\n",
    "    eta = sims.loc[sim_i,\"eta\"]\n",
    "    d = sims.loc[sim_i,\"d\"]\n",
    "    C = np.zeros((q, q)) + eta\n",
    "    np.fill_diagonal(C,1.0)\n",
    "    CCC = C + C.T\n",
    "\n",
    "    # Fill output array:\n",
    "    for i in range(0, n):\n",
    "        Z = N[i] + np.sum([np.exp(-d * np.dot(V[j,:], V[j,:].T)) * N[j] \n",
    "            for j in range(0, N.size) if j != i])\n",
    "        sym = symbolic(i, V, Z, CCC, f, g, s2)\n",
    "        results[sim_i, (i*q*q):((i+1)*q*q)] = sym.flatten()\n",
    "\n",
    "# Make sure first and last aren't zeros:\n",
    "results[[0, 99], :]"
   ]
  },
  {
   "cell_type": "code",
   "execution_count": 43,
   "metadata": {},
   "outputs": [],
   "source": [
    "np.savetxt('results/dVi_dVi.csv', results, delimiter=',')"
   ]
  },
  {
   "cell_type": "code",
   "execution_count": null,
   "metadata": {},
   "outputs": [],
   "source": []
  }
 ],
 "metadata": {
  "kernelspec": {
   "display_name": "Python 3",
   "language": "python",
   "name": "python3"
  },
  "language_info": {
   "codemirror_mode": {
    "name": "ipython",
    "version": 3
   },
   "file_extension": ".py",
   "mimetype": "text/x-python",
   "name": "python",
   "nbconvert_exporter": "python",
   "pygments_lexer": "ipython3",
   "version": "3.7.0"
  }
 },
 "nbformat": 4,
 "nbformat_minor": 2
}
