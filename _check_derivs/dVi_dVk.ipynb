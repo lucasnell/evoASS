{
 "cells": [
  {
   "cell_type": "markdown",
   "metadata": {},
   "source": [
    "# Derivative of traits_i with respect to traits_k\n",
    "\n",
    "Here I will be testing my solution for\n",
    "$\\frac{ \\partial \\mathbf{V_{i,t+1}} }{ \\partial \\mathbf{V_{k,t}} }$\n",
    "(see below)\n",
    "by calculating the Jacobian using the `theano` package\n",
    "and comparing those results to my solution.\n",
    "\n",
    "\n",
    "\n",
    "\n",
    "## Importing packages and setting options"
   ]
  },
  {
   "cell_type": "code",
   "execution_count": 1,
   "metadata": {},
   "outputs": [
    {
     "name": "stdout",
     "output_type": "stream",
     "text": [
      "env: OMP_NUM_THREADS=4\n",
      "env: THEANO_FLAGS='openmp=True'\n"
     ]
    }
   ],
   "source": [
    "%env OMP_NUM_THREADS=4\n",
    "%env THEANO_FLAGS='openmp=True'\n",
    "import sympy\n",
    "import theano\n",
    "theano.config.cxx = \"\"\n",
    "import theano.tensor as T\n",
    "import numpy as np\n",
    "import pandas as pd\n",
    "from tqdm import tqdm\n",
    "import math\n",
    "pd.options.display.max_columns = 10"
   ]
  },
  {
   "cell_type": "markdown",
   "metadata": {},
   "source": [
    "## Equations\n",
    "\n",
    "__Notes:__\n",
    "\n",
    "- ${}^\\text{T}$ represents transpose.\n",
    "- Elements in __bold__ are matrices\n",
    "- Multiplication between matrices is always matrix multiplication, not\n",
    "  element-wise\n",
    "  \n",
    "\n",
    "The equations for (1) traits for species $i$ at time $t+1$ ($\\mathbf{V}_{i,t+1}$)\n",
    "and (2) the partial derivative of species $i$ traits with respect\n",
    "to species $k$ traits (where $k \\ne i$)\n",
    "are as follows:\n",
    "\n",
    "\\begin{align}\n",
    "\\mathbf{V}_{i,t+1} &= \\mathbf{V}_{i,t} + 2 ~ \\sigma_i^2\n",
    "    \\left[\n",
    "        \\left(\n",
    "            N_{k,t} ~ \\textrm{e}^{-\\mathbf{V}_{k,t} \\mathbf{D} \\mathbf{V}_{k,t}^\\textrm{T}} +\n",
    "            \\mathbf{\\Phi}_{i,t}\n",
    "        \\right)\n",
    "        \\left(\n",
    "            \\alpha_0 ~ \\textrm{e}^{-\\mathbf{V}_{i,t}\n",
    "            \\mathbf{V}_{i,t}^\\textrm{T}} ~ \\mathbf{V}_{i,t}\n",
    "        \\right)\n",
    "        - f \\mathbf{V}_{i,t} \\mathbf{C}\n",
    "    \\right] \\\\\n",
    "    \\mathbf{\\Phi}_{i,t} &= N_{i,t} + \\sum_{j \\ne i, j \\ne k}^{n}{\n",
    "        N_{j,t} ~ \\textrm{e}^{- \\mathbf{V}_{j,t} \\mathbf{D}\n",
    "        \\mathbf{V}_{j,t}^{\\textrm{T}}} } \\\\\n",
    "    \\frac{ \\partial\\mathbf{V}_{i,t+1} }{ \\partial\\mathbf{V}_{k,t}} &=\n",
    "        -4 ~ \\alpha_0 ~ \\sigma^2 ~ N_{k,t} ~ \n",
    "        \\mathbf{D} ~ \\mathbf{V}_{k,t}^{\\textrm{T}} ~\n",
    "        \\textrm{e}^{\n",
    "                - \\mathbf{V}_{k,t} \\mathbf{D} \\mathbf{V}_{k,t}^{\\textrm{T}}\n",
    "                - \\mathbf{V}_{i,t} \\mathbf{V}_{i,t}^{\\textrm{T}}\n",
    "            } ~\n",
    "            \\mathbf{V}_{i,t}\n",
    "\\end{align}\n"
   ]
  },
  {
   "cell_type": "markdown",
   "metadata": {},
   "source": [
    "## Read CSV of simulated datasets"
   ]
  },
  {
   "cell_type": "code",
   "execution_count": 2,
   "metadata": {},
   "outputs": [
    {
     "data": {
      "text/html": [
       "<div>\n",
       "<style scoped>\n",
       "    .dataframe tbody tr th:only-of-type {\n",
       "        vertical-align: middle;\n",
       "    }\n",
       "\n",
       "    .dataframe tbody tr th {\n",
       "        vertical-align: top;\n",
       "    }\n",
       "\n",
       "    .dataframe thead th {\n",
       "        text-align: right;\n",
       "    }\n",
       "</style>\n",
       "<table border=\"1\" class=\"dataframe\">\n",
       "  <thead>\n",
       "    <tr style=\"text-align: right;\">\n",
       "      <th></th>\n",
       "      <th>V1</th>\n",
       "      <th>V2</th>\n",
       "      <th>V3</th>\n",
       "      <th>V4</th>\n",
       "      <th>V5</th>\n",
       "      <th>...</th>\n",
       "      <th>f</th>\n",
       "      <th>a0</th>\n",
       "      <th>eta</th>\n",
       "      <th>r0</th>\n",
       "      <th>d</th>\n",
       "    </tr>\n",
       "  </thead>\n",
       "  <tbody>\n",
       "    <tr>\n",
       "      <td>0</td>\n",
       "      <td>4.945110</td>\n",
       "      <td>2.869199</td>\n",
       "      <td>6.747126</td>\n",
       "      <td>6.142522</td>\n",
       "      <td>5.629532</td>\n",
       "      <td>...</td>\n",
       "      <td>0.068890</td>\n",
       "      <td>0.112113</td>\n",
       "      <td>-0.331150</td>\n",
       "      <td>1.422746</td>\n",
       "      <td>-0.091228</td>\n",
       "    </tr>\n",
       "    <tr>\n",
       "      <td>1</td>\n",
       "      <td>0.718846</td>\n",
       "      <td>1.220364</td>\n",
       "      <td>0.815571</td>\n",
       "      <td>0.868633</td>\n",
       "      <td>0.838021</td>\n",
       "      <td>...</td>\n",
       "      <td>0.309021</td>\n",
       "      <td>0.057579</td>\n",
       "      <td>0.094811</td>\n",
       "      <td>1.237047</td>\n",
       "      <td>0.003429</td>\n",
       "    </tr>\n",
       "    <tr>\n",
       "      <td>2</td>\n",
       "      <td>3.369285</td>\n",
       "      <td>1.912974</td>\n",
       "      <td>3.131174</td>\n",
       "      <td>0.046303</td>\n",
       "      <td>1.416252</td>\n",
       "      <td>...</td>\n",
       "      <td>0.118318</td>\n",
       "      <td>0.401410</td>\n",
       "      <td>-0.036977</td>\n",
       "      <td>1.746024</td>\n",
       "      <td>0.012160</td>\n",
       "    </tr>\n",
       "    <tr>\n",
       "      <td>3</td>\n",
       "      <td>0.373669</td>\n",
       "      <td>0.283873</td>\n",
       "      <td>0.237735</td>\n",
       "      <td>0.053632</td>\n",
       "      <td>0.062281</td>\n",
       "      <td>...</td>\n",
       "      <td>0.497286</td>\n",
       "      <td>0.499730</td>\n",
       "      <td>0.117188</td>\n",
       "      <td>0.669199</td>\n",
       "      <td>0.081612</td>\n",
       "    </tr>\n",
       "    <tr>\n",
       "      <td>4</td>\n",
       "      <td>3.562637</td>\n",
       "      <td>1.635016</td>\n",
       "      <td>5.724176</td>\n",
       "      <td>4.953962</td>\n",
       "      <td>1.060083</td>\n",
       "      <td>...</td>\n",
       "      <td>0.042638</td>\n",
       "      <td>0.307171</td>\n",
       "      <td>-0.467453</td>\n",
       "      <td>0.952351</td>\n",
       "      <td>0.051834</td>\n",
       "    </tr>\n",
       "  </tbody>\n",
       "</table>\n",
       "<p>5 rows × 21 columns</p>\n",
       "</div>"
      ],
      "text/plain": [
       "         V1        V2        V3        V4        V5  ...         f        a0  \\\n",
       "0  4.945110  2.869199  6.747126  6.142522  5.629532  ...  0.068890  0.112113   \n",
       "1  0.718846  1.220364  0.815571  0.868633  0.838021  ...  0.309021  0.057579   \n",
       "2  3.369285  1.912974  3.131174  0.046303  1.416252  ...  0.118318  0.401410   \n",
       "3  0.373669  0.283873  0.237735  0.053632  0.062281  ...  0.497286  0.499730   \n",
       "4  3.562637  1.635016  5.724176  4.953962  1.060083  ...  0.042638  0.307171   \n",
       "\n",
       "        eta        r0         d  \n",
       "0 -0.331150  1.422746 -0.091228  \n",
       "1  0.094811  1.237047  0.003429  \n",
       "2 -0.036977  1.746024  0.012160  \n",
       "3  0.117188  0.669199  0.081612  \n",
       "4 -0.467453  0.952351  0.051834  \n",
       "\n",
       "[5 rows x 21 columns]"
      ]
     },
     "execution_count": 2,
     "metadata": {},
     "output_type": "execute_result"
    }
   ],
   "source": [
    "sims = pd.read_csv(\"simulated_data.csv\")\n",
    "sims.head()"
   ]
  },
  {
   "cell_type": "markdown",
   "metadata": {},
   "source": [
    "## Functions to compare methods"
   ]
  },
  {
   "cell_type": "code",
   "execution_count": 18,
   "metadata": {},
   "outputs": [],
   "source": [
    "def automatic(i, k, N, V, D, f, a0, eta, s2):\n",
    "    \"\"\"Automatic differentiation using theano pkg\"\"\"\n",
    "    Vi = V[i,:]\n",
    "    Ni = N[i]\n",
    "    Nk = N[k]\n",
    "    C = np.zeros((3, 3)) + eta\n",
    "    np.fill_diagonal(C,1.0)\n",
    "    P = [np.exp(-1 * np.dot(np.dot(V[j,:], D), V[j,:].T)) * N[j] \n",
    "         for j in range(0, N.size) if j != i and j != k]\n",
    "    P = np.sum(P) + Ni\n",
    "    Vk_ = T.dvector('Vk_')\n",
    "    Vhat = Vi + 2 * s2 * ( T.dot(Nk * T.exp(-1 * T.dot(T.dot(Vk_, D), Vk_.T)) + P, \n",
    "                              a0 * T.dot(T.exp(-1 * T.dot(Vi, Vi.T)), Vi)) -\n",
    "                       f * T.dot(Vi, C) )\n",
    "    J, updates = theano.scan(lambda i, Vhat, Vk_ : T.grad(Vhat[i], Vk_), \n",
    "                         sequences=T.arange(Vhat.shape[0]), non_sequences=[Vhat, Vk_])\n",
    "    num_fun = theano.function([Vk_], J, updates=updates)\n",
    "    out_array = num_fun(V[k,:]).T\n",
    "    return out_array"
   ]
  },
  {
   "cell_type": "code",
   "execution_count": 19,
   "metadata": {},
   "outputs": [],
   "source": [
    "def symbolic(i, k, N, V, D, a0, s2):\n",
    "    \"\"\"Symbolic differentiation using math\"\"\"\n",
    "    Vi = V[i,:]\n",
    "    Vi = Vi.reshape((1, 3))\n",
    "    Vk = V[k,:]\n",
    "    Vk = Vk.reshape((1, 3))\n",
    "    Ni = N[i]\n",
    "    Nk = N[k]\n",
    "    ZZZ = np.exp(-1 * np.dot(np.dot(Vk, D), Vk.T) - np.dot(Vi, Vi.T))\n",
    "    ZZZ = np.dot(np.dot(np.dot(D, Vk.T), ZZZ), Vi)\n",
    "    dVhat = -4 * a0 * s2 * Nk * ZZZ\n",
    "    return dVhat"
   ]
  },
  {
   "cell_type": "code",
   "execution_count": 20,
   "metadata": {},
   "outputs": [],
   "source": [
    "def compare_methods(sim_i, s2 = 0.01, abs = False):\n",
    "    \"\"\"Compare answers from symbolic and automatic methods\"\"\"\n",
    "    N = sims.loc[sim_i, [x.startswith(\"N\") for x in sims.columns]].values\n",
    "    V = sims.loc[sim_i, [x.startswith(\"V\") for x in sims.columns]].values\n",
    "    n, q = (N.size, int(V.size / N.size))\n",
    "    V = V.reshape((n, q), order = 'F')\n",
    "    f = sims.loc[sim_i,\"f\"]\n",
    "    a0 = sims.loc[sim_i,\"a0\"]\n",
    "    eta = sims.loc[sim_i,\"eta\"]\n",
    "    D = np.zeros((q, q))\n",
    "    np.fill_diagonal(D, sims.loc[sim_i,\"d\"])\n",
    "    # r0 = sims.loc[sim_i,\"r0\"]  # don't need this one now\n",
    "    diffs = np.empty((math.factorial(n) // math.factorial(n-2), 4))\n",
    "    j = 0\n",
    "    for i in range(0, n):\n",
    "        for k in [x for x in range(0, n) if x != i]:\n",
    "            num = automatic(i, k, N, V, D, f, a0, eta, s2)\n",
    "            sym = symbolic(i, k, N, V, D, a0, s2)\n",
    "            num = num.flatten()\n",
    "            sym = sym.flatten()\n",
    "            if abs:\n",
    "                diff = num - sym\n",
    "            else:\n",
    "                diff = (num - sym) / sym\n",
    "                if np.any(sym == 0):\n",
    "                    for l in [x for x in range(0, diff.size) if sym[x] == 0]:\n",
    "                        diff[l] = num[l];\n",
    "            diffs[j, 0] = i\n",
    "            diffs[j, 1] = k\n",
    "            diffs[j, 2] = diff.min()\n",
    "            diffs[j, 3] = diff.max()\n",
    "            j += 1\n",
    "    return diffs"
   ]
  },
  {
   "cell_type": "markdown",
   "metadata": {},
   "source": [
    "### Example of using `compare_methods`:"
   ]
  },
  {
   "cell_type": "code",
   "execution_count": 21,
   "metadata": {},
   "outputs": [
    {
     "name": "stdout",
     "output_type": "stream",
     "text": [
      "-3.3988825280693052e-15\n",
      "1.3113329849740812e-15\n"
     ]
    }
   ],
   "source": [
    "diffs = compare_methods(0)\n",
    "print(diffs[:,2].min())\n",
    "print(diffs[:,3].max())"
   ]
  },
  {
   "cell_type": "markdown",
   "metadata": {},
   "source": [
    "## Comparing methods\n",
    "\n",
    "This takes ~5-6 minutes."
   ]
  },
  {
   "cell_type": "code",
   "execution_count": 22,
   "metadata": {},
   "outputs": [],
   "source": [
    "n_per_rep = math.factorial(4) // math.factorial(4-2)\n",
    "diffs = np.empty((int(n_per_rep * 100), 4))"
   ]
  },
  {
   "cell_type": "code",
   "execution_count": 23,
   "metadata": {},
   "outputs": [
    {
     "name": "stderr",
     "output_type": "stream",
     "text": [
      "100%|██████████| 100/100 [10:34<00:00,  6.34s/it]\n"
     ]
    }
   ],
   "source": [
    "for rep in tqdm(range(100)):\n",
    "    diffs_r = compare_methods(rep)\n",
    "    diffs[(rep * n_per_rep):((rep+1) * n_per_rep),:] = diffs_r"
   ]
  },
  {
   "cell_type": "markdown",
   "metadata": {},
   "source": [
    "## The results\n",
    "They appear to have extremely similar values, similar enough to make me quite comfortable saying that my symbolic solution works."
   ]
  },
  {
   "cell_type": "code",
   "execution_count": 24,
   "metadata": {},
   "outputs": [
    {
     "name": "stdout",
     "output_type": "stream",
     "text": [
      "-0.00039416633819471815\n",
      "8.678295582747549e-05\n"
     ]
    }
   ],
   "source": [
    "print(diffs[:,2].min())\n",
    "print(diffs[:,3].max())"
   ]
  },
  {
   "cell_type": "markdown",
   "metadata": {},
   "source": [
    "## Write output to file\n",
    "\n",
    "To make sure the R version works, too, I'm writing to a CSV file the output from the symbolic version on the 100 datasets."
   ]
  },
  {
   "cell_type": "code",
   "execution_count": 39,
   "metadata": {},
   "outputs": [
    {
     "data": {
      "text/plain": [
       "array([-2.64267017e-07, -4.46146582e-07, -6.94742448e-08, -3.63466399e-07,\n",
       "       -6.13619109e-07, -9.55531790e-08, -7.35092604e-08, -1.24101394e-07,\n",
       "       -1.93251523e-08, -1.75653653e-07, -2.96545811e-07, -4.61783124e-08,\n",
       "       -6.10548346e-07, -1.03075314e-06, -1.60509570e-07, -1.31053657e-06,\n",
       "       -2.21250240e-06, -3.44532357e-07, -1.52004866e-07, -2.56620944e-07,\n",
       "       -3.99611855e-08, -2.93869231e-08, -4.96122273e-08, -7.72564929e-09,\n",
       "       -9.71448078e-08, -1.64003910e-07, -2.55387987e-08, -4.38690694e-03,\n",
       "       -6.03364462e-03, -1.22027443e-03, -7.40615896e-03, -1.01862501e-02,\n",
       "       -2.06011811e-03, -1.15329204e-03, -1.58620969e-03, -3.20802973e-04,\n",
       "       -1.26036310e-03, -1.73347261e-03, -3.50586162e-04, -4.38085170e-03,\n",
       "       -6.02531640e-03, -1.21859009e-03, -9.40345902e-03, -1.29332878e-02,\n",
       "       -2.61569274e-03, -1.09067657e-03, -1.50008991e-03, -3.03385678e-04,\n",
       "       -2.10859227e-04, -2.90010629e-04, -5.86531986e-05, -6.97040619e-04,\n",
       "       -9.58692637e-04, -1.93890789e-04, -9.27464217e-08, -3.22374021e-07,\n",
       "       -6.91972954e-07, -1.56578371e-07, -5.44245245e-07, -1.16821755e-06,\n",
       "       -2.43824889e-08, -8.47502344e-08, -1.81915621e-07, -4.00885360e-08,\n",
       "       -1.39342331e-07, -2.99097067e-07, -5.51367931e-08, -1.91648037e-07,\n",
       "       -4.11370799e-07, -1.11511405e-08, -3.87598565e-08, -8.31976855e-08,\n",
       "       -2.30586950e-08, -8.01489060e-08, -1.72038910e-07, -4.45791057e-09,\n",
       "       -1.54950943e-08, -3.32600815e-08, -1.47365841e-08, -5.12223738e-08,\n",
       "       -1.09948367e-07, -1.11348674e-08, -2.15269091e-09, -7.11618375e-09,\n",
       "       -1.87983469e-08, -3.63426244e-09, -1.20138377e-08, -2.92729118e-09,\n",
       "       -5.65929782e-10, -1.87080286e-09, -4.81291382e-09, -9.30475005e-10,\n",
       "       -3.07588566e-09, -6.61956409e-09, -1.27975259e-09, -4.23049799e-09,\n",
       "       -1.33877371e-09, -2.58823557e-10, -8.55597050e-10, -3.19905943e-09,\n",
       "       -6.18470422e-10, -2.04448727e-09, -1.11194980e-08, -2.14971956e-09,\n",
       "       -7.10636131e-09, -2.38679031e-08, -4.61435382e-09, -1.52537410e-08])"
      ]
     },
     "execution_count": 39,
     "metadata": {},
     "output_type": "execute_result"
    }
   ],
   "source": [
    "n = np.sum([x.startswith(\"N\") for x in sims.columns])\n",
    "q = int(np.sum([x.startswith(\"V\") for x in sims.columns]) / n)\n",
    "s2 = 0.01\n",
    "n_perms = math.factorial(n) // math.factorial(n-2)\n",
    "# Output array\n",
    "results = np.zeros((100, n_perms * q * q))\n",
    "\n",
    "for sim_i in range(100):\n",
    "    \n",
    "    # Fill info from data frame:\n",
    "    N = sims.loc[sim_i, [x.startswith(\"N\") for x in sims.columns]].values\n",
    "    V = sims.loc[sim_i, [x.startswith(\"V\") for x in sims.columns]].values\n",
    "    V = V.reshape((n, q), order = 'F')\n",
    "    a0 = sims.loc[sim_i,\"a0\"]\n",
    "    D = np.zeros((q, q))\n",
    "    np.fill_diagonal(D, sims.loc[sim_i,\"d\"])\n",
    "\n",
    "    # Fill output array:\n",
    "    j = 0\n",
    "    for i in range(0, n):\n",
    "        for k in [x for x in range(0, n) if x != i]:\n",
    "            sym = symbolic(i, k, N, V, D, a0, s2)\n",
    "            results[sim_i, (j*q*q):((j+1)*q*q)] = sym.flatten()\n",
    "            j += 1\n",
    "\n",
    "# Make sure the last row isn't zeros:\n",
    "results[99, :]"
   ]
  },
  {
   "cell_type": "code",
   "execution_count": 43,
   "metadata": {},
   "outputs": [],
   "source": [
    "np.savetxt('results/dVi_dVk.csv', results, delimiter=',')"
   ]
  },
  {
   "cell_type": "code",
   "execution_count": null,
   "metadata": {},
   "outputs": [],
   "source": []
  }
 ],
 "metadata": {
  "kernelspec": {
   "display_name": "base",
   "language": "python",
   "name": "base"
  },
  "language_info": {
   "codemirror_mode": {
    "name": "ipython",
    "version": 3
   },
   "file_extension": ".py",
   "mimetype": "text/x-python",
   "name": "python",
   "nbconvert_exporter": "python",
   "pygments_lexer": "ipython3",
   "version": "3.7.4"
  }
 },
 "nbformat": 4,
 "nbformat_minor": 2
}
