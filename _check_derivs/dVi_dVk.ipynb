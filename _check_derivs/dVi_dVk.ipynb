{
 "cells": [
  {
   "cell_type": "markdown",
   "metadata": {},
   "source": [
    "# Derivative of traits_i with respect to traits_k\n",
    "\n",
    "Here I will be testing my solution for\n",
    "$\\frac{ \\partial \\mathbf{V_{i,t+1}} }{ \\partial \\mathbf{V_{k,t}} }$\n",
    "(see below)\n",
    "by calculating the Jacobian using the `theano` package\n",
    "and comparing those results to my solution.\n",
    "\n",
    "\n",
    "\n",
    "\n",
    "## Importing packages and setting options"
   ]
  },
  {
   "cell_type": "code",
   "execution_count": 10,
   "metadata": {},
   "outputs": [
    {
     "name": "stdout",
     "output_type": "stream",
     "text": [
      "env: OMP_NUM_THREADS=4\n",
      "env: THEANO_FLAGS='openmp=True'\n"
     ]
    }
   ],
   "source": [
    "%env OMP_NUM_THREADS=4\n",
    "%env THEANO_FLAGS='openmp=True'\n",
    "import sympy\n",
    "import theano\n",
    "theano.config.cxx = \"\"\n",
    "import theano.tensor as T\n",
    "import numpy as np\n",
    "import pandas as pd\n",
    "from tqdm import tqdm\n",
    "import math\n",
    "pd.options.display.max_columns = 10"
   ]
  },
  {
   "cell_type": "markdown",
   "metadata": {},
   "source": [
    "## Equations\n",
    "\n",
    "__Notes:__\n",
    "\n",
    "- $*$ is matrix multiplication\n",
    "- ${}^\\text{T}$ represents transpose.\n",
    "- Run `vignette(\"model\", \"sauron\")` in R to see more of the model and\n",
    "  what each parameter means.\n",
    "  \n",
    "\n",
    "The equations for (1) traits for species $i$ at time $t+1$ ($\\mathbf{V_{i,t+1}}$)\n",
    "and (2) the partial derivative of species $i$ traits with respect\n",
    "to species $k$ traits (where $k \\ne i$)\n",
    "are as follows:\n",
    "\n",
    "\\begin{align}\n",
    "\\mathbf{V_{i,t+1}} &= \\mathbf{V_{i,t}} + \\sigma^2\n",
    "    \\left[\n",
    "        \\left(\n",
    "            N_k \\text{e}^{-d \\mathbf{V_{k,t}} * \\mathbf{V_{k,t}}^\\text{T}} +\n",
    "            \\mathbf{\\Xi}\n",
    "        \\right) 2 g ~ \\text{e}^{-\\mathbf{V_{i,t}} * \\mathbf{V_{i,t}}^\\text{T}} * \\mathbf{V_{i,t}} \n",
    "        - 2 ~ f \\mathbf{V_{i,t}} \\mathbf{C}\n",
    "    \\right] \\\\\n",
    "    \\mathbf{Z} &= N_i + \\sum_{j \\ne i, j \\ne k}^{n}{ N_j \\text{e}^{-d \\mathbf{V_j} * \\mathbf{V_j}^\\text{T}} } \\\\\n",
    "    \\frac{ \\partial \\mathbf{\\hat{V}_i} }{ \\partial \\mathbf{V_k} } &= -4 \\sigma^2 N_k d g\n",
    "        \\left[\n",
    "            ( \\mathbf{V_k}^\\text{T} * \\text{e}^{-d \\mathbf{V_k} * \\mathbf{V_k}^\\text{T}} ) *\n",
    "            ( \\text{e}^{ - \\mathbf{V_i} * \\mathbf{V_i}^\\text{T} } * \\mathbf{V_i} )\n",
    "        \\right]\n",
    "\\end{align}\n"
   ]
  },
  {
   "cell_type": "markdown",
   "metadata": {},
   "source": [
    "## Read CSV of simulated datasets"
   ]
  },
  {
   "cell_type": "code",
   "execution_count": 11,
   "metadata": {},
   "outputs": [
    {
     "data": {
      "text/html": [
       "<div>\n",
       "<style scoped>\n",
       "    .dataframe tbody tr th:only-of-type {\n",
       "        vertical-align: middle;\n",
       "    }\n",
       "\n",
       "    .dataframe tbody tr th {\n",
       "        vertical-align: top;\n",
       "    }\n",
       "\n",
       "    .dataframe thead th {\n",
       "        text-align: right;\n",
       "    }\n",
       "</style>\n",
       "<table border=\"1\" class=\"dataframe\">\n",
       "  <thead>\n",
       "    <tr style=\"text-align: right;\">\n",
       "      <th></th>\n",
       "      <th>V1</th>\n",
       "      <th>V2</th>\n",
       "      <th>V3</th>\n",
       "      <th>V4</th>\n",
       "      <th>V5</th>\n",
       "      <th>...</th>\n",
       "      <th>f</th>\n",
       "      <th>g</th>\n",
       "      <th>eta</th>\n",
       "      <th>r0</th>\n",
       "      <th>d</th>\n",
       "    </tr>\n",
       "  </thead>\n",
       "  <tbody>\n",
       "    <tr>\n",
       "      <th>0</th>\n",
       "      <td>5.329784</td>\n",
       "      <td>-0.593159</td>\n",
       "      <td>0.003065</td>\n",
       "      <td>1.414273</td>\n",
       "      <td>-6.458124</td>\n",
       "      <td>...</td>\n",
       "      <td>0.137235</td>\n",
       "      <td>0.104261</td>\n",
       "      <td>0.063997</td>\n",
       "      <td>0.343463</td>\n",
       "      <td>-0.118705</td>\n",
       "    </tr>\n",
       "    <tr>\n",
       "      <th>1</th>\n",
       "      <td>-1.514917</td>\n",
       "      <td>-1.024847</td>\n",
       "      <td>5.413096</td>\n",
       "      <td>-4.548136</td>\n",
       "      <td>1.542865</td>\n",
       "      <td>...</td>\n",
       "      <td>0.600063</td>\n",
       "      <td>0.197839</td>\n",
       "      <td>0.103529</td>\n",
       "      <td>0.279827</td>\n",
       "      <td>-0.158496</td>\n",
       "    </tr>\n",
       "    <tr>\n",
       "      <th>2</th>\n",
       "      <td>-9.969353</td>\n",
       "      <td>0.930724</td>\n",
       "      <td>2.855755</td>\n",
       "      <td>8.144096</td>\n",
       "      <td>3.640262</td>\n",
       "      <td>...</td>\n",
       "      <td>0.537799</td>\n",
       "      <td>0.202685</td>\n",
       "      <td>-0.088763</td>\n",
       "      <td>0.303346</td>\n",
       "      <td>-0.159742</td>\n",
       "    </tr>\n",
       "    <tr>\n",
       "      <th>3</th>\n",
       "      <td>3.821274</td>\n",
       "      <td>-3.732219</td>\n",
       "      <td>-2.680385</td>\n",
       "      <td>-1.586652</td>\n",
       "      <td>-9.755770</td>\n",
       "      <td>...</td>\n",
       "      <td>0.123312</td>\n",
       "      <td>0.117315</td>\n",
       "      <td>-0.082240</td>\n",
       "      <td>0.136664</td>\n",
       "      <td>0.103837</td>\n",
       "    </tr>\n",
       "    <tr>\n",
       "      <th>4</th>\n",
       "      <td>3.291826</td>\n",
       "      <td>0.708288</td>\n",
       "      <td>-5.281580</td>\n",
       "      <td>6.224788</td>\n",
       "      <td>-0.271641</td>\n",
       "      <td>...</td>\n",
       "      <td>0.560044</td>\n",
       "      <td>0.054967</td>\n",
       "      <td>0.046302</td>\n",
       "      <td>0.254523</td>\n",
       "      <td>-0.125201</td>\n",
       "    </tr>\n",
       "  </tbody>\n",
       "</table>\n",
       "<p>5 rows × 21 columns</p>\n",
       "</div>"
      ],
      "text/plain": [
       "         V1        V2        V3        V4        V5    ...            f  \\\n",
       "0  5.329784 -0.593159  0.003065  1.414273 -6.458124    ...     0.137235   \n",
       "1 -1.514917 -1.024847  5.413096 -4.548136  1.542865    ...     0.600063   \n",
       "2 -9.969353  0.930724  2.855755  8.144096  3.640262    ...     0.537799   \n",
       "3  3.821274 -3.732219 -2.680385 -1.586652 -9.755770    ...     0.123312   \n",
       "4  3.291826  0.708288 -5.281580  6.224788 -0.271641    ...     0.560044   \n",
       "\n",
       "          g       eta        r0         d  \n",
       "0  0.104261  0.063997  0.343463 -0.118705  \n",
       "1  0.197839  0.103529  0.279827 -0.158496  \n",
       "2  0.202685 -0.088763  0.303346 -0.159742  \n",
       "3  0.117315 -0.082240  0.136664  0.103837  \n",
       "4  0.054967  0.046302  0.254523 -0.125201  \n",
       "\n",
       "[5 rows x 21 columns]"
      ]
     },
     "execution_count": 11,
     "metadata": {},
     "output_type": "execute_result"
    }
   ],
   "source": [
    "sims = pd.read_csv(\"simulated_data.csv\")\n",
    "sims.head()"
   ]
  },
  {
   "cell_type": "markdown",
   "metadata": {},
   "source": [
    "## Functions to compare methods"
   ]
  },
  {
   "cell_type": "code",
   "execution_count": 12,
   "metadata": {},
   "outputs": [],
   "source": [
    "def automatic(i, k, N, V, d, f, g, eta, s2):\n",
    "    \"\"\"Automatic differentiation using theano pkg\"\"\"\n",
    "    Vi = V[i,:]\n",
    "    Ni = N[i]\n",
    "    Nk = N[k]\n",
    "    C = np.zeros((3, 3)) + eta\n",
    "    np.fill_diagonal(C,1.0)\n",
    "    CCC = C + C.T\n",
    "    Z = [np.exp(-d * np.dot(V[j,:], V[j,:].T)) * N[j] \n",
    "         for j in range(0, N.size) if j != i and j != k]\n",
    "    Z = np.sum(Z)\n",
    "    Vk_ = T.dvector('Vk_')\n",
    "    Vhat = Vi + s2 * ( T.dot(Ni + Nk * T.exp(-d * T.dot(Vk_, Vk_.T)) + Z, \n",
    "                              2 * g * T.dot(T.exp(-1 * T.dot(Vi, Vi.T)), Vi)) -\n",
    "                       f * T.dot(Vi, CCC) )\n",
    "    J, updates = theano.scan(lambda i, Vhat, Vk_ : T.grad(Vhat[i], Vk_), \n",
    "                         sequences=T.arange(Vhat.shape[0]), non_sequences=[Vhat, Vk_])\n",
    "    num_fun = theano.function([Vk_], J, updates=updates)\n",
    "    out_array = num_fun(V[k,:]).T\n",
    "    return out_array"
   ]
  },
  {
   "cell_type": "code",
   "execution_count": 13,
   "metadata": {},
   "outputs": [],
   "source": [
    "def symbolic(i, k, N, V, d, g, s2):\n",
    "    \"\"\"Symbolic differentiation using my brain\"\"\"\n",
    "    Vi = V[i,:]\n",
    "    Vi = Vi.reshape((1, 3))\n",
    "    Vk = V[k,:]\n",
    "    Vk = Vk.reshape((1, 3))\n",
    "    Ni = N[i]\n",
    "    Nk = N[k]\n",
    "    dVhat = -4 * s2 * Nk * d * g * np.dot(\n",
    "        np.dot(Vk.T, np.exp(-d * np.dot(Vk, Vk.T))),\n",
    "        np.dot(np.exp(-1 * np.dot(Vi, Vi.T)), Vi))\n",
    "    return dVhat"
   ]
  },
  {
   "cell_type": "code",
   "execution_count": 14,
   "metadata": {},
   "outputs": [],
   "source": [
    "def compare_methods(sim_i, s2 = 0.01, abs = False):\n",
    "    \"\"\"Compare answers from symbolic and automatic methods\"\"\"\n",
    "    N = sims.loc[sim_i, [x.startswith(\"N\") for x in sims.columns]].values\n",
    "    V = sims.loc[sim_i, [x.startswith(\"V\") for x in sims.columns]].values\n",
    "    n, q = (N.size, int(V.size / N.size))\n",
    "    V = V.reshape((n, q), order = 'F')\n",
    "    f = sims.loc[sim_i,\"f\"]\n",
    "    g = sims.loc[sim_i,\"g\"]\n",
    "    eta = sims.loc[sim_i,\"eta\"]\n",
    "    d = sims.loc[sim_i,\"d\"]\n",
    "    # r0 = sims.loc[sim_i,\"r0\"]  # don't need this one now\n",
    "    diffs = np.empty((math.factorial(n) // math.factorial(n-2), 4))\n",
    "    j = 0\n",
    "    for i in range(0, n):\n",
    "        for k in [x for x in range(0, n) if x != i]:\n",
    "            num = automatic(i, k, N, V, d, f, g, eta, s2)\n",
    "            sym = symbolic(i, k, N, V, d, g, s2)\n",
    "            if abs:\n",
    "                diff = num - sym\n",
    "            else:\n",
    "                diff = (num - sym) / sym\n",
    "            diff = diff.flatten()\n",
    "            diffs[j, 0] = i\n",
    "            diffs[j, 1] = k\n",
    "            diffs[j, 2] = diff.min()\n",
    "            diffs[j, 3] = diff.max()\n",
    "            j += 1\n",
    "    return diffs"
   ]
  },
  {
   "cell_type": "markdown",
   "metadata": {},
   "source": [
    "### Example of using `compare_methods`:"
   ]
  },
  {
   "cell_type": "code",
   "execution_count": 15,
   "metadata": {},
   "outputs": [
    {
     "name": "stdout",
     "output_type": "stream",
     "text": [
      "-2.4778570445282854e-16\n",
      "1.1029752737394025e-15\n"
     ]
    }
   ],
   "source": [
    "diffs = compare_methods(0)\n",
    "print(diffs[:,2].min())\n",
    "print(diffs[:,3].max())"
   ]
  },
  {
   "cell_type": "markdown",
   "metadata": {},
   "source": [
    "## Comparing methods\n",
    "\n",
    "This takes ~5-6 minutes."
   ]
  },
  {
   "cell_type": "code",
   "execution_count": 7,
   "metadata": {},
   "outputs": [],
   "source": [
    "n_per_rep = math.factorial(4) // math.factorial(4-2)\n",
    "diffs = np.empty((int(n_per_rep * 100), 4))"
   ]
  },
  {
   "cell_type": "code",
   "execution_count": 8,
   "metadata": {},
   "outputs": [
    {
     "name": "stderr",
     "output_type": "stream",
     "text": [
      "100%|██████████| 100/100 [05:34<00:00,  3.96s/it]\n"
     ]
    }
   ],
   "source": [
    "for rep in tqdm(range(100)):\n",
    "    diffs_r = compare_methods(rep)\n",
    "    diffs[(rep * n_per_rep):((rep+1) * n_per_rep),:] = diffs_r"
   ]
  },
  {
   "cell_type": "markdown",
   "metadata": {},
   "source": [
    "## The results\n",
    "They appear to have extremely similar values, similar enough to make me quite comfortable saying that my symbolic solution works."
   ]
  },
  {
   "cell_type": "code",
   "execution_count": 16,
   "metadata": {},
   "outputs": [
    {
     "name": "stdout",
     "output_type": "stream",
     "text": [
      "-2.4778570445282854e-16\n",
      "1.1029752737394025e-15\n"
     ]
    }
   ],
   "source": [
    "print(diffs[:,2].min())\n",
    "print(diffs[:,3].max())"
   ]
  },
  {
   "cell_type": "markdown",
   "metadata": {},
   "source": [
    "## Write output to file\n",
    "\n",
    "To make sure the R version works, too, I'm writing to a CSV file the output from the symbolic version on the 100 datasets."
   ]
  },
  {
   "cell_type": "code",
   "execution_count": 21,
   "metadata": {},
   "outputs": [
    {
     "data": {
      "text/plain": [
       "array([ 4.47658622e-78, -2.90840057e-78, -4.31334666e-78, -9.85921715e-79,\n",
       "        6.40545080e-79,  9.49969894e-79,  5.83904091e-78, -3.79357597e-78,\n",
       "       -5.62611918e-78,  6.28814669e-57, -4.08535623e-57, -6.05884824e-57,\n",
       "       -5.17308193e-57,  3.36090800e-57,  4.98444452e-57,  1.16055772e-56,\n",
       "       -7.54004627e-57, -1.11823776e-56,  4.68457429e-58, -3.04352867e-58,\n",
       "       -4.51375040e-58,  3.48253016e-58, -2.26257068e-58, -3.35553904e-58,\n",
       "       -1.08285380e-57,  7.03521045e-58,  1.04336733e-57,  1.15887929e-86,\n",
       "       -2.55231152e-87,  1.51158567e-86, -7.52914168e-87,  1.65821542e-87,\n",
       "       -9.82064549e-87, -1.11662054e-86,  2.45924100e-87, -1.45646542e-86,\n",
       "       -2.00880707e-73,  4.42418936e-74, -2.62019005e-73,  1.65258924e-73,\n",
       "       -3.63965651e-74,  2.15555687e-73, -3.70750979e-73,  8.16540604e-74,\n",
       "       -4.83589510e-73, -1.49653092e-74,  3.29595423e-75, -1.95200200e-74,\n",
       "       -1.11252672e-74,  2.45022479e-75, -1.45112564e-74,  3.45927740e-74,\n",
       "       -7.61869992e-75,  4.51211286e-74,  3.66136539e-42, -3.01210262e-42,\n",
       "        6.75751707e-42, -2.37875842e-42,  1.95693784e-42, -4.39030223e-42,\n",
       "       -3.52785301e-42,  2.90226573e-42, -6.51110293e-42, -4.51822013e-50,\n",
       "        3.71701299e-50, -8.33895184e-50,  9.95091154e-51, -8.18633584e-51,\n",
       "        1.83656771e-50, -5.89334616e-50,  4.84829060e-50, -1.08769224e-49,\n",
       "       -4.72814257e-30,  3.88971029e-30, -8.72639049e-30, -3.51491899e-30,\n",
       "        2.89162527e-30, -6.48723154e-30,  1.09292475e-29, -8.99118536e-30,\n",
       "        2.01713209e-29,  3.07507816e-44,  2.28602468e-44, -7.10813805e-44,\n",
       "       -1.99785252e-44, -1.48521109e-44,  4.61809775e-44, -2.96294485e-44,\n",
       "       -2.20266436e-44,  6.84893846e-44, -3.79472644e-52, -2.82101392e-52,\n",
       "        8.77162726e-52,  8.35749166e-53,  6.21299077e-53, -1.93185999e-52,\n",
       "       -4.94965624e-52, -3.67959308e-52,  1.14412831e-51, -5.33035562e-31,\n",
       "       -3.96260643e-31,  1.23212815e-30,  4.38513407e-31,  3.25992518e-31,\n",
       "       -1.01363727e-30, -9.83785152e-31, -7.31349586e-31,  2.27404974e-30])"
      ]
     },
     "execution_count": 21,
     "metadata": {},
     "output_type": "execute_result"
    }
   ],
   "source": [
    "n = np.sum([x.startswith(\"N\") for x in sims.columns])\n",
    "q = int(np.sum([x.startswith(\"V\") for x in sims.columns]) / n)\n",
    "s2 = 0.01\n",
    "n_perms = math.factorial(n) // math.factorial(n-2)\n",
    "# Output array\n",
    "results = np.zeros((100, n_perms * q * q))\n",
    "\n",
    "for sim_i in range(100):\n",
    "    \n",
    "    # Fill info from data frame:\n",
    "    N = sims.loc[sim_i, [x.startswith(\"N\") for x in sims.columns]].values\n",
    "    V = sims.loc[sim_i, [x.startswith(\"V\") for x in sims.columns]].values\n",
    "    V = V.reshape((n, q), order = 'F')\n",
    "    g = sims.loc[sim_i,\"g\"]\n",
    "    d = sims.loc[sim_i,\"d\"]\n",
    "\n",
    "    # Fill output array:\n",
    "    j = 0\n",
    "    for i in range(0, n):\n",
    "        for k in [x for x in range(0, n) if x != i]:\n",
    "            sym = symbolic(i, k, N, V, d, g, s2)\n",
    "            results[sim_i, (j*q*q):((j+1)*q*q)] = sym.flatten()\n",
    "            j += 1\n",
    "\n",
    "# Make sure the last row isn't zeros:\n",
    "results[99, :]"
   ]
  },
  {
   "cell_type": "code",
   "execution_count": 22,
   "metadata": {},
   "outputs": [],
   "source": [
    "np.savetxt('results/dVi_dVk.csv', results, delimiter=',')"
   ]
  },
  {
   "cell_type": "code",
   "execution_count": null,
   "metadata": {},
   "outputs": [],
   "source": []
  }
 ],
 "metadata": {
  "kernelspec": {
   "display_name": "Python 3",
   "language": "python",
   "name": "python3"
  },
  "language_info": {
   "codemirror_mode": {
    "name": "ipython",
    "version": 3
   },
   "file_extension": ".py",
   "mimetype": "text/x-python",
   "name": "python",
   "nbconvert_exporter": "python",
   "pygments_lexer": "ipython3",
   "version": "3.7.0"
  }
 },
 "nbformat": 4,
 "nbformat_minor": 2
}
