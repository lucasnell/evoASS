{
 "cells": [
  {
   "cell_type": "markdown",
   "metadata": {},
   "source": [
    "# Derivative of traits_i with respect to traits_k\n",
    "\n",
    "Here I will be testing my solution for\n",
    "$\\frac{ \\partial \\mathbf{V_{i,t+1}} }{ \\partial \\mathbf{V_{k,t}} }$\n",
    "(see below)\n",
    "by calculating the Jacobian using the `theano` package\n",
    "and comparing those results to my solution.\n",
    "\n",
    "\n",
    "\n",
    "\n",
    "## Importing packages and setting options"
   ]
  },
  {
   "cell_type": "code",
   "execution_count": 2,
   "metadata": {},
   "outputs": [
    {
     "name": "stdout",
     "output_type": "stream",
     "text": [
      "env: OMP_NUM_THREADS=4\n",
      "env: THEANO_FLAGS='openmp=True'\n"
     ]
    }
   ],
   "source": [
    "%env OMP_NUM_THREADS=4\n",
    "%env THEANO_FLAGS='openmp=True'\n",
    "import sympy\n",
    "import theano\n",
    "theano.config.cxx = \"\"\n",
    "import theano.tensor as T\n",
    "import numpy as np\n",
    "import pandas as pd\n",
    "from tqdm import tqdm\n",
    "import math\n",
    "pd.options.display.max_columns = 10"
   ]
  },
  {
   "cell_type": "markdown",
   "metadata": {},
   "source": [
    "## Equations\n",
    "\n",
    "__Notes:__\n",
    "\n",
    "- ${}^\\text{T}$ represents transpose.\n",
    "- Elements in __bold__ are matrices\n",
    "- Multiplication between matrices is always matrix multiplication, not\n",
    "  element-wise\n",
    "  \n",
    "\n",
    "The equations for (1) traits for species $i$ at time $t+1$ ($\\mathbf{V}_{i,t+1}$)\n",
    "and (2) the partial derivative of species $i$ traits with respect\n",
    "to species $k$ traits (where $k \\ne i$)\n",
    "are as follows:\n",
    "\n",
    "\\begin{align}\n",
    "\\mathbf{V}_{i,t+1} &= \\mathbf{V}_{i,t} + 2 ~ \\sigma_i^2\n",
    "    \\left[\n",
    "        \\left(\n",
    "            N_{k,t} ~ \\textrm{e}^{-\\mathbf{V}_{k,t}^\\textrm{T} \\mathbf{D} \\mathbf{V}_{k,t}} +\n",
    "            \\mathbf{\\Phi}_{i,t}\n",
    "        \\right)\n",
    "        \\left(\n",
    "            \\alpha_0 ~ \\textrm{e}^{-\\mathbf{V}_{i,t}^\\textrm{T}\n",
    "            \\mathbf{V}_{i,t}} ~ \\mathbf{V}_{i,t}^\\textrm{T}\n",
    "        \\right)\n",
    "        - f \\mathbf{V}_{i,t}^\\textrm{T} \\mathbf{C}\n",
    "    \\right] \\\\\n",
    "    \\mathbf{\\Phi}_{i,t} &= N_{i,t} + \\sum_{j \\ne i, j \\ne k}^{n}{\n",
    "        N_{j,t} ~ \\textrm{e}^{- \\mathbf{V}_{j,t}^\\textrm{T} \\mathbf{D}\n",
    "        \\mathbf{V}_{j,t} } } \\\\\n",
    "    \\frac{ \\partial\\mathbf{V}_{i,t+1} }{ \\partial\\mathbf{V}_{k,t}} &=\n",
    "        -4 ~ \\alpha_0 ~ \\sigma^2 ~ N_{k,t} ~ \n",
    "        \\mathbf{V}_{i,t}\n",
    "        \\textrm{e}^{\n",
    "                - \\mathbf{V}_{k,t}^{\\textrm{T}} \\mathbf{D} \\mathbf{V}_{k,t}\n",
    "                - \\mathbf{V}_{i,t}^{\\textrm{T}} \\mathbf{V}_{i,t}\n",
    "            }\n",
    "        \\mathbf{V}_{k,t}^{\\textrm{T}} ~ \\mathbf{D}\n",
    "\\end{align}\n"
   ]
  },
  {
   "cell_type": "markdown",
   "metadata": {},
   "source": [
    "## Read CSV of simulated datasets"
   ]
  },
  {
   "cell_type": "code",
   "execution_count": 3,
   "metadata": {},
   "outputs": [
    {
     "data": {
      "text/html": [
       "<div>\n",
       "<style scoped>\n",
       "    .dataframe tbody tr th:only-of-type {\n",
       "        vertical-align: middle;\n",
       "    }\n",
       "\n",
       "    .dataframe tbody tr th {\n",
       "        vertical-align: top;\n",
       "    }\n",
       "\n",
       "    .dataframe thead th {\n",
       "        text-align: right;\n",
       "    }\n",
       "</style>\n",
       "<table border=\"1\" class=\"dataframe\">\n",
       "  <thead>\n",
       "    <tr style=\"text-align: right;\">\n",
       "      <th></th>\n",
       "      <th>V1</th>\n",
       "      <th>V2</th>\n",
       "      <th>V3</th>\n",
       "      <th>V4</th>\n",
       "      <th>V5</th>\n",
       "      <th>...</th>\n",
       "      <th>f</th>\n",
       "      <th>a0</th>\n",
       "      <th>eta</th>\n",
       "      <th>r0</th>\n",
       "      <th>d</th>\n",
       "    </tr>\n",
       "  </thead>\n",
       "  <tbody>\n",
       "    <tr>\n",
       "      <th>0</th>\n",
       "      <td>4.945110</td>\n",
       "      <td>2.869199</td>\n",
       "      <td>6.747126</td>\n",
       "      <td>6.142522</td>\n",
       "      <td>5.629532</td>\n",
       "      <td>...</td>\n",
       "      <td>0.068890</td>\n",
       "      <td>0.112113</td>\n",
       "      <td>-0.331150</td>\n",
       "      <td>1.422746</td>\n",
       "      <td>-0.091228</td>\n",
       "    </tr>\n",
       "    <tr>\n",
       "      <th>1</th>\n",
       "      <td>0.718846</td>\n",
       "      <td>1.220364</td>\n",
       "      <td>0.815571</td>\n",
       "      <td>0.868633</td>\n",
       "      <td>0.838021</td>\n",
       "      <td>...</td>\n",
       "      <td>0.309021</td>\n",
       "      <td>0.057579</td>\n",
       "      <td>0.094811</td>\n",
       "      <td>1.237047</td>\n",
       "      <td>0.003429</td>\n",
       "    </tr>\n",
       "    <tr>\n",
       "      <th>2</th>\n",
       "      <td>3.369285</td>\n",
       "      <td>1.912974</td>\n",
       "      <td>3.131174</td>\n",
       "      <td>0.046303</td>\n",
       "      <td>1.416252</td>\n",
       "      <td>...</td>\n",
       "      <td>0.118318</td>\n",
       "      <td>0.401410</td>\n",
       "      <td>-0.036977</td>\n",
       "      <td>1.746024</td>\n",
       "      <td>0.012160</td>\n",
       "    </tr>\n",
       "    <tr>\n",
       "      <th>3</th>\n",
       "      <td>0.373669</td>\n",
       "      <td>0.283873</td>\n",
       "      <td>0.237735</td>\n",
       "      <td>0.053632</td>\n",
       "      <td>0.062281</td>\n",
       "      <td>...</td>\n",
       "      <td>0.497286</td>\n",
       "      <td>0.499730</td>\n",
       "      <td>0.117188</td>\n",
       "      <td>0.669199</td>\n",
       "      <td>0.081612</td>\n",
       "    </tr>\n",
       "    <tr>\n",
       "      <th>4</th>\n",
       "      <td>3.562637</td>\n",
       "      <td>1.635016</td>\n",
       "      <td>5.724176</td>\n",
       "      <td>4.953962</td>\n",
       "      <td>1.060083</td>\n",
       "      <td>...</td>\n",
       "      <td>0.042638</td>\n",
       "      <td>0.307171</td>\n",
       "      <td>-0.467453</td>\n",
       "      <td>0.952351</td>\n",
       "      <td>0.051834</td>\n",
       "    </tr>\n",
       "  </tbody>\n",
       "</table>\n",
       "<p>5 rows × 21 columns</p>\n",
       "</div>"
      ],
      "text/plain": [
       "         V1        V2        V3        V4        V5  ...         f        a0  \\\n",
       "0  4.945110  2.869199  6.747126  6.142522  5.629532  ...  0.068890  0.112113   \n",
       "1  0.718846  1.220364  0.815571  0.868633  0.838021  ...  0.309021  0.057579   \n",
       "2  3.369285  1.912974  3.131174  0.046303  1.416252  ...  0.118318  0.401410   \n",
       "3  0.373669  0.283873  0.237735  0.053632  0.062281  ...  0.497286  0.499730   \n",
       "4  3.562637  1.635016  5.724176  4.953962  1.060083  ...  0.042638  0.307171   \n",
       "\n",
       "        eta        r0         d  \n",
       "0 -0.331150  1.422746 -0.091228  \n",
       "1  0.094811  1.237047  0.003429  \n",
       "2 -0.036977  1.746024  0.012160  \n",
       "3  0.117188  0.669199  0.081612  \n",
       "4 -0.467453  0.952351  0.051834  \n",
       "\n",
       "[5 rows x 21 columns]"
      ]
     },
     "execution_count": 3,
     "metadata": {},
     "output_type": "execute_result"
    }
   ],
   "source": [
    "sims = pd.read_csv(\"simulated_data.csv\")\n",
    "sims.head()"
   ]
  },
  {
   "cell_type": "markdown",
   "metadata": {},
   "source": [
    "## Functions to compare methods"
   ]
  },
  {
   "cell_type": "code",
   "execution_count": 4,
   "metadata": {},
   "outputs": [],
   "source": [
    "def automatic(i, k, N, V, D, f, a0, C, s2):\n",
    "    \"\"\"Automatic differentiation using theano pkg\"\"\"\n",
    "    Vi = V[:,i]\n",
    "    Ni = N[i]\n",
    "    Nk = N[k]\n",
    "    P = [np.exp(-1 * np.dot(np.dot(V[:,j].T, D), V[:,j])) * N[j] \n",
    "         for j in range(0, N.size) if j != i and j != k]\n",
    "    P = np.sum(P) + Ni\n",
    "    Vk_ = T.dvector('Vk_')\n",
    "    Vhat = Vi + 2 * s2 * ( T.dot(Nk * T.exp(-1 * T.dot(T.dot(Vk_.T, D), Vk_)) + P, \n",
    "                              a0 * T.dot(T.exp(-1 * T.dot(Vi.T, Vi)), Vi.T)) -\n",
    "                       f * T.dot(Vi.T, C) )\n",
    "    J, updates = theano.scan(lambda i, Vhat, Vk_ : T.grad(Vhat[i], Vk_), \n",
    "                         sequences=T.arange(Vhat.shape[0]), non_sequences=[Vhat, Vk_])\n",
    "    num_fun = theano.function([Vk_], J, updates=updates)\n",
    "    out_array = num_fun(V[:,k])\n",
    "    return out_array"
   ]
  },
  {
   "cell_type": "code",
   "execution_count": 13,
   "metadata": {},
   "outputs": [],
   "source": [
    "def symbolic(i, k, N, V, D, a0, s2):\n",
    "    \"\"\"Symbolic differentiation using math\"\"\"\n",
    "    Vi = V[:,i]\n",
    "    Vi = Vi.reshape((3, 1))\n",
    "    Vk = V[:,k]\n",
    "    Vk = Vk.reshape((3, 1))\n",
    "    Ni = N[i]\n",
    "    Nk = N[k]\n",
    "    ZZZ = np.exp(-1 * Vk.T @ D @ Vk - Vi.T @ Vi)\n",
    "    ZZZ = Vi @ ZZZ @ Vk.T @ D\n",
    "    dVhat = -4 * a0 * s2 * Nk * ZZZ\n",
    "    return dVhat"
   ]
  },
  {
   "cell_type": "code",
   "execution_count": 14,
   "metadata": {},
   "outputs": [],
   "source": [
    "def compare_methods(sim_i, s2 = 0.01, abs = False):\n",
    "    \"\"\"Compare answers from symbolic and automatic methods\"\"\"\n",
    "    N = sims.loc[sim_i, [x.startswith(\"N\") for x in sims.columns]].values\n",
    "    V = sims.loc[sim_i, [x.startswith(\"V\") for x in sims.columns]].values\n",
    "    n, q = (N.size, int(V.size / N.size))\n",
    "    V = V.reshape((q, n), order = 'F')\n",
    "    f = sims.loc[sim_i,\"f\"]\n",
    "    a0 = sims.loc[sim_i,\"a0\"]\n",
    "    eta = sims.loc[sim_i,\"eta\"]\n",
    "    D = np.zeros((q, q))\n",
    "    np.fill_diagonal(D, sims.loc[sim_i,\"d\"])\n",
    "    # r0 = sims.loc[sim_i,\"r0\"]  # don't need this one now\n",
    "    diffs = np.empty((math.factorial(n) // math.factorial(n-2), 4))\n",
    "    j = 0\n",
    "    for i in range(0, n):\n",
    "        for k in [x for x in range(0, n) if x != i]:\n",
    "            num = automatic(i, k, N, V, D, f, a0, eta, s2)\n",
    "            sym = symbolic(i, k, N, V, D, a0, s2)\n",
    "            num = num.flatten()\n",
    "            sym = sym.flatten()\n",
    "            if abs:\n",
    "                diff = num - sym\n",
    "            else:\n",
    "                diff = (num - sym) / sym\n",
    "                if np.any(sym == 0):\n",
    "                    for l in [x for x in range(0, diff.size) if sym[x] == 0]:\n",
    "                        diff[l] = num[l];\n",
    "            diffs[j, 0] = i\n",
    "            diffs[j, 1] = k\n",
    "            diffs[j, 2] = diff.min()\n",
    "            diffs[j, 3] = diff.max()\n",
    "            j += 1\n",
    "    return diffs"
   ]
  },
  {
   "cell_type": "markdown",
   "metadata": {},
   "source": [
    "### Example of using `compare_methods`:"
   ]
  },
  {
   "cell_type": "code",
   "execution_count": 15,
   "metadata": {},
   "outputs": [
    {
     "name": "stdout",
     "output_type": "stream",
     "text": [
      "-6.397022784452073e-15\n",
      "6.792467255897916e-15\n"
     ]
    }
   ],
   "source": [
    "diffs = compare_methods(0)\n",
    "print(diffs[:,2].min())\n",
    "print(diffs[:,3].max())"
   ]
  },
  {
   "cell_type": "markdown",
   "metadata": {},
   "source": [
    "## Comparing methods\n",
    "\n",
    "This takes ~5-6 minutes."
   ]
  },
  {
   "cell_type": "code",
   "execution_count": 16,
   "metadata": {},
   "outputs": [],
   "source": [
    "n_per_rep = math.factorial(4) // math.factorial(4-2)\n",
    "diffs = np.empty((int(n_per_rep * 100), 4))"
   ]
  },
  {
   "cell_type": "code",
   "execution_count": 17,
   "metadata": {},
   "outputs": [
    {
     "name": "stderr",
     "output_type": "stream",
     "text": [
      "100%|██████████| 100/100 [10:24<00:00,  6.25s/it]\n"
     ]
    }
   ],
   "source": [
    "for rep in tqdm(range(100)):\n",
    "    diffs_r = compare_methods(rep)\n",
    "    diffs[(rep * n_per_rep):((rep+1) * n_per_rep),:] = diffs_r"
   ]
  },
  {
   "cell_type": "markdown",
   "metadata": {},
   "source": [
    "## The results\n",
    "They appear to have extremely similar values, similar enough to make me quite comfortable saying that my symbolic solution works."
   ]
  },
  {
   "cell_type": "code",
   "execution_count": 18,
   "metadata": {},
   "outputs": [
    {
     "name": "stdout",
     "output_type": "stream",
     "text": [
      "-2.2373345736945266e-14\n",
      "2.514702717441046e-14\n"
     ]
    }
   ],
   "source": [
    "print(diffs[:,2].min())\n",
    "print(diffs[:,3].max())"
   ]
  },
  {
   "cell_type": "markdown",
   "metadata": {},
   "source": [
    "## Write output to file\n",
    "\n",
    "To make sure the R version works, too, I'm writing to a CSV file the output from the symbolic version on the 100 datasets."
   ]
  },
  {
   "cell_type": "code",
   "execution_count": 19,
   "metadata": {},
   "outputs": [
    {
     "data": {
      "text/plain": [
       "array([-6.10780008e-04, -5.23802407e-04, -1.43344210e-04, -2.05168547e-04,\n",
       "       -1.75951697e-04, -4.81510903e-05, -1.48977726e-04, -1.27762681e-04,\n",
       "       -3.49636436e-05, -2.81323554e-03, -1.26286013e-03, -8.72343575e-04,\n",
       "       -9.45000556e-04, -4.24210311e-04, -2.93030979e-04, -6.86187216e-04,\n",
       "       -3.08029123e-04, -2.12776712e-04, -1.79030789e-05, -3.48683303e-04,\n",
       "       -2.41055308e-04, -6.01386528e-06, -1.17127027e-04, -8.09734547e-05,\n",
       "       -4.36680957e-06, -8.50486998e-05, -5.87967373e-05, -5.41178485e-10,\n",
       "       -1.81788536e-10, -1.32000948e-10, -4.64112429e-10, -1.55901096e-10,\n",
       "       -1.13203467e-10, -1.27009401e-10, -4.26640260e-11, -3.09793566e-11,\n",
       "       -5.99265592e-10, -2.69010046e-10, -1.85823576e-10, -5.13927692e-10,\n",
       "       -2.30701902e-10, -1.59361530e-10, -1.40641888e-10, -6.31340780e-11,\n",
       "       -4.36110113e-11, -3.81365123e-12, -7.42752972e-11, -5.13487584e-11,\n",
       "       -3.27057152e-12, -6.36981875e-11, -4.40364827e-11, -8.95027372e-13,\n",
       "       -1.74317000e-11, -1.20510612e-11, -4.19411564e-03, -1.40885523e-03,\n",
       "       -1.02300305e-03, -1.88273656e-03, -6.32434461e-04, -4.59225594e-04,\n",
       "       -1.30053448e-03, -4.36865592e-04, -3.17218421e-04, -1.00831897e-03,\n",
       "       -8.64730177e-04, -2.36642793e-04, -4.52633918e-04, -3.88176975e-04,\n",
       "       -1.06228840e-04, -3.12665102e-04, -2.68140297e-04, -7.33795009e-05,\n",
       "       -2.95556729e-05, -5.75631135e-04, -3.97951206e-04, -1.32675278e-05,\n",
       "       -2.58400550e-04, -1.78640112e-04, -9.16478588e-06, -1.78494874e-04,\n",
       "       -1.23398902e-04, -7.38987919e-09, -2.48235167e-09, -1.80249416e-09,\n",
       "       -1.43926500e-07, -4.83466885e-08, -3.51056720e-08, -9.95007404e-08,\n",
       "       -3.34235274e-08, -2.42696124e-08, -1.77662135e-09, -1.52362312e-09,\n",
       "       -4.16955993e-10, -3.46017689e-08, -2.96743338e-08, -8.12070334e-09,\n",
       "       -2.39212489e-08, -2.05147641e-08, -5.61408772e-09, -8.18306798e-09,\n",
       "       -3.67337542e-09, -2.53745080e-09, -1.59374775e-07, -7.15432624e-08,\n",
       "       -4.94198082e-08, -1.10180600e-07, -4.94600202e-08, -3.41654074e-08])"
      ]
     },
     "execution_count": 19,
     "metadata": {},
     "output_type": "execute_result"
    }
   ],
   "source": [
    "n = np.sum([x.startswith(\"N\") for x in sims.columns])\n",
    "q = int(np.sum([x.startswith(\"V\") for x in sims.columns]) / n)\n",
    "s2 = 0.01\n",
    "n_perms = math.factorial(n) // math.factorial(n-2)\n",
    "# Output array\n",
    "results = np.zeros((100, n_perms * q * q))\n",
    "\n",
    "for sim_i in range(100):\n",
    "    \n",
    "    # Fill info from data frame:\n",
    "    N = sims.loc[sim_i, [x.startswith(\"N\") for x in sims.columns]].values\n",
    "    V = sims.loc[sim_i, [x.startswith(\"V\") for x in sims.columns]].values\n",
    "    V = V.reshape((q, n), order = 'F')\n",
    "    a0 = sims.loc[sim_i,\"a0\"]\n",
    "    D = np.zeros((q, q))\n",
    "    np.fill_diagonal(D, sims.loc[sim_i,\"d\"])\n",
    "\n",
    "    # Fill output array:\n",
    "    j = 0\n",
    "    for i in range(0, n):\n",
    "        for k in [x for x in range(0, n) if x != i]:\n",
    "            sym = symbolic(i, k, N, V, D, a0, s2)\n",
    "            results[sim_i, (j*q*q):((j+1)*q*q)] = sym.flatten()\n",
    "            j += 1\n",
    "\n",
    "# Make sure the last row isn't zeros:\n",
    "results[99, :]"
   ]
  },
  {
   "cell_type": "code",
   "execution_count": 20,
   "metadata": {},
   "outputs": [],
   "source": [
    "np.savetxt('results/dVi_dVk.csv', results, delimiter=',')"
   ]
  },
  {
   "cell_type": "code",
   "execution_count": null,
   "metadata": {},
   "outputs": [],
   "source": []
  }
 ],
 "metadata": {
  "kernelspec": {
   "display_name": "Python 3",
   "language": "python",
   "name": "python3"
  },
  "language_info": {
   "codemirror_mode": {
    "name": "ipython",
    "version": 3
   },
   "file_extension": ".py",
   "mimetype": "text/x-python",
   "name": "python",
   "nbconvert_exporter": "python",
   "pygments_lexer": "ipython3",
   "version": "3.7.7"
  }
 },
 "nbformat": 4,
 "nbformat_minor": 2
}
