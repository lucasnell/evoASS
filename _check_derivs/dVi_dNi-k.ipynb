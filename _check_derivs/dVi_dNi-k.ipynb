{
 "cells": [
  {
   "cell_type": "markdown",
   "metadata": {},
   "source": [
    "# Derivative of traits_i with respect to abundance_i and abundance_k\n",
    "\n",
    "Here I will be testing my solutions for\n",
    "$\\frac{ \\partial \\mathbf{\\hat{V}}_i }{ \\partial N_i }$\n",
    "and\n",
    "$\\frac{ \\partial \\mathbf{\\hat{V}}_i }{ \\partial N_k }$\n",
    "(see below)\n",
    "by calculating the Jacobian using the `theano` package\n",
    "and comparing those results to my solution.\n",
    "\n",
    "\n",
    "## Importing packages and setting options"
   ]
  },
  {
   "cell_type": "code",
   "execution_count": 2,
   "metadata": {},
   "outputs": [
    {
     "name": "stdout",
     "output_type": "stream",
     "text": [
      "env: OMP_NUM_THREADS=4\n",
      "env: THEANO_FLAGS='openmp=True'\n"
     ]
    }
   ],
   "source": [
    "%env OMP_NUM_THREADS=4\n",
    "%env THEANO_FLAGS='openmp=True'\n",
    "import sympy\n",
    "import theano\n",
    "theano.config.cxx = \"\"\n",
    "import theano.tensor as T\n",
    "import numpy as np\n",
    "import pandas as pd\n",
    "from tqdm import tqdm\n",
    "import math\n",
    "pd.options.display.max_columns = 10"
   ]
  },
  {
   "cell_type": "markdown",
   "metadata": {},
   "source": [
    "## Equations\n",
    "\n",
    "__Notes:__\n",
    "\n",
    "- ${}^\\text{T}$ represents transpose.\n",
    "- Elements in __bold__ are matrices\n",
    "- Multiplication between matrices is always matrix multiplication, not\n",
    "  element-wise\n",
    "  \n",
    "\n",
    "Below are the equations for\n",
    "(1) traits for species $i$ at time $t+1$ ($\\mathbf{V}_{i,t+1}$),\n",
    "(2) the partial derivative of species $i$ traits at time $t+1$ with respect \n",
    "to species $i$ abundance at time $t$, and\n",
    "(3) the partial derivative of species $i$ traits at time $t+1$ with respect \n",
    "to species $k$ abundance at time $t$.\n",
    "\n",
    "\\begin{align}\n",
    "\\mathbf{V}_{i,t+1} &= \\mathbf{V}_{i,t} + 2 ~ \\sigma_i^2\n",
    "    \\left[\n",
    "        \\alpha_0 \\left( \n",
    "                N_{i,t} +\n",
    "                N_{k,t} \\; \\textrm{e}^{ - \\mathbf{V}_{k,t}^\\textrm{T} \\mathbf{D} \\mathbf{V}_{k,t} } +\n",
    "            \\sum_{j \\ne i, j \\ne k}^{n}{ N_{j,t} \\; \\textrm{e}^{ - \\mathbf{V}_{j,t}^\\textrm{T} \\mathbf{D} \\mathbf{V}_{j,t} } }\n",
    "            \\right) ~\n",
    "            \\textrm{e}^{-\\mathbf{V}_{i,t}^\\textrm{T} \\mathbf{V}_{i,t}} ~ \\mathbf{V}_{i,t}^\\textrm{T}\n",
    "        - f ~ \\mathbf{V}_{i,t}^\\textrm{T} \\mathbf{C}\n",
    "    \\right] \\\\\n",
    "    \\frac{ \\partial \\mathbf{V}_{i,t+1} }{ \\partial N_{i,t} } &= 2 ~ \\sigma_i^2 ~ \\alpha_0 ~ \n",
    "          \\mathbf{V}_{i,t} ~\n",
    "          \\textrm{e}^{ - \\mathbf{V}_{i,t}^{\\textrm{T}} \\mathbf{V}_{i,t} } \\\\\n",
    "    \\frac{ \\partial \\mathbf{V}_{i,t+1} }{ \\partial N_{k,t} } &= 2 ~ \\sigma_i^2 ~ \\alpha_0 ~ \n",
    "          \\mathbf{V}_{i,t} ~\n",
    "          \\textrm{e}^{ -\\mathbf{V}_{k,t}^\\textrm{T} \\mathbf{D} \\mathbf{V}_{k,t} - \n",
    "                        \\mathbf{V}_{i,t}^{\\textrm{T}} \\mathbf{V}_{i,t} } \\\\\n",
    "\\end{align}\n"
   ]
  },
  {
   "cell_type": "markdown",
   "metadata": {},
   "source": [
    "## Read CSV of simulated datasets"
   ]
  },
  {
   "cell_type": "code",
   "execution_count": 3,
   "metadata": {},
   "outputs": [
    {
     "data": {
      "text/html": [
       "<div>\n",
       "<style scoped>\n",
       "    .dataframe tbody tr th:only-of-type {\n",
       "        vertical-align: middle;\n",
       "    }\n",
       "\n",
       "    .dataframe tbody tr th {\n",
       "        vertical-align: top;\n",
       "    }\n",
       "\n",
       "    .dataframe thead th {\n",
       "        text-align: right;\n",
       "    }\n",
       "</style>\n",
       "<table border=\"1\" class=\"dataframe\">\n",
       "  <thead>\n",
       "    <tr style=\"text-align: right;\">\n",
       "      <th></th>\n",
       "      <th>V1</th>\n",
       "      <th>V2</th>\n",
       "      <th>V3</th>\n",
       "      <th>V4</th>\n",
       "      <th>V5</th>\n",
       "      <th>...</th>\n",
       "      <th>f</th>\n",
       "      <th>a0</th>\n",
       "      <th>eta</th>\n",
       "      <th>r0</th>\n",
       "      <th>d</th>\n",
       "    </tr>\n",
       "  </thead>\n",
       "  <tbody>\n",
       "    <tr>\n",
       "      <th>0</th>\n",
       "      <td>4.945110</td>\n",
       "      <td>2.869199</td>\n",
       "      <td>6.747126</td>\n",
       "      <td>6.142522</td>\n",
       "      <td>5.629532</td>\n",
       "      <td>...</td>\n",
       "      <td>0.068890</td>\n",
       "      <td>0.112113</td>\n",
       "      <td>-0.331150</td>\n",
       "      <td>1.422746</td>\n",
       "      <td>-0.091228</td>\n",
       "    </tr>\n",
       "    <tr>\n",
       "      <th>1</th>\n",
       "      <td>0.718846</td>\n",
       "      <td>1.220364</td>\n",
       "      <td>0.815571</td>\n",
       "      <td>0.868633</td>\n",
       "      <td>0.838021</td>\n",
       "      <td>...</td>\n",
       "      <td>0.309021</td>\n",
       "      <td>0.057579</td>\n",
       "      <td>0.094811</td>\n",
       "      <td>1.237047</td>\n",
       "      <td>0.003429</td>\n",
       "    </tr>\n",
       "    <tr>\n",
       "      <th>2</th>\n",
       "      <td>3.369285</td>\n",
       "      <td>1.912974</td>\n",
       "      <td>3.131174</td>\n",
       "      <td>0.046303</td>\n",
       "      <td>1.416252</td>\n",
       "      <td>...</td>\n",
       "      <td>0.118318</td>\n",
       "      <td>0.401410</td>\n",
       "      <td>-0.036977</td>\n",
       "      <td>1.746024</td>\n",
       "      <td>0.012160</td>\n",
       "    </tr>\n",
       "    <tr>\n",
       "      <th>3</th>\n",
       "      <td>0.373669</td>\n",
       "      <td>0.283873</td>\n",
       "      <td>0.237735</td>\n",
       "      <td>0.053632</td>\n",
       "      <td>0.062281</td>\n",
       "      <td>...</td>\n",
       "      <td>0.497286</td>\n",
       "      <td>0.499730</td>\n",
       "      <td>0.117188</td>\n",
       "      <td>0.669199</td>\n",
       "      <td>0.081612</td>\n",
       "    </tr>\n",
       "    <tr>\n",
       "      <th>4</th>\n",
       "      <td>3.562637</td>\n",
       "      <td>1.635016</td>\n",
       "      <td>5.724176</td>\n",
       "      <td>4.953962</td>\n",
       "      <td>1.060083</td>\n",
       "      <td>...</td>\n",
       "      <td>0.042638</td>\n",
       "      <td>0.307171</td>\n",
       "      <td>-0.467453</td>\n",
       "      <td>0.952351</td>\n",
       "      <td>0.051834</td>\n",
       "    </tr>\n",
       "  </tbody>\n",
       "</table>\n",
       "<p>5 rows × 21 columns</p>\n",
       "</div>"
      ],
      "text/plain": [
       "         V1        V2        V3        V4        V5  ...         f        a0  \\\n",
       "0  4.945110  2.869199  6.747126  6.142522  5.629532  ...  0.068890  0.112113   \n",
       "1  0.718846  1.220364  0.815571  0.868633  0.838021  ...  0.309021  0.057579   \n",
       "2  3.369285  1.912974  3.131174  0.046303  1.416252  ...  0.118318  0.401410   \n",
       "3  0.373669  0.283873  0.237735  0.053632  0.062281  ...  0.497286  0.499730   \n",
       "4  3.562637  1.635016  5.724176  4.953962  1.060083  ...  0.042638  0.307171   \n",
       "\n",
       "        eta        r0         d  \n",
       "0 -0.331150  1.422746 -0.091228  \n",
       "1  0.094811  1.237047  0.003429  \n",
       "2 -0.036977  1.746024  0.012160  \n",
       "3  0.117188  0.669199  0.081612  \n",
       "4 -0.467453  0.952351  0.051834  \n",
       "\n",
       "[5 rows x 21 columns]"
      ]
     },
     "execution_count": 3,
     "metadata": {},
     "output_type": "execute_result"
    }
   ],
   "source": [
    "sims = pd.read_csv(\"simulated_data.csv\")\n",
    "sims.head()"
   ]
  },
  {
   "cell_type": "markdown",
   "metadata": {},
   "source": [
    "---------\n",
    "\n",
    "\n",
    "# V_i / N_i\n",
    "\n",
    "\n",
    "## Functions to compare methods"
   ]
  },
  {
   "cell_type": "code",
   "execution_count": 4,
   "metadata": {},
   "outputs": [],
   "source": [
    "def automatic(i, V, N, D, C, f, a0, s2):\n",
    "    \"\"\"Automatic differentiation using theano pkg\"\"\"\n",
    "    Vi = V[:,i]\n",
    "    Nj_vec = np.array([N[j] * np.exp(-V[:,j].T @ D @ V[:,j]) for j in range(N.size) if j != i])\n",
    "    Ni = T.dscalar('Ni')\n",
    "    Vhat = Vi + 2 * s2 * (\n",
    "        ( a0 * (Ni + T.sum(Nj_vec)) * T.exp(-1 * T.dot(Vi.T, Vi)) * Vi.T) - \n",
    "        ( f * T.dot(Vi.T, C) )\n",
    "    )\n",
    "    J, updates = theano.scan(lambda i, Vhat, Ni : T.grad(Vhat[i], Ni), \n",
    "                         sequences=T.arange(Vhat.shape[0]), non_sequences=[Vhat, Ni])\n",
    "    num_fun = theano.function([Ni], J, updates=updates)\n",
    "    out_array = num_fun(N[i])\n",
    "    return out_array"
   ]
  },
  {
   "cell_type": "code",
   "execution_count": 19,
   "metadata": {},
   "outputs": [],
   "source": [
    "def symbolic(i, V, N, D, C, f, a0, s2):\n",
    "    \"\"\"Symbolic differentiation using math\"\"\"\n",
    "    q = V.shape[0]\n",
    "    I = np.identity(q)\n",
    "    Vi = V[:,i]\n",
    "    Vi = Vi.reshape((q, 1))\n",
    "    dVhat = 2 * s2 * a0 * Vi @ np.exp(-1 * Vi.T @ Vi)\n",
    "    # Using flatten just bc automatic returns a 1D vector:\n",
    "    return dVhat.flatten()"
   ]
  },
  {
   "cell_type": "code",
   "execution_count": 20,
   "metadata": {},
   "outputs": [],
   "source": [
    "def compare_methods(sim_i, s2 = 0.01, abs = False):\n",
    "    \"\"\"Compare answers from symbolic and automatic methods\"\"\"\n",
    "    \n",
    "    # Fill info from data frame:\n",
    "    N = sims.loc[sim_i, [x.startswith(\"N\") for x in sims.columns]].values\n",
    "    V = sims.loc[sim_i, [x.startswith(\"V\") for x in sims.columns]].values\n",
    "    n, q = (N.size, int(V.size / N.size))\n",
    "    V = V.reshape((q, n), order = 'F')\n",
    "    f = sims.loc[sim_i,\"f\"]\n",
    "    a0 = sims.loc[sim_i,\"a0\"]\n",
    "    eta = sims.loc[sim_i,\"eta\"]\n",
    "    d = sims.loc[sim_i,\"d\"]\n",
    "    D = np.zeros((q, q))\n",
    "    np.fill_diagonal(D, d)\n",
    "    C = np.zeros((q, q)) + eta\n",
    "    np.fill_diagonal(C,1.0)\n",
    "    \n",
    "    # Create output array:\n",
    "    diffs = np.empty((n, 4))\n",
    "    diffs[:,0] = sim_i\n",
    "    \n",
    "    # Fill output array:\n",
    "    for i in range(n):\n",
    "        auto = automatic(i, V, N, D, C, f, a0, s2)\n",
    "        sym =   symbolic(i, V, N, D, C, f, a0, s2)\n",
    "        if abs:\n",
    "            diff = auto - sym\n",
    "        else:\n",
    "            diff = (auto - sym) / sym\n",
    "        diff = diff.flatten()\n",
    "        diffs[i, 1] = i\n",
    "        diffs[i, 2] = diff.min()\n",
    "        diffs[i, 3] = diff.max()\n",
    "    \n",
    "    return diffs"
   ]
  },
  {
   "cell_type": "markdown",
   "metadata": {},
   "source": [
    "### Example of using `compare_methods`:"
   ]
  },
  {
   "cell_type": "code",
   "execution_count": 21,
   "metadata": {},
   "outputs": [
    {
     "name": "stdout",
     "output_type": "stream",
     "text": [
      "-1.830604910320897e-16\n",
      "0.0\n"
     ]
    }
   ],
   "source": [
    "diffs = compare_methods(0)\n",
    "# Worst case examples:\n",
    "print(diffs[:,2].min())\n",
    "print(diffs[:,3].max())"
   ]
  },
  {
   "cell_type": "markdown",
   "metadata": {},
   "source": [
    "## Comparing methods\n",
    "\n",
    "This takes ~2 minutes."
   ]
  },
  {
   "cell_type": "code",
   "execution_count": 22,
   "metadata": {},
   "outputs": [],
   "source": [
    "n_per_rep = 4\n",
    "diffs = np.empty((int(n_per_rep * 100), 4))"
   ]
  },
  {
   "cell_type": "code",
   "execution_count": 23,
   "metadata": {},
   "outputs": [
    {
     "name": "stderr",
     "output_type": "stream",
     "text": [
      "100%|██████████| 100/100 [01:45<00:00,  1.06s/it]\n"
     ]
    }
   ],
   "source": [
    "for rep in tqdm(range(100)):\n",
    "    diffs_r = compare_methods(rep, abs = True)\n",
    "    diffs[(rep * n_per_rep):((rep+1) * n_per_rep),:] = diffs_r"
   ]
  },
  {
   "cell_type": "markdown",
   "metadata": {},
   "source": [
    "## The results\n",
    "They appear to be extremely similar, enough so that I feel comfortable with my symbolic version."
   ]
  },
  {
   "cell_type": "code",
   "execution_count": 24,
   "metadata": {},
   "outputs": [
    {
     "name": "stdout",
     "output_type": "stream",
     "text": [
      "-4.336808689942018e-19\n",
      "8.673617379884035e-19\n"
     ]
    }
   ],
   "source": [
    "print(diffs[:,2].min())\n",
    "print(diffs[:,3].max())"
   ]
  },
  {
   "cell_type": "markdown",
   "metadata": {},
   "source": [
    "## Write output to file\n",
    "\n",
    "To make sure the R version works, too, I'm writing to a CSV file the output from the symbolic version on the 100 datasets."
   ]
  },
  {
   "cell_type": "code",
   "execution_count": 25,
   "metadata": {},
   "outputs": [
    {
     "data": {
      "text/plain": [
       "array([[1.19849875e-36, 6.95380145e-37, 1.63523596e-36, 3.38465312e-34,\n",
       "        3.10198537e-34, 1.01024677e-34, 9.73617680e-21, 8.21932008e-21,\n",
       "        1.12997543e-20, 2.10101626e-10, 3.03198443e-10, 2.70721931e-10],\n",
       "       [5.41886815e-04, 1.82026473e-04, 1.32173719e-04, 1.15430834e-10,\n",
       "        9.89930051e-11, 2.70905096e-11, 8.94585202e-04, 4.01578882e-04,\n",
       "        2.77397908e-04, 1.57622658e-09, 3.06988476e-08, 2.12230414e-08]])"
      ]
     },
     "execution_count": 25,
     "metadata": {},
     "output_type": "execute_result"
    }
   ],
   "source": [
    "n = np.sum([x.startswith(\"N\") for x in sims.columns])\n",
    "q = int(np.sum([x.startswith(\"V\") for x in sims.columns]) / n)\n",
    "s2 = 0.01\n",
    "# Output array\n",
    "results = np.zeros((100, n * q))\n",
    "\n",
    "for sim_i in range(100):\n",
    "    \n",
    "    # Fill info from data frame:\n",
    "    N = sims.loc[sim_i, [x.startswith(\"N\") for x in sims.columns]].values\n",
    "    V = sims.loc[sim_i, [x.startswith(\"V\") for x in sims.columns]].values\n",
    "    V = V.reshape((q, n), order = 'F')\n",
    "    f = sims.loc[sim_i,\"f\"]\n",
    "    a0 = sims.loc[sim_i,\"a0\"]\n",
    "    eta = sims.loc[sim_i,\"eta\"]\n",
    "    d = sims.loc[sim_i,\"d\"]\n",
    "    D = np.zeros((q, q))\n",
    "    np.fill_diagonal(D, d)\n",
    "    C = np.zeros((q, q)) + eta\n",
    "    np.fill_diagonal(C,1.0)\n",
    "\n",
    "    # Fill output array:\n",
    "    for i in range(0, n):\n",
    "        sym =   symbolic(i, V, N, D, C, f, a0, s2)\n",
    "        results[sim_i, (i*q):((i+1)*q)] = sym.flatten()\n",
    "\n",
    "# Make sure first and last aren't zeros:\n",
    "results[[0, 99], :]"
   ]
  },
  {
   "cell_type": "code",
   "execution_count": 26,
   "metadata": {},
   "outputs": [],
   "source": [
    "np.savetxt('results/dVi_dNi.csv', results, delimiter=',')"
   ]
  },
  {
   "cell_type": "code",
   "execution_count": null,
   "metadata": {},
   "outputs": [],
   "source": []
  },
  {
   "cell_type": "markdown",
   "metadata": {},
   "source": [
    "---------\n",
    "\n",
    "\n",
    "# V_i / N_k\n",
    "\n",
    "\n",
    "## Functions to compare methods"
   ]
  },
  {
   "cell_type": "code",
   "execution_count": 27,
   "metadata": {},
   "outputs": [],
   "source": [
    "def automatic(i, k, V, N, D, C, f, a0, s2):\n",
    "    \"\"\"Automatic differentiation using theano pkg\"\"\"\n",
    "    Vi = V[:,i]\n",
    "    Vk = V[:,k]\n",
    "    Nj = np.sum(np.array([N[j] * np.exp(-V[:,j].T @ D @ V[:,j]) for j in range(N.size) if j != i and j != k]))\n",
    "    Ni = N[i]\n",
    "    Nk = T.dscalar('Nk')\n",
    "    Vhat = Vi + 2 * s2 * (\n",
    "        ( a0 * (Ni + Nk * T.exp(-1 * T.dot(T.dot(Vk.T, D), Vk)) + Nj) * \n",
    "         T.exp(-1 * T.dot(Vi.T, Vi)) * Vi.T) - \n",
    "        ( f * T.dot(Vi.T, C) )\n",
    "    )\n",
    "    J, updates = theano.scan(lambda i, Vhat, Nk : T.grad(Vhat[i], Nk), \n",
    "                         sequences=T.arange(Vhat.shape[0]), non_sequences=[Vhat, Nk])\n",
    "    num_fun = theano.function([Nk], J, updates=updates)\n",
    "    out_array = num_fun(N[k])\n",
    "    return out_array"
   ]
  },
  {
   "cell_type": "code",
   "execution_count": 28,
   "metadata": {},
   "outputs": [],
   "source": [
    "def symbolic(i, k, V, N, D, C, f, a0, s2):\n",
    "    \"\"\"Symbolic differentiation using math\"\"\"\n",
    "    q = V.shape[0]\n",
    "    Vi = V[:,i]\n",
    "    Vi = Vi.reshape((q, 1))\n",
    "    Vk = V[:,k]\n",
    "    Vk = Vk.reshape((q, 1))\n",
    "    dVhat = 2 * s2 * a0 * Vi @ np.exp(-1 * Vk.T @ D @ Vk) * np.exp(- Vi.T @ Vi)\n",
    "    # Using flatten just bc automatic returns a 1D vector:\n",
    "    return dVhat.flatten()"
   ]
  },
  {
   "cell_type": "code",
   "execution_count": 29,
   "metadata": {},
   "outputs": [],
   "source": [
    "def compare_methods(sim_i, s2 = 0.01, abs = False):\n",
    "    \"\"\"Compare answers from symbolic and automatic methods\"\"\"\n",
    "    \n",
    "    # Fill info from data frame:\n",
    "    N = sims.loc[sim_i, [x.startswith(\"N\") for x in sims.columns]].values\n",
    "    V = sims.loc[sim_i, [x.startswith(\"V\") for x in sims.columns]].values\n",
    "    n, q = (N.size, int(V.size / N.size))\n",
    "    V = V.reshape((q, n), order = 'F')\n",
    "    f = sims.loc[sim_i,\"f\"]\n",
    "    a0 = sims.loc[sim_i,\"a0\"]\n",
    "    eta = sims.loc[sim_i,\"eta\"]\n",
    "    d = sims.loc[sim_i,\"d\"]\n",
    "    D = np.zeros((q, q))\n",
    "    np.fill_diagonal(D, d)\n",
    "    C = np.zeros((q, q)) + eta\n",
    "    np.fill_diagonal(C,1.0)\n",
    "    \n",
    "    # Create output array:\n",
    "    diffs = np.empty((math.factorial(n) // math.factorial(n-2), 4))\n",
    "    j = 0\n",
    "    for i in range(0, n):\n",
    "        for k in [x for x in range(0, n) if x != i]:\n",
    "            num = automatic(i, k, V, N, D, C, f, a0, s2)\n",
    "            sym = symbolic(i, k, V, N, D, C, f, a0, s2)\n",
    "            num = num.flatten()\n",
    "            sym = sym.flatten()\n",
    "            if abs:\n",
    "                diff = num - sym\n",
    "            else:\n",
    "                diff = (num - sym) / sym\n",
    "                if np.any(sym == 0):\n",
    "                    for l in [x for x in range(0, diff.size) if sym[x] == 0]:\n",
    "                        diff[l] = num[l];\n",
    "            diffs[j, 0] = i\n",
    "            diffs[j, 1] = k\n",
    "            diffs[j, 2] = diff.min()\n",
    "            diffs[j, 3] = diff.max()\n",
    "            j += 1\n",
    "    return diffs"
   ]
  },
  {
   "cell_type": "markdown",
   "metadata": {},
   "source": [
    "### Example of using `compare_methods`:"
   ]
  },
  {
   "cell_type": "code",
   "execution_count": 30,
   "metadata": {},
   "outputs": [
    {
     "name": "stdout",
     "output_type": "stream",
     "text": [
      "-2.5261016395749876e-16\n",
      "0.0\n"
     ]
    }
   ],
   "source": [
    "diffs = compare_methods(0)\n",
    "# Worst case examples:\n",
    "print(diffs[:,2].min())\n",
    "print(diffs[:,3].max())"
   ]
  },
  {
   "cell_type": "markdown",
   "metadata": {},
   "source": [
    "## Comparing methods\n",
    "\n",
    "This takes ~2 minutes."
   ]
  },
  {
   "cell_type": "code",
   "execution_count": 31,
   "metadata": {},
   "outputs": [],
   "source": [
    "n_per_rep = math.factorial(4) // math.factorial(4-2)\n",
    "diffs = np.empty((int(n_per_rep * 100), 4))"
   ]
  },
  {
   "cell_type": "code",
   "execution_count": 32,
   "metadata": {},
   "outputs": [
    {
     "name": "stderr",
     "output_type": "stream",
     "text": [
      "100%|██████████| 100/100 [07:26<00:00,  4.46s/it]\n"
     ]
    }
   ],
   "source": [
    "for rep in tqdm(range(100)):\n",
    "    diffs_r = compare_methods(rep, abs = True)\n",
    "    diffs[(rep * n_per_rep):((rep+1) * n_per_rep),:] = diffs_r"
   ]
  },
  {
   "cell_type": "markdown",
   "metadata": {},
   "source": [
    "## The results\n",
    "They appear to be extremely similar, enough so that I feel comfortable with my symbolic version."
   ]
  },
  {
   "cell_type": "code",
   "execution_count": 33,
   "metadata": {},
   "outputs": [
    {
     "name": "stdout",
     "output_type": "stream",
     "text": [
      "-1.4210854715202004e-14\n",
      "2.842170943040401e-14\n"
     ]
    }
   ],
   "source": [
    "print(diffs[:,2].min())\n",
    "print(diffs[:,3].max())"
   ]
  },
  {
   "cell_type": "markdown",
   "metadata": {},
   "source": [
    "## Write output to file\n",
    "\n",
    "To make sure the R version works, too, I'm writing to a CSV file the output from the symbolic version on the 100 datasets."
   ]
  },
  {
   "cell_type": "code",
   "execution_count": 34,
   "metadata": {},
   "outputs": [
    {
     "data": {
      "text/plain": [
       "array([[9.16907604e-34, 5.31998338e-34, 1.25103200e-33, 5.17750033e-35,\n",
       "        3.00403395e-35, 7.06419989e-35, 5.55760956e-36, 3.22457687e-36,\n",
       "        7.58282228e-36, 4.24815957e-31, 3.89337648e-31, 1.26798503e-31,\n",
       "        1.46216612e-32, 1.34005399e-32, 4.36425404e-33, 1.56951191e-33,\n",
       "        1.43843484e-33, 4.68465831e-34, 1.22201098e-17, 1.03162664e-17,\n",
       "        1.41825935e-17, 7.44863068e-18, 6.28816433e-18, 8.64484059e-18,\n",
       "        4.51480398e-20, 3.81141590e-20, 5.23985716e-20, 2.63703606e-07,\n",
       "        3.80551662e-07, 3.39789609e-07, 1.60737571e-07, 2.31960992e-07,\n",
       "        2.07114940e-07, 9.07636522e-09, 1.30981367e-08, 1.16951552e-08],\n",
       "       [9.44076844e-05, 3.17127070e-05, 2.30273453e-05, 4.28445414e-04,\n",
       "        1.43920105e-04, 1.04503786e-04, 1.57630608e-04, 5.29500678e-05,\n",
       "        3.84482944e-05, 8.59221157e-11, 7.36864509e-11, 2.01650966e-11,\n",
       "        9.12659432e-11, 7.82692952e-11, 2.14192416e-11, 3.35779207e-11,\n",
       "        2.87962858e-11, 7.88041598e-12, 6.65893599e-04, 2.98919328e-04,\n",
       "        2.06483956e-04, 1.55854904e-04, 6.99631940e-05, 4.83283472e-05,\n",
       "        2.60227792e-04, 1.16816135e-04, 8.06928675e-05, 1.17328030e-09,\n",
       "        2.28509996e-08, 1.57975869e-08, 2.74610671e-10, 5.34836249e-09,\n",
       "        3.69748468e-09, 1.24625112e-09, 2.42721914e-08, 1.67800997e-08]])"
      ]
     },
     "execution_count": 34,
     "metadata": {},
     "output_type": "execute_result"
    }
   ],
   "source": [
    "n = np.sum([x.startswith(\"N\") for x in sims.columns])\n",
    "q = int(np.sum([x.startswith(\"V\") for x in sims.columns]) / n)\n",
    "s2 = 0.01\n",
    "n_perms = math.factorial(n) // math.factorial(n-2)\n",
    "# Output array\n",
    "results = np.zeros((100, n_perms * q))\n",
    "\n",
    "for sim_i in range(100):\n",
    "    \n",
    "    # Fill info from data frame:\n",
    "    N = sims.loc[sim_i, [x.startswith(\"N\") for x in sims.columns]].values\n",
    "    V = sims.loc[sim_i, [x.startswith(\"V\") for x in sims.columns]].values\n",
    "    V = V.reshape((q, n), order = 'F')\n",
    "    f = sims.loc[sim_i,\"f\"]\n",
    "    a0 = sims.loc[sim_i,\"a0\"]\n",
    "    eta = sims.loc[sim_i,\"eta\"]\n",
    "    d = sims.loc[sim_i,\"d\"]\n",
    "    D = np.zeros((q, q))\n",
    "    np.fill_diagonal(D, d)\n",
    "    C = np.zeros((q, q)) + eta\n",
    "    np.fill_diagonal(C,1.0)\n",
    "    \n",
    "    # Fill output array:\n",
    "    j = 0\n",
    "    for i in range(0, n):\n",
    "        for k in [x for x in range(0, n) if x != i]:\n",
    "            sym = symbolic(i, k, V, N, D, C, f, a0, s2)\n",
    "            results[sim_i, (j*q):((j+1)*q)] = sym.flatten()\n",
    "            j += 1\n",
    "\n",
    "\n",
    "# Make sure first and last aren't zeros:\n",
    "results[[0, 99], :]"
   ]
  },
  {
   "cell_type": "code",
   "execution_count": 35,
   "metadata": {},
   "outputs": [],
   "source": [
    "np.savetxt('results/dVi_dNk.csv', results, delimiter=',')"
   ]
  },
  {
   "cell_type": "code",
   "execution_count": null,
   "metadata": {},
   "outputs": [],
   "source": []
  }
 ],
 "metadata": {
  "kernelspec": {
   "display_name": "Python 3",
   "language": "python",
   "name": "python3"
  },
  "language_info": {
   "codemirror_mode": {
    "name": "ipython",
    "version": 3
   },
   "file_extension": ".py",
   "mimetype": "text/x-python",
   "name": "python",
   "nbconvert_exporter": "python",
   "pygments_lexer": "ipython3",
   "version": "3.7.7"
  }
 },
 "nbformat": 4,
 "nbformat_minor": 4
}
