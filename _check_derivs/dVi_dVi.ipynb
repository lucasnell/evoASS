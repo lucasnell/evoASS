{
 "cells": [
  {
   "cell_type": "markdown",
   "metadata": {},
   "source": [
    "# Derivative of traits_i with respect to traits_i\n",
    "\n",
    "Here I will be testing my solution for\n",
    "$\\frac{ \\partial \\mathbf{\\hat{V}_i} }{ \\partial \\mathbf{V_i} }$\n",
    "(see below)\n",
    "by calculating the Jacobian using the `theano` package\n",
    "and comparing those results to my solution.\n",
    "\n",
    "\n",
    "\n",
    "\n",
    "## Importing packages and setting options"
   ]
  },
  {
   "cell_type": "code",
   "execution_count": 2,
   "metadata": {},
   "outputs": [
    {
     "name": "stdout",
     "output_type": "stream",
     "text": [
      "env: OMP_NUM_THREADS=4\n",
      "env: THEANO_FLAGS='openmp=True'\n"
     ]
    }
   ],
   "source": [
    "%env OMP_NUM_THREADS=4\n",
    "%env THEANO_FLAGS='openmp=True'\n",
    "import sympy\n",
    "import theano\n",
    "theano.config.cxx = \"\"\n",
    "import theano.tensor as T\n",
    "import numpy as np\n",
    "import pandas as pd\n",
    "from tqdm import tqdm\n",
    "import math\n",
    "pd.options.display.max_columns = 10"
   ]
  },
  {
   "cell_type": "markdown",
   "metadata": {},
   "source": [
    "## Equations\n",
    "\n",
    "__Notes:__\n",
    "\n",
    "- ${}^\\text{T}$ represents transpose.\n",
    "- Elements in __bold__ are matrices\n",
    "- Multiplication between matrices is always matrix multiplication, not\n",
    "  element-wise\n",
    "  \n",
    "\n",
    "The equations for (1) traits for species $i$ at time $t+1$ ($\\mathbf{V}_{i,t+1}$)\n",
    "and (2) the partial derivative of species $i$ traits at time $t+1$ with respect\n",
    "to species $i$ traits at time  $t$ are as follows:\n",
    "\n",
    "\\begin{align}\n",
    "\\mathbf{V}_{i,t+1} &= \\mathbf{V}_{i,t} + 2 ~ \\sigma_i^2\n",
    "    \\left[\n",
    "        \\alpha_0 ~ \\mathbf{\\Omega}_{i,t} ~\n",
    "            \\textrm{e}^{-\\mathbf{V}_{i,t} \\mathbf{V}_{i,t}^\\textrm{T}} ~ \\mathbf{V}_{i,t}\n",
    "        - f ~ \\mathbf{V}_{i,t} \\mathbf{C}\n",
    "    \\right] \\\\\n",
    "    \\frac{ \\partial \\mathbf{V}_{i,t+1} }{ \\partial \\mathbf{V}_{i,t} } &= \\mathbf{I} + 2 ~ \\sigma_i^2 ~\n",
    "        \\left[\n",
    "            \\alpha_0 ~ \\mathbf{\\Omega}_{i,t} ~ \\textrm{e}^{ - \\mathbf{V}_{i,t} \\mathbf{V}_{i,t}^{\\textrm{T}} }\n",
    "            \\left(\n",
    "                -2 ~ \\mathbf{V}_{i,t}^{\\textrm{T}} \\mathbf{V}_{i,t} + \\mathbf{I}\n",
    "            \\right) -\n",
    "            f \\mathbf{C}\n",
    "        \\right] \\\\\n",
    "    \\mathbf{\\Omega}_{i,t} &\\equiv N_{i,t} +\n",
    "            \\sum_{j \\ne i}^{n}{ N_{j,t} \\textrm{e}^{ - \\mathbf{V}_{j,t} \\mathbf{D} \\mathbf{V}_{j,t}^{\\textrm{T}} } }\n",
    "\\end{align}\n"
   ]
  },
  {
   "cell_type": "markdown",
   "metadata": {},
   "source": [
    "## Read CSV of simulated datasets"
   ]
  },
  {
   "cell_type": "code",
   "execution_count": 3,
   "metadata": {},
   "outputs": [
    {
     "data": {
      "text/html": [
       "<div>\n",
       "<style scoped>\n",
       "    .dataframe tbody tr th:only-of-type {\n",
       "        vertical-align: middle;\n",
       "    }\n",
       "\n",
       "    .dataframe tbody tr th {\n",
       "        vertical-align: top;\n",
       "    }\n",
       "\n",
       "    .dataframe thead th {\n",
       "        text-align: right;\n",
       "    }\n",
       "</style>\n",
       "<table border=\"1\" class=\"dataframe\">\n",
       "  <thead>\n",
       "    <tr style=\"text-align: right;\">\n",
       "      <th></th>\n",
       "      <th>V1</th>\n",
       "      <th>V2</th>\n",
       "      <th>V3</th>\n",
       "      <th>V4</th>\n",
       "      <th>V5</th>\n",
       "      <th>...</th>\n",
       "      <th>f</th>\n",
       "      <th>a0</th>\n",
       "      <th>eta</th>\n",
       "      <th>r0</th>\n",
       "      <th>d</th>\n",
       "    </tr>\n",
       "  </thead>\n",
       "  <tbody>\n",
       "    <tr>\n",
       "      <th>0</th>\n",
       "      <td>4.945110</td>\n",
       "      <td>2.869199</td>\n",
       "      <td>6.747126</td>\n",
       "      <td>6.142522</td>\n",
       "      <td>5.629532</td>\n",
       "      <td>...</td>\n",
       "      <td>0.068890</td>\n",
       "      <td>0.112113</td>\n",
       "      <td>-0.331150</td>\n",
       "      <td>1.422746</td>\n",
       "      <td>-0.091228</td>\n",
       "    </tr>\n",
       "    <tr>\n",
       "      <th>1</th>\n",
       "      <td>0.718846</td>\n",
       "      <td>1.220364</td>\n",
       "      <td>0.815571</td>\n",
       "      <td>0.868633</td>\n",
       "      <td>0.838021</td>\n",
       "      <td>...</td>\n",
       "      <td>0.309021</td>\n",
       "      <td>0.057579</td>\n",
       "      <td>0.094811</td>\n",
       "      <td>1.237047</td>\n",
       "      <td>0.003429</td>\n",
       "    </tr>\n",
       "    <tr>\n",
       "      <th>2</th>\n",
       "      <td>3.369285</td>\n",
       "      <td>1.912974</td>\n",
       "      <td>3.131174</td>\n",
       "      <td>0.046303</td>\n",
       "      <td>1.416252</td>\n",
       "      <td>...</td>\n",
       "      <td>0.118318</td>\n",
       "      <td>0.401410</td>\n",
       "      <td>-0.036977</td>\n",
       "      <td>1.746024</td>\n",
       "      <td>0.012160</td>\n",
       "    </tr>\n",
       "    <tr>\n",
       "      <th>3</th>\n",
       "      <td>0.373669</td>\n",
       "      <td>0.283873</td>\n",
       "      <td>0.237735</td>\n",
       "      <td>0.053632</td>\n",
       "      <td>0.062281</td>\n",
       "      <td>...</td>\n",
       "      <td>0.497286</td>\n",
       "      <td>0.499730</td>\n",
       "      <td>0.117188</td>\n",
       "      <td>0.669199</td>\n",
       "      <td>0.081612</td>\n",
       "    </tr>\n",
       "    <tr>\n",
       "      <th>4</th>\n",
       "      <td>3.562637</td>\n",
       "      <td>1.635016</td>\n",
       "      <td>5.724176</td>\n",
       "      <td>4.953962</td>\n",
       "      <td>1.060083</td>\n",
       "      <td>...</td>\n",
       "      <td>0.042638</td>\n",
       "      <td>0.307171</td>\n",
       "      <td>-0.467453</td>\n",
       "      <td>0.952351</td>\n",
       "      <td>0.051834</td>\n",
       "    </tr>\n",
       "  </tbody>\n",
       "</table>\n",
       "<p>5 rows × 21 columns</p>\n",
       "</div>"
      ],
      "text/plain": [
       "         V1        V2        V3        V4        V5  ...         f        a0  \\\n",
       "0  4.945110  2.869199  6.747126  6.142522  5.629532  ...  0.068890  0.112113   \n",
       "1  0.718846  1.220364  0.815571  0.868633  0.838021  ...  0.309021  0.057579   \n",
       "2  3.369285  1.912974  3.131174  0.046303  1.416252  ...  0.118318  0.401410   \n",
       "3  0.373669  0.283873  0.237735  0.053632  0.062281  ...  0.497286  0.499730   \n",
       "4  3.562637  1.635016  5.724176  4.953962  1.060083  ...  0.042638  0.307171   \n",
       "\n",
       "        eta        r0         d  \n",
       "0 -0.331150  1.422746 -0.091228  \n",
       "1  0.094811  1.237047  0.003429  \n",
       "2 -0.036977  1.746024  0.012160  \n",
       "3  0.117188  0.669199  0.081612  \n",
       "4 -0.467453  0.952351  0.051834  \n",
       "\n",
       "[5 rows x 21 columns]"
      ]
     },
     "execution_count": 3,
     "metadata": {},
     "output_type": "execute_result"
    }
   ],
   "source": [
    "sims = pd.read_csv(\"simulated_data.csv\")\n",
    "sims.head()"
   ]
  },
  {
   "cell_type": "markdown",
   "metadata": {},
   "source": [
    "## Functions to compare methods"
   ]
  },
  {
   "cell_type": "code",
   "execution_count": 4,
   "metadata": {},
   "outputs": [],
   "source": [
    "def automatic(i, N, V, O, C, f, a0, s2):\n",
    "    \"\"\"Automatic differentiation using theano pkg\"\"\"\n",
    "    Vi = T.dvector('Vi')\n",
    "    Vhat = Vi + 2 * s2 * (\n",
    "        ( a0 * O * T.exp(-1 * T.dot(Vi, Vi.T)) * Vi) - \n",
    "        ( f * T.dot(Vi, C) )\n",
    "    )\n",
    "    J, updates = theano.scan(lambda i, Vhat, Vi : T.grad(Vhat[i], Vi), \n",
    "                         sequences=T.arange(Vhat.shape[0]), non_sequences=[Vhat, Vi])\n",
    "    num_fun = theano.function([Vi], J, updates=updates)\n",
    "    out_array = num_fun(V[i,:]).T\n",
    "    return out_array"
   ]
  },
  {
   "cell_type": "code",
   "execution_count": 5,
   "metadata": {},
   "outputs": [],
   "source": [
    "def symbolic(i, V, O, C, f, a0, s2):\n",
    "    \"\"\"Symbolic differentiation using math\"\"\"\n",
    "    q = V.shape[1]\n",
    "    I = np.identity(q)\n",
    "    Vi = V[i,:]\n",
    "    Vi = Vi.reshape((1, q))\n",
    "    dVhat = I + 2 * s2 * (\n",
    "        ( a0 * O * np.exp(-1 * Vi @ Vi.T)[0,0] * (I - 2 * Vi.T @ Vi) ) -\n",
    "        (f * C)\n",
    "    )\n",
    "    return dVhat"
   ]
  },
  {
   "cell_type": "code",
   "execution_count": 6,
   "metadata": {},
   "outputs": [],
   "source": [
    "def compare_methods(sim_i, s2 = 0.01, abs = False):\n",
    "    \"\"\"Compare answers from symbolic and automatic methods\"\"\"\n",
    "    \n",
    "    # Fill info from data frame:\n",
    "    N = sims.loc[sim_i, [x.startswith(\"N\") for x in sims.columns]].values\n",
    "    V = sims.loc[sim_i, [x.startswith(\"V\") for x in sims.columns]].values\n",
    "    n, q = (N.size, int(V.size / N.size))\n",
    "    V = V.reshape((n, q), order = 'F')\n",
    "    f = sims.loc[sim_i,\"f\"]\n",
    "    a0 = sims.loc[sim_i,\"a0\"]\n",
    "    eta = sims.loc[sim_i,\"eta\"]\n",
    "    d = sims.loc[sim_i,\"d\"]\n",
    "    D = np.zeros((q, q))\n",
    "    np.fill_diagonal(D, d)\n",
    "    C = np.zeros((q, q)) + eta\n",
    "    np.fill_diagonal(C,1.0)\n",
    "    \n",
    "    # Create output array:\n",
    "    diffs = np.empty((n, 4))\n",
    "    diffs[:,0] = sim_i\n",
    "    \n",
    "    # Fill output array:\n",
    "    for i in range(0, n):\n",
    "        O = N[i] + np.sum([np.exp(-1 * np.dot(np.dot(V[j,:], D), V[j,:].T)) * N[j] \n",
    "            for j in range(0, N.size) if j != i])\n",
    "        auto = automatic(i, N, V, O, C, f, a0, s2)\n",
    "        sym = symbolic(i, V, O, C, f, a0, s2)\n",
    "        if abs:\n",
    "            diff = auto - sym\n",
    "        else:\n",
    "            diff = (auto - sym) / sym\n",
    "        diff = diff.flatten()\n",
    "        diffs[i, 1] = i\n",
    "        diffs[i, 2] = diff.min()\n",
    "        diffs[i, 3] = diff.max()\n",
    "    \n",
    "    return diffs"
   ]
  },
  {
   "cell_type": "code",
   "execution_count": 9,
   "metadata": {},
   "outputs": [
    {
     "name": "stdout",
     "output_type": "stream",
     "text": [
      "\n",
      " i\n",
      "0\n",
      "\n",
      " N\n",
      "[ 7.18015044  5.02769558 14.05186271  7.84885382]\n",
      "\n",
      " V\n",
      "[[4.94511003 5.62953205 4.26294319]\n",
      " [2.86919893 1.8334118  1.88296186]\n",
      " [6.74712574 3.67306824 2.71730932]\n",
      " [6.14252194 3.10081916 2.42625001]]\n",
      "\n",
      " O\n",
      "7040.411110648025\n",
      "\n",
      " C\n",
      "[[ 1.         -0.33114977 -0.33114977]\n",
      " [-0.33114977  1.         -0.33114977]\n",
      " [-0.33114977 -0.33114977  1.        ]]\n",
      "\n",
      " f\n",
      "0.06888985494151711\n",
      "\n",
      " a0\n",
      "0.11211295961402357\n",
      "\n",
      " s2\n",
      "0.01\n",
      "\n",
      "\n",
      " auto\n",
      "[[9.98622203e-01 4.56257198e-04 4.56257198e-04]\n",
      " [4.56257198e-04 9.98622203e-01 4.56257198e-04]\n",
      " [4.56257198e-04 4.56257198e-04 9.98622203e-01]]\n",
      "\n",
      " sym\n",
      "[[9.98622203e-01 4.56257198e-04 4.56257198e-04]\n",
      " [4.56257198e-04 9.98622203e-01 4.56257198e-04]\n",
      " [4.56257198e-04 4.56257198e-04 9.98622203e-01]]\n"
     ]
    }
   ],
   "source": [
    "sim_i = 0\n",
    "s2 = 0.01\n",
    "abs = False\n",
    "# Fill info from data frame:\n",
    "N = sims.loc[sim_i, [x.startswith(\"N\") for x in sims.columns]].values\n",
    "V = sims.loc[sim_i, [x.startswith(\"V\") for x in sims.columns]].values\n",
    "n, q = (N.size, int(V.size / N.size))\n",
    "V = V.reshape((n, q), order = 'F')\n",
    "f = sims.loc[sim_i,\"f\"]\n",
    "a0 = sims.loc[sim_i,\"a0\"]\n",
    "eta = sims.loc[sim_i,\"eta\"]\n",
    "d = sims.loc[sim_i,\"d\"]\n",
    "D = np.zeros((q, q))\n",
    "np.fill_diagonal(D, d)\n",
    "C = np.zeros((q, q)) + eta\n",
    "np.fill_diagonal(C,1.0)\n",
    "\n",
    "# Create output array:\n",
    "diffs = np.empty((n, 4))\n",
    "diffs[:,0] = sim_i\n",
    "\n",
    "# Fill output array:\n",
    "# for i in range(0, n):\n",
    "i = 0\n",
    "O = N[i] + np.sum([np.exp(-1 * np.dot(np.dot(V[j,:], D), V[j,:].T)) * N[j] \n",
    "    for j in range(0, N.size) if j != i])\n",
    "\n",
    "\n",
    "print(\"\\n i\")\n",
    "print(i)\n",
    "print(\"\\n N\")\n",
    "print(N)\n",
    "print(\"\\n V\")\n",
    "print(V)\n",
    "print(\"\\n O\")\n",
    "print(O)\n",
    "print(\"\\n C\")\n",
    "print(C)\n",
    "print(\"\\n f\")\n",
    "print(f)\n",
    "print(\"\\n a0\")\n",
    "print(a0)\n",
    "print(\"\\n s2\")\n",
    "print(s2)\n",
    "\n",
    "auto = automatic(i, N, V, O, C, f, a0, s2)\n",
    "sym = symbolic(i, V, O, C, f, a0, s2)\n",
    "\n",
    "print(\"\\n\\n auto\")\n",
    "print(auto)\n",
    "print(\"\\n sym\")\n",
    "print(sym)\n",
    "\n"
   ]
  },
  {
   "cell_type": "markdown",
   "metadata": {},
   "source": [
    "### Example of using `compare_methods`:"
   ]
  },
  {
   "cell_type": "code",
   "execution_count": 10,
   "metadata": {},
   "outputs": [
    {
     "name": "stdout",
     "output_type": "stream",
     "text": [
      "-2.910430995840879e-16\n",
      "1.188148020236418e-16\n"
     ]
    }
   ],
   "source": [
    "diffs = compare_methods(0)\n",
    "# Worst case examples:\n",
    "print(diffs[:,2].min())\n",
    "print(diffs[:,3].max())"
   ]
  },
  {
   "cell_type": "markdown",
   "metadata": {},
   "source": [
    "## Comparing methods\n",
    "\n",
    "This takes ~2 minutes."
   ]
  },
  {
   "cell_type": "code",
   "execution_count": 11,
   "metadata": {},
   "outputs": [],
   "source": [
    "n_per_rep = 4\n",
    "diffs = np.empty((int(n_per_rep * 100), 4))"
   ]
  },
  {
   "cell_type": "code",
   "execution_count": 12,
   "metadata": {},
   "outputs": [
    {
     "name": "stderr",
     "output_type": "stream",
     "text": [
      "100%|██████████| 100/100 [02:47<00:00,  1.68s/it]\n"
     ]
    }
   ],
   "source": [
    "for rep in tqdm(range(100)):\n",
    "    diffs_r = compare_methods(rep)\n",
    "    diffs[(rep * n_per_rep):((rep+1) * n_per_rep),:] = diffs_r"
   ]
  },
  {
   "cell_type": "markdown",
   "metadata": {},
   "source": [
    "## The results\n",
    "They appear to be extremely similar, enough so that I feel comfortable with my symbolic version."
   ]
  },
  {
   "cell_type": "code",
   "execution_count": 13,
   "metadata": {},
   "outputs": [
    {
     "name": "stdout",
     "output_type": "stream",
     "text": [
      "-2.095476089723135e-14\n",
      "1.7507984967188207e-14\n"
     ]
    }
   ],
   "source": [
    "print(diffs[:,2].min())\n",
    "print(diffs[:,3].max())"
   ]
  },
  {
   "cell_type": "markdown",
   "metadata": {},
   "source": [
    "## Write output to file\n",
    "\n",
    "To make sure the R version works, too, I'm writing to a CSV file the output from the symbolic version on the 100 datasets."
   ]
  },
  {
   "cell_type": "code",
   "execution_count": 14,
   "metadata": {},
   "outputs": [
    {
     "data": {
      "text/plain": [
       "array([[ 9.98622203e-01,  4.56257198e-04,  4.56257198e-04,\n",
       "         4.56257198e-04,  9.98622203e-01,  4.56257198e-04,\n",
       "         4.56257198e-04,  4.56257198e-04,  9.98622203e-01,\n",
       "         9.98499122e-01,  3.72522892e-04,  3.70259877e-04,\n",
       "         3.72522892e-04,  9.98576656e-01,  4.01305099e-04,\n",
       "         3.70259877e-04,  4.01305099e-04,  9.98573725e-01,\n",
       "         9.98622203e-01,  4.56257198e-04,  4.56257198e-04,\n",
       "         4.56257198e-04,  9.98622203e-01,  4.56257198e-04,\n",
       "         4.56257198e-04,  4.56257198e-04,  9.98622203e-01,\n",
       "         9.98622203e-01,  4.56257198e-04,  4.56257198e-04,\n",
       "         4.56257198e-04,  9.98622203e-01,  4.56257198e-04,\n",
       "         4.56257198e-04,  4.56257198e-04,  9.98622203e-01],\n",
       "       [ 9.96860545e-01,  6.14604274e-04,  6.65366900e-04,\n",
       "         6.14604274e-04,  9.96794653e-01,  6.58923055e-04,\n",
       "         6.65366900e-04,  6.58923055e-04,  9.96893697e-01,\n",
       "         1.03264893e+00, -8.22446029e-02, -1.60952904e-02,\n",
       "        -8.22446029e-02,  9.78892211e-01, -2.23903463e-02,\n",
       "        -1.60952904e-02, -2.23903463e-02,  1.08827264e+00,\n",
       "         9.96892642e-01,  6.69768686e-04,  6.64080965e-04,\n",
       "         6.69768686e-04,  9.96876825e-01,  6.37716220e-04,\n",
       "         6.64080965e-04,  6.37716220e-04,  9.96814620e-01,\n",
       "         9.96888837e-01,  6.74543270e-04,  6.74113491e-04,\n",
       "         6.74543270e-04,  9.96889765e-01,  6.74610542e-04,\n",
       "         6.74113491e-04,  6.74610542e-04,  9.96889407e-01]])"
      ]
     },
     "execution_count": 14,
     "metadata": {},
     "output_type": "execute_result"
    }
   ],
   "source": [
    "n = np.sum([x.startswith(\"N\") for x in sims.columns])\n",
    "q = int(np.sum([x.startswith(\"V\") for x in sims.columns]) / n)\n",
    "s2 = 0.01\n",
    "# Output array\n",
    "results = np.zeros((100, n * q * q))\n",
    "\n",
    "for sim_i in range(100):\n",
    "    \n",
    "    # Fill info from data frame:\n",
    "    N = sims.loc[sim_i, [x.startswith(\"N\") for x in sims.columns]].values\n",
    "    V = sims.loc[sim_i, [x.startswith(\"V\") for x in sims.columns]].values\n",
    "    V = V.reshape((n, q), order = 'F')\n",
    "    f = sims.loc[sim_i,\"f\"]\n",
    "    a0 = sims.loc[sim_i,\"a0\"]\n",
    "    eta = sims.loc[sim_i,\"eta\"]\n",
    "    d = sims.loc[sim_i,\"d\"]\n",
    "    C = np.zeros((q, q)) + eta\n",
    "    np.fill_diagonal(C,1.0)\n",
    "\n",
    "    # Fill output array:\n",
    "    for i in range(0, n):\n",
    "        O = N[i] + np.sum([np.exp(-d * np.dot(V[j,:], V[j,:].T)) * N[j] \n",
    "            for j in range(0, N.size) if j != i])\n",
    "        sym = symbolic(i, V, O, C, f, a0, s2)\n",
    "        results[sim_i, (i*q*q):((i+1)*q*q)] = sym.flatten()\n",
    "\n",
    "# Make sure first and last aren't zeros:\n",
    "results[[0, 99], :]"
   ]
  },
  {
   "cell_type": "code",
   "execution_count": 15,
   "metadata": {},
   "outputs": [],
   "source": [
    "np.savetxt('results/dVi_dVi.csv', results, delimiter=',')"
   ]
  },
  {
   "cell_type": "code",
   "execution_count": null,
   "metadata": {},
   "outputs": [],
   "source": []
  }
 ],
 "metadata": {
  "kernelspec": {
   "display_name": "Python 3",
   "language": "python",
   "name": "python3"
  },
  "language_info": {
   "codemirror_mode": {
    "name": "ipython",
    "version": 3
   },
   "file_extension": ".py",
   "mimetype": "text/x-python",
   "name": "python",
   "nbconvert_exporter": "python",
   "pygments_lexer": "ipython3",
   "version": "3.7.7"
  }
 },
 "nbformat": 4,
 "nbformat_minor": 2
}
