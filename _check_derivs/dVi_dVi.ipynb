{
 "cells": [
  {
   "cell_type": "markdown",
   "metadata": {},
   "source": [
    "# Derivative of traits_i with respect to traits_i\n",
    "\n",
    "Here I will be testing my solution for\n",
    "$\\frac{ \\partial \\mathbf{\\hat{V}_i} }{ \\partial \\mathbf{V_i} }$\n",
    "(see below)\n",
    "by calculating the Jacobian using the `theano` package\n",
    "and comparing those results to my solution.\n",
    "\n",
    "\n",
    "\n",
    "\n",
    "## Importing packages and setting options"
   ]
  },
  {
   "cell_type": "code",
   "execution_count": 19,
   "metadata": {},
   "outputs": [
    {
     "name": "stdout",
     "output_type": "stream",
     "text": [
      "env: OMP_NUM_THREADS=4\n",
      "env: THEANO_FLAGS='openmp=True'\n"
     ]
    }
   ],
   "source": [
    "%env OMP_NUM_THREADS=4\n",
    "%env THEANO_FLAGS='openmp=True'\n",
    "import sympy\n",
    "import theano\n",
    "theano.config.cxx = \"\"\n",
    "import theano.tensor as T\n",
    "import numpy as np\n",
    "import pandas as pd\n",
    "from tqdm import tqdm\n",
    "import math\n",
    "pd.options.display.max_columns = 10"
   ]
  },
  {
   "cell_type": "markdown",
   "metadata": {},
   "source": [
    "## Equations\n",
    "\n",
    "__Notes:__\n",
    "\n",
    "- ${}^\\text{T}$ represents transpose.\n",
    "- Elements in __bold__ are matrices\n",
    "- Multiplication between matrices is always matrix multiplication, not\n",
    "  element-wise\n",
    "  \n",
    "\n",
    "The equations for (1) traits for species $i$ at time $t+1$ ($\\mathbf{V}_{i,t+1}$)\n",
    "and (2) the partial derivative of species $i$ traits at time $t+1$ with respect\n",
    "to species $i$ traits at time  $t$ are as follows:\n",
    "\n",
    "\\begin{align}\n",
    "\\mathbf{V}_{i,t+1} &= \\mathbf{V}_{i,t} + 2 ~ \\sigma_i^2\n",
    "    \\left[\n",
    "        \\alpha_0 ~ \\mathbf{\\Omega}_{i,t} ~\n",
    "            \\textrm{e}^{-\\mathbf{V}_{i,t}^\\textrm{T} \\mathbf{V}_{i,t}} ~ \\mathbf{V}_{i,t}^\\textrm{T}\n",
    "        - f ~ \\mathbf{V}_{i,t}^\\textrm{T} \\mathbf{C}\n",
    "    \\right] \\\\\n",
    "    \\frac{ \\partial \\mathbf{V}_{i,t+1} }{ \\partial \\mathbf{V}_{i,t} } &= \\mathbf{I} + 2 ~ \\sigma_i^2 ~\n",
    "        \\left[\n",
    "            \\alpha_0 ~ \\mathbf{\\Omega}_{i,t} ~ \\textrm{e}^{ - \\mathbf{V}_{i,t}^{\\textrm{T}} \\mathbf{V}_{i,t} }\n",
    "            \\left(\n",
    "                \\mathbf{I} - 2 ~ \\mathbf{V}_{i,t} \\mathbf{V}_{i,t}^{\\textrm{T}}\n",
    "            \\right) -\n",
    "            f \\: \\mathbf{C}^{\\textrm{T}}\n",
    "        \\right] \\\\\n",
    "    \\mathbf{\\Omega}_{i,t} &\\equiv N_{i,t} +\n",
    "            \\sum_{j \\ne i}^{n}{ N_{j,t} \\; \\textrm{e}^{ - \\mathbf{V}_{j,t}^\\textrm{T} \\mathbf{D} \\mathbf{V}_{j,t} } }\n",
    "\\end{align}\n"
   ]
  },
  {
   "cell_type": "markdown",
   "metadata": {},
   "source": [
    "## Read CSV of simulated datasets"
   ]
  },
  {
   "cell_type": "code",
   "execution_count": 20,
   "metadata": {},
   "outputs": [
    {
     "data": {
      "text/html": [
       "<div>\n",
       "<style scoped>\n",
       "    .dataframe tbody tr th:only-of-type {\n",
       "        vertical-align: middle;\n",
       "    }\n",
       "\n",
       "    .dataframe tbody tr th {\n",
       "        vertical-align: top;\n",
       "    }\n",
       "\n",
       "    .dataframe thead th {\n",
       "        text-align: right;\n",
       "    }\n",
       "</style>\n",
       "<table border=\"1\" class=\"dataframe\">\n",
       "  <thead>\n",
       "    <tr style=\"text-align: right;\">\n",
       "      <th></th>\n",
       "      <th>V1</th>\n",
       "      <th>V2</th>\n",
       "      <th>V3</th>\n",
       "      <th>V4</th>\n",
       "      <th>V5</th>\n",
       "      <th>...</th>\n",
       "      <th>f</th>\n",
       "      <th>a0</th>\n",
       "      <th>eta</th>\n",
       "      <th>r0</th>\n",
       "      <th>d</th>\n",
       "    </tr>\n",
       "  </thead>\n",
       "  <tbody>\n",
       "    <tr>\n",
       "      <th>0</th>\n",
       "      <td>4.945110</td>\n",
       "      <td>2.869199</td>\n",
       "      <td>6.747126</td>\n",
       "      <td>6.142522</td>\n",
       "      <td>5.629532</td>\n",
       "      <td>...</td>\n",
       "      <td>0.068890</td>\n",
       "      <td>0.112113</td>\n",
       "      <td>-0.331150</td>\n",
       "      <td>1.422746</td>\n",
       "      <td>-0.091228</td>\n",
       "    </tr>\n",
       "    <tr>\n",
       "      <th>1</th>\n",
       "      <td>0.718846</td>\n",
       "      <td>1.220364</td>\n",
       "      <td>0.815571</td>\n",
       "      <td>0.868633</td>\n",
       "      <td>0.838021</td>\n",
       "      <td>...</td>\n",
       "      <td>0.309021</td>\n",
       "      <td>0.057579</td>\n",
       "      <td>0.094811</td>\n",
       "      <td>1.237047</td>\n",
       "      <td>0.003429</td>\n",
       "    </tr>\n",
       "    <tr>\n",
       "      <th>2</th>\n",
       "      <td>3.369285</td>\n",
       "      <td>1.912974</td>\n",
       "      <td>3.131174</td>\n",
       "      <td>0.046303</td>\n",
       "      <td>1.416252</td>\n",
       "      <td>...</td>\n",
       "      <td>0.118318</td>\n",
       "      <td>0.401410</td>\n",
       "      <td>-0.036977</td>\n",
       "      <td>1.746024</td>\n",
       "      <td>0.012160</td>\n",
       "    </tr>\n",
       "    <tr>\n",
       "      <th>3</th>\n",
       "      <td>0.373669</td>\n",
       "      <td>0.283873</td>\n",
       "      <td>0.237735</td>\n",
       "      <td>0.053632</td>\n",
       "      <td>0.062281</td>\n",
       "      <td>...</td>\n",
       "      <td>0.497286</td>\n",
       "      <td>0.499730</td>\n",
       "      <td>0.117188</td>\n",
       "      <td>0.669199</td>\n",
       "      <td>0.081612</td>\n",
       "    </tr>\n",
       "    <tr>\n",
       "      <th>4</th>\n",
       "      <td>3.562637</td>\n",
       "      <td>1.635016</td>\n",
       "      <td>5.724176</td>\n",
       "      <td>4.953962</td>\n",
       "      <td>1.060083</td>\n",
       "      <td>...</td>\n",
       "      <td>0.042638</td>\n",
       "      <td>0.307171</td>\n",
       "      <td>-0.467453</td>\n",
       "      <td>0.952351</td>\n",
       "      <td>0.051834</td>\n",
       "    </tr>\n",
       "  </tbody>\n",
       "</table>\n",
       "<p>5 rows × 21 columns</p>\n",
       "</div>"
      ],
      "text/plain": [
       "         V1        V2        V3        V4        V5  ...         f        a0  \\\n",
       "0  4.945110  2.869199  6.747126  6.142522  5.629532  ...  0.068890  0.112113   \n",
       "1  0.718846  1.220364  0.815571  0.868633  0.838021  ...  0.309021  0.057579   \n",
       "2  3.369285  1.912974  3.131174  0.046303  1.416252  ...  0.118318  0.401410   \n",
       "3  0.373669  0.283873  0.237735  0.053632  0.062281  ...  0.497286  0.499730   \n",
       "4  3.562637  1.635016  5.724176  4.953962  1.060083  ...  0.042638  0.307171   \n",
       "\n",
       "        eta        r0         d  \n",
       "0 -0.331150  1.422746 -0.091228  \n",
       "1  0.094811  1.237047  0.003429  \n",
       "2 -0.036977  1.746024  0.012160  \n",
       "3  0.117188  0.669199  0.081612  \n",
       "4 -0.467453  0.952351  0.051834  \n",
       "\n",
       "[5 rows x 21 columns]"
      ]
     },
     "execution_count": 20,
     "metadata": {},
     "output_type": "execute_result"
    }
   ],
   "source": [
    "sims = pd.read_csv(\"simulated_data.csv\")\n",
    "sims.head()"
   ]
  },
  {
   "cell_type": "markdown",
   "metadata": {},
   "source": [
    "## Functions to compare methods"
   ]
  },
  {
   "cell_type": "code",
   "execution_count": 21,
   "metadata": {},
   "outputs": [],
   "source": [
    "def automatic(i, N, V, O, C, f, a0, s2):\n",
    "    \"\"\"Automatic differentiation using theano pkg\"\"\"\n",
    "    Vi = T.dvector('Vi')\n",
    "    Vhat = Vi + 2 * s2 * (\n",
    "        ( a0 * O * T.exp(-1 * T.dot(Vi.T, Vi)) * Vi.T) - \n",
    "        ( f * T.dot(Vi.T, C) )\n",
    "    )\n",
    "    J, updates = theano.scan(lambda i, Vhat, Vi : T.grad(Vhat[i], Vi), \n",
    "                         sequences=T.arange(Vhat.shape[0]), non_sequences=[Vhat, Vi])\n",
    "    num_fun = theano.function([Vi], J, updates=updates)\n",
    "    out_array = num_fun(V[:,i])\n",
    "    return out_array"
   ]
  },
  {
   "cell_type": "code",
   "execution_count": 25,
   "metadata": {},
   "outputs": [],
   "source": [
    "def symbolic(i, V, O, C, f, a0, s2):\n",
    "    \"\"\"Symbolic differentiation using math\"\"\"\n",
    "    q = V.shape[0]\n",
    "    I = np.identity(q)\n",
    "    Vi = V[:,i]\n",
    "    Vi = Vi.reshape((q, 1))\n",
    "    dVhat = I + 2 * s2 * (\n",
    "        ( a0 * O * np.exp(-1 * Vi.T @ Vi)[0,0] * (I - 2 * Vi @ Vi.T) ) -\n",
    "        (f * C.T)\n",
    "    )\n",
    "    return dVhat"
   ]
  },
  {
   "cell_type": "code",
   "execution_count": 26,
   "metadata": {},
   "outputs": [],
   "source": [
    "def compare_methods(sim_i, s2 = 0.01, abs = False):\n",
    "    \"\"\"Compare answers from symbolic and automatic methods\"\"\"\n",
    "    \n",
    "    # Fill info from data frame:\n",
    "    N = sims.loc[sim_i, [x.startswith(\"N\") for x in sims.columns]].values\n",
    "    V = sims.loc[sim_i, [x.startswith(\"V\") for x in sims.columns]].values\n",
    "    n, q = (N.size, int(V.size / N.size))\n",
    "    V = V.reshape((q, n), order = 'F')\n",
    "    f = sims.loc[sim_i,\"f\"]\n",
    "    a0 = sims.loc[sim_i,\"a0\"]\n",
    "    eta = sims.loc[sim_i,\"eta\"]\n",
    "    d = sims.loc[sim_i,\"d\"]\n",
    "    D = np.zeros((q, q))\n",
    "    np.fill_diagonal(D, d)\n",
    "    C = np.zeros((q, q)) + eta\n",
    "    np.fill_diagonal(C,1.0)\n",
    "    \n",
    "    # Create output array:\n",
    "    diffs = np.empty((n, 4))\n",
    "    diffs[:,0] = sim_i\n",
    "    \n",
    "    # Fill output array:\n",
    "    for i in range(0, n):\n",
    "        O = N[i] + np.sum([np.exp(-1 * np.dot(np.dot(V[:,j].T, D), V[:,j])) * N[j] \n",
    "            for j in range(0, N.size) if j != i])\n",
    "        auto = automatic(i, N, V, O, C, f, a0, s2)\n",
    "        sym = symbolic(i, V, O, C, f, a0, s2)\n",
    "        if abs:\n",
    "            diff = auto - sym\n",
    "        else:\n",
    "            diff = (auto - sym) / sym\n",
    "        diff = diff.flatten()\n",
    "        diffs[i, 1] = i\n",
    "        diffs[i, 2] = diff.min()\n",
    "        diffs[i, 3] = diff.max()\n",
    "    \n",
    "    return diffs"
   ]
  },
  {
   "cell_type": "markdown",
   "metadata": {},
   "source": [
    "### Example of using `compare_methods`:"
   ]
  },
  {
   "cell_type": "code",
   "execution_count": 28,
   "metadata": {},
   "outputs": [
    {
     "name": "stdout",
     "output_type": "stream",
     "text": [
      "0.0\n",
      "1.242113716418726e-16\n"
     ]
    }
   ],
   "source": [
    "diffs = compare_methods(0)\n",
    "# Worst case examples:\n",
    "print(diffs[:,2].min())\n",
    "print(diffs[:,3].max())"
   ]
  },
  {
   "cell_type": "markdown",
   "metadata": {},
   "source": [
    "## Comparing methods\n",
    "\n",
    "This takes ~2 minutes."
   ]
  },
  {
   "cell_type": "code",
   "execution_count": 29,
   "metadata": {},
   "outputs": [],
   "source": [
    "n_per_rep = 4\n",
    "diffs = np.empty((int(n_per_rep * 100), 4))"
   ]
  },
  {
   "cell_type": "code",
   "execution_count": 30,
   "metadata": {},
   "outputs": [
    {
     "name": "stderr",
     "output_type": "stream",
     "text": [
      " 43%|████▎     | 43/100 [01:56<02:46,  2.92s/it]INFO (theano.gof.compilelock): Waiting for existing lock by process '51286' (I am process '50793')\n",
      "INFO (theano.gof.compilelock): To manually release the lock, delete /Users/lucasnell/.theano/compiledir_Darwin-19.4.0-x86_64-i386-64bit-i386-3.7.7-64/lock_dir\n",
      "100%|██████████| 100/100 [05:09<00:00,  3.09s/it]\n"
     ]
    }
   ],
   "source": [
    "for rep in tqdm(range(100)):\n",
    "    diffs_r = compare_methods(rep)\n",
    "    diffs[(rep * n_per_rep):((rep+1) * n_per_rep),:] = diffs_r"
   ]
  },
  {
   "cell_type": "markdown",
   "metadata": {},
   "source": [
    "## The results\n",
    "They appear to be extremely similar, enough so that I feel comfortable with my symbolic version."
   ]
  },
  {
   "cell_type": "code",
   "execution_count": 34,
   "metadata": {},
   "outputs": [
    {
     "name": "stdout",
     "output_type": "stream",
     "text": [
      "-3.607093518239362e-14\n",
      "8.778068698894372e-15\n"
     ]
    }
   ],
   "source": [
    "print(diffs[:,2].min())\n",
    "print(diffs[:,3].max())"
   ]
  },
  {
   "cell_type": "markdown",
   "metadata": {},
   "source": [
    "## Write output to file\n",
    "\n",
    "To make sure the R version works, too, I'm writing to a CSV file the output from the symbolic version on the 100 datasets."
   ]
  },
  {
   "cell_type": "code",
   "execution_count": 35,
   "metadata": {},
   "outputs": [
    {
     "data": {
      "text/plain": [
       "array([[ 9.98622203e-01,  4.56257198e-04,  4.56257198e-04,\n",
       "         4.56257198e-04,  9.98622203e-01,  4.56257198e-04,\n",
       "         4.56257198e-04,  4.56257198e-04,  9.98622203e-01,\n",
       "         9.98622203e-01,  4.56257198e-04,  4.56257198e-04,\n",
       "         4.56257198e-04,  9.98622203e-01,  4.56257198e-04,\n",
       "         4.56257198e-04,  4.56257198e-04,  9.98622203e-01,\n",
       "         9.98622203e-01,  4.56257198e-04,  4.56257198e-04,\n",
       "         4.56257198e-04,  9.98622203e-01,  4.56257198e-04,\n",
       "         4.56257198e-04,  4.56257198e-04,  9.98622203e-01,\n",
       "         9.98613046e-01,  4.40873097e-04,  4.42520935e-04,\n",
       "         4.40873097e-04,  9.98601505e-01,  4.36434345e-04,\n",
       "         4.42520935e-04,  4.36434345e-04,  9.98606007e-01],\n",
       "       [ 9.31362535e-01, -2.61607428e-02, -1.88111405e-02,\n",
       "        -2.61607428e-02,  1.00223649e+00, -5.87081473e-03,\n",
       "        -1.88111405e-02, -5.87081473e-03,  1.00649798e+00,\n",
       "         9.96889722e-01,  6.74698562e-04,  6.74721155e-04,\n",
       "         6.74698562e-04,  9.96889732e-01,  6.74722367e-04,\n",
       "         6.74721155e-04,  6.74722367e-04,  9.96889756e-01,\n",
       "         9.12969637e-01, -4.95605899e-02, -3.40262299e-02,\n",
       "        -4.95605899e-02,  1.00232674e+00, -1.49025150e-02,\n",
       "        -3.40262299e-02, -1.49025150e-02,  1.01411708e+00,\n",
       "         9.96890158e-01,  6.74330486e-04,  6.74453701e-04,\n",
       "         6.74330486e-04,  9.96882404e-01,  6.69354918e-04,\n",
       "         6.74453701e-04,  6.69354918e-04,  9.96886463e-01]])"
      ]
     },
     "execution_count": 35,
     "metadata": {},
     "output_type": "execute_result"
    }
   ],
   "source": [
    "n = np.sum([x.startswith(\"N\") for x in sims.columns])\n",
    "q = int(np.sum([x.startswith(\"V\") for x in sims.columns]) / n)\n",
    "s2 = 0.01\n",
    "# Output array\n",
    "results = np.zeros((100, n * q * q))\n",
    "\n",
    "for sim_i in range(100):\n",
    "    \n",
    "    # Fill info from data frame:\n",
    "    N = sims.loc[sim_i, [x.startswith(\"N\") for x in sims.columns]].values\n",
    "    V = sims.loc[sim_i, [x.startswith(\"V\") for x in sims.columns]].values\n",
    "    V = V.reshape((q, n), order = 'F')\n",
    "    f = sims.loc[sim_i,\"f\"]\n",
    "    a0 = sims.loc[sim_i,\"a0\"]\n",
    "    eta = sims.loc[sim_i,\"eta\"]\n",
    "    d = sims.loc[sim_i,\"d\"]\n",
    "    C = np.zeros((q, q)) + eta\n",
    "    np.fill_diagonal(C,1.0)\n",
    "\n",
    "    # Fill output array:\n",
    "    for i in range(0, n):\n",
    "        O = N[i] + np.sum([np.exp(-d * np.dot(V[:,j].T, V[:,j])) * N[j] \n",
    "            for j in range(0, N.size) if j != i])\n",
    "        sym = symbolic(i, V, O, C, f, a0, s2)\n",
    "        results[sim_i, (i*q*q):((i+1)*q*q)] = sym.flatten()\n",
    "\n",
    "# Make sure first and last aren't zeros:\n",
    "results[[0, 99], :]"
   ]
  },
  {
   "cell_type": "code",
   "execution_count": 36,
   "metadata": {},
   "outputs": [],
   "source": [
    "np.savetxt('results/dVi_dVi.csv', results, delimiter=',')"
   ]
  },
  {
   "cell_type": "code",
   "execution_count": null,
   "metadata": {},
   "outputs": [],
   "source": []
  }
 ],
 "metadata": {
  "kernelspec": {
   "display_name": "Python 3",
   "language": "python",
   "name": "python3"
  },
  "language_info": {
   "codemirror_mode": {
    "name": "ipython",
    "version": 3
   },
   "file_extension": ".py",
   "mimetype": "text/x-python",
   "name": "python",
   "nbconvert_exporter": "python",
   "pygments_lexer": "ipython3",
   "version": "3.7.7"
  }
 },
 "nbformat": 4,
 "nbformat_minor": 2
}
