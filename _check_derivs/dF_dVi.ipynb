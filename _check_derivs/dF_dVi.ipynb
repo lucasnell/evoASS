{
 "cells": [
  {
   "cell_type": "markdown",
   "metadata": {},
   "source": [
    "# Derivative of fitness with respect to traits\n",
    "\n",
    "Here I will be testing my solution for\n",
    "$\\frac{ \\partial F }{ \\partial \\mathbf{V_i} }$\n",
    "(see below)\n",
    "by calculating the derivatives using the `theano` package\n",
    "and comparing those results to my solution.\n",
    "\n",
    "\n",
    "\n",
    "\n",
    "## Importing packages and setting options"
   ]
  },
  {
   "cell_type": "code",
   "execution_count": 1,
   "metadata": {},
   "outputs": [
    {
     "name": "stdout",
     "output_type": "stream",
     "text": [
      "env: OMP_NUM_THREADS=4\n",
      "env: THEANO_FLAGS='openmp=True'\n"
     ]
    }
   ],
   "source": [
    "%env OMP_NUM_THREADS=4\n",
    "%env THEANO_FLAGS='openmp=True'\n",
    "import sympy\n",
    "import theano\n",
    "theano.config.cxx = \"\"\n",
    "import theano.tensor as T\n",
    "import numpy as np\n",
    "import pandas as pd\n",
    "from tqdm import tqdm\n",
    "import math\n",
    "pd.options.display.max_columns = 10"
   ]
  },
  {
   "cell_type": "markdown",
   "metadata": {},
   "source": [
    "## Equations\n",
    "\n",
    "__Notes:__\n",
    "\n",
    "- ${}^\\text{T}$ represents transpose.\n",
    "- Elements in __bold__ are matrices\n",
    "- Multiplication between matrices is always matrix multiplication, not\n",
    "  element-wise\n",
    "\n",
    "\n",
    "The equations for fitness for species $i$ ($F$)\n",
    "and the partial derivative of $F$ with respect\n",
    "to the traits of species $i$\n",
    "($\\frac{ \\partial F }{ \\partial \\mathbf{V_i} }$)\n",
    "are as follows:\n",
    "\n",
    "\\begin{align}\n",
    "F_{i} &= \\exp \\left\\{\n",
    "        r_0 - f ~ \\mathbf{V}_i ~ \\mathbf{C} ~ \\mathbf{V}_{i}^{\\text{T}} -\n",
    "        \\alpha_0 ~ \\text{e}^{- \\mathbf{V}_i \\mathbf{V}_i^{\\text{T}} } ~\n",
    "        \\mathbf{\\Omega}_i\n",
    "    \\right\\} \\\\\n",
    "    \\mathbf{\\Omega}_i &\\equiv N_{i} +\n",
    "        \\sum_{j \\ne i}^{n}{ N_{j} ~ \\text{e}^{\n",
    "                - \\mathbf{V}_{j} \\mathbf{D} \\mathbf{V}_{j}^{\\text{T}}} } \\\\[2ex]\n",
    "    \\frac{ \\partial F }{ \\partial \\mathbf{V_i} } &= \n",
    "        \\exp \\{ \\ldots \\} ~\n",
    "        \\left[\n",
    "            2 ~ \\alpha_0 ~ \\mathbf{\\Omega}_i ~ \\text{e}^{- \\mathbf{V_i} * \\mathbf{V_i}^{\\text{T}}} \\mathbf{V_i}\n",
    "            - 2 ~ f ~ \\mathbf{V_i} \\mathbf{C}\n",
    "        \\right]\n",
    "\\end{align}\n"
   ]
  },
  {
   "cell_type": "markdown",
   "metadata": {},
   "source": [
    "## Read CSV of simulated datasets"
   ]
  },
  {
   "cell_type": "code",
   "execution_count": 2,
   "metadata": {},
   "outputs": [
    {
     "data": {
      "text/html": [
       "<div>\n",
       "<style scoped>\n",
       "    .dataframe tbody tr th:only-of-type {\n",
       "        vertical-align: middle;\n",
       "    }\n",
       "\n",
       "    .dataframe tbody tr th {\n",
       "        vertical-align: top;\n",
       "    }\n",
       "\n",
       "    .dataframe thead th {\n",
       "        text-align: right;\n",
       "    }\n",
       "</style>\n",
       "<table border=\"1\" class=\"dataframe\">\n",
       "  <thead>\n",
       "    <tr style=\"text-align: right;\">\n",
       "      <th></th>\n",
       "      <th>V1</th>\n",
       "      <th>V2</th>\n",
       "      <th>V3</th>\n",
       "      <th>V4</th>\n",
       "      <th>V5</th>\n",
       "      <th>...</th>\n",
       "      <th>f</th>\n",
       "      <th>a0</th>\n",
       "      <th>eta</th>\n",
       "      <th>r0</th>\n",
       "      <th>d</th>\n",
       "    </tr>\n",
       "  </thead>\n",
       "  <tbody>\n",
       "    <tr>\n",
       "      <th>0</th>\n",
       "      <td>4.945110</td>\n",
       "      <td>2.869199</td>\n",
       "      <td>6.747126</td>\n",
       "      <td>6.142522</td>\n",
       "      <td>5.629532</td>\n",
       "      <td>...</td>\n",
       "      <td>0.068890</td>\n",
       "      <td>0.112113</td>\n",
       "      <td>-0.331150</td>\n",
       "      <td>1.422746</td>\n",
       "      <td>-0.091228</td>\n",
       "    </tr>\n",
       "    <tr>\n",
       "      <th>1</th>\n",
       "      <td>0.718846</td>\n",
       "      <td>1.220364</td>\n",
       "      <td>0.815571</td>\n",
       "      <td>0.868633</td>\n",
       "      <td>0.838021</td>\n",
       "      <td>...</td>\n",
       "      <td>0.309021</td>\n",
       "      <td>0.057579</td>\n",
       "      <td>0.094811</td>\n",
       "      <td>1.237047</td>\n",
       "      <td>0.003429</td>\n",
       "    </tr>\n",
       "    <tr>\n",
       "      <th>2</th>\n",
       "      <td>3.369285</td>\n",
       "      <td>1.912974</td>\n",
       "      <td>3.131174</td>\n",
       "      <td>0.046303</td>\n",
       "      <td>1.416252</td>\n",
       "      <td>...</td>\n",
       "      <td>0.118318</td>\n",
       "      <td>0.401410</td>\n",
       "      <td>-0.036977</td>\n",
       "      <td>1.746024</td>\n",
       "      <td>0.012160</td>\n",
       "    </tr>\n",
       "    <tr>\n",
       "      <th>3</th>\n",
       "      <td>0.373669</td>\n",
       "      <td>0.283873</td>\n",
       "      <td>0.237735</td>\n",
       "      <td>0.053632</td>\n",
       "      <td>0.062281</td>\n",
       "      <td>...</td>\n",
       "      <td>0.497286</td>\n",
       "      <td>0.499730</td>\n",
       "      <td>0.117188</td>\n",
       "      <td>0.669199</td>\n",
       "      <td>0.081612</td>\n",
       "    </tr>\n",
       "    <tr>\n",
       "      <th>4</th>\n",
       "      <td>3.562637</td>\n",
       "      <td>1.635016</td>\n",
       "      <td>5.724176</td>\n",
       "      <td>4.953962</td>\n",
       "      <td>1.060083</td>\n",
       "      <td>...</td>\n",
       "      <td>0.042638</td>\n",
       "      <td>0.307171</td>\n",
       "      <td>-0.467453</td>\n",
       "      <td>0.952351</td>\n",
       "      <td>0.051834</td>\n",
       "    </tr>\n",
       "  </tbody>\n",
       "</table>\n",
       "<p>5 rows × 21 columns</p>\n",
       "</div>"
      ],
      "text/plain": [
       "         V1        V2        V3        V4        V5  ...         f        a0  \\\n",
       "0  4.945110  2.869199  6.747126  6.142522  5.629532  ...  0.068890  0.112113   \n",
       "1  0.718846  1.220364  0.815571  0.868633  0.838021  ...  0.309021  0.057579   \n",
       "2  3.369285  1.912974  3.131174  0.046303  1.416252  ...  0.118318  0.401410   \n",
       "3  0.373669  0.283873  0.237735  0.053632  0.062281  ...  0.497286  0.499730   \n",
       "4  3.562637  1.635016  5.724176  4.953962  1.060083  ...  0.042638  0.307171   \n",
       "\n",
       "        eta        r0         d  \n",
       "0 -0.331150  1.422746 -0.091228  \n",
       "1  0.094811  1.237047  0.003429  \n",
       "2 -0.036977  1.746024  0.012160  \n",
       "3  0.117188  0.669199  0.081612  \n",
       "4 -0.467453  0.952351  0.051834  \n",
       "\n",
       "[5 rows x 21 columns]"
      ]
     },
     "execution_count": 2,
     "metadata": {},
     "output_type": "execute_result"
    }
   ],
   "source": [
    "sims = pd.read_csv(\"simulated_data.csv\")\n",
    "sims.head()"
   ]
  },
  {
   "cell_type": "code",
   "execution_count": 3,
   "metadata": {},
   "outputs": [],
   "source": [
    "def automatic(i, V, O, C, f, a0, r0):\n",
    "    \"\"\"Automatic differentiation using theano pkg\"\"\"\n",
    "    Vi = T.dvector('Vi')\n",
    "    F = T.exp(\n",
    "        r0 - f * T.dot(T.dot(Vi, C), Vi.T) -\n",
    "        a0 * O * T.exp(-1 * T.dot(Vi, Vi.T))\n",
    "    )\n",
    "    J = T.grad(F, Vi)\n",
    "    num_fun = theano.function([Vi], J)\n",
    "    out_array = num_fun(V[i,:]).T\n",
    "    return out_array"
   ]
  },
  {
   "cell_type": "code",
   "execution_count": 4,
   "metadata": {},
   "outputs": [],
   "source": [
    "def symbolic(i, V, O, C, f, a0, r0):\n",
    "    \"\"\"Symbolic differentiation using math\"\"\"\n",
    "    Vi = V[i,:]\n",
    "    F = np.exp(\n",
    "        r0 - f * np.dot(np.dot(Vi, C), Vi.T) -\n",
    "        a0 * O * np.exp(-1 * np.dot(Vi, Vi.T))\n",
    "    )\n",
    "    dF = F * (\n",
    "        ( 2 * a0 * O * np.exp(-1 * Vi @ Vi.T) * Vi ) -\n",
    "        (2 * f * Vi @ C)\n",
    "    )\n",
    "    return dF"
   ]
  },
  {
   "cell_type": "code",
   "execution_count": 5,
   "metadata": {},
   "outputs": [],
   "source": [
    "def compare_methods(sim_i, abs = False):\n",
    "    \"\"\"Compare answers from symbolic and automatic methods\"\"\"\n",
    "\n",
    "    # Fill info from data frame:\n",
    "    N = sims.loc[sim_i, [x.startswith(\"N\") for x in sims.columns]].values\n",
    "    V = sims.loc[sim_i, [x.startswith(\"V\") for x in sims.columns]].values\n",
    "    n, q = (N.size, int(V.size / N.size))\n",
    "    V = V.reshape((n, q), order = 'F')\n",
    "    f = sims.loc[sim_i,\"f\"]\n",
    "    a0 = sims.loc[sim_i,\"a0\"]\n",
    "    eta = sims.loc[sim_i,\"eta\"]\n",
    "    r0 = sims.loc[sim_i,\"r0\"]\n",
    "    d = sims.loc[sim_i,\"d\"]\n",
    "    D = np.zeros((q, q))\n",
    "    np.fill_diagonal(D, d)\n",
    "    C = np.zeros((q, q)) + eta\n",
    "    np.fill_diagonal(C,1.0)\n",
    "\n",
    "    # Create output array:\n",
    "    diffs = np.empty((n, 4))\n",
    "    diffs[:,0] = sim_i\n",
    "\n",
    "    # Fill output array:\n",
    "    for i in range(0, n):\n",
    "        O = N[i] + np.sum([np.exp(-1 * np.dot(np.dot(V[j,:], D), V[j,:].T)) * N[j] \n",
    "            for j in range(0, N.size) if j != i])\n",
    "        auto = automatic(i, V, O, C, f, a0, r0)\n",
    "        sym = symbolic(i, V, O, C, f, a0, r0)\n",
    "        if abs or np.any(sym == 0):\n",
    "            diff = auto - sym\n",
    "        else:\n",
    "            diff = (auto - sym) / sym\n",
    "        diffs[i, 1] = i\n",
    "        diffs[i, 2] = diff.min()\n",
    "        diffs[i, 3] = diff.max()\n",
    "\n",
    "    return diffs\n"
   ]
  },
  {
   "cell_type": "markdown",
   "metadata": {},
   "source": [
    "### Example of using `compare_methods`:"
   ]
  },
  {
   "cell_type": "code",
   "execution_count": 6,
   "metadata": {},
   "outputs": [
    {
     "name": "stdout",
     "output_type": "stream",
     "text": [
      "-1.1621602222782118e-15\n",
      "1.1496172980662302e-15\n"
     ]
    }
   ],
   "source": [
    "diffs = compare_methods(0)\n",
    "# Worst case examples:\n",
    "print(diffs[:,2].min())\n",
    "print(diffs[:,3].max())"
   ]
  },
  {
   "cell_type": "markdown",
   "metadata": {},
   "source": [
    "## Comparing methods\n",
    "\n",
    "This takes ~2 minutes."
   ]
  },
  {
   "cell_type": "code",
   "execution_count": 7,
   "metadata": {},
   "outputs": [],
   "source": [
    "n_per_rep = 4\n",
    "diffs = np.empty((int(n_per_rep * 100), 4))"
   ]
  },
  {
   "cell_type": "code",
   "execution_count": 8,
   "metadata": {},
   "outputs": [
    {
     "name": "stderr",
     "output_type": "stream",
     "text": [
      "100%|██████████| 100/100 [01:46<00:00,  1.07s/it]\n"
     ]
    }
   ],
   "source": [
    "for rep in tqdm(range(100)):\n",
    "    diffs_r = compare_methods(rep)\n",
    "    diffs[(rep * n_per_rep):((rep+1) * n_per_rep),:] = diffs_r"
   ]
  },
  {
   "cell_type": "markdown",
   "metadata": {},
   "source": [
    "## The results\n",
    "They appear to be extremely similar, enough so that I feel comfortable with my symbolic version."
   ]
  },
  {
   "cell_type": "code",
   "execution_count": 9,
   "metadata": {},
   "outputs": [
    {
     "name": "stdout",
     "output_type": "stream",
     "text": [
      "-1.0538853658144804e-12\n",
      "4.0497273168472205e-14\n"
     ]
    }
   ],
   "source": [
    "print(diffs[:,2].min())\n",
    "print(diffs[:,3].max())"
   ]
  },
  {
   "cell_type": "markdown",
   "metadata": {},
   "source": [
    "## Write output to file\n",
    "\n",
    "To make sure the R version works, too, I'm writing to a CSV file the output from the symbolic version on the 100 datasets."
   ]
  },
  {
   "cell_type": "code",
   "execution_count": 10,
   "metadata": {},
   "outputs": [
    {
     "data": {
      "text/plain": [
       "array([[-0.15883992, -0.24553555, -0.07242995, -0.62185721, -0.09552216,\n",
       "        -0.12070101, -0.30783602, -0.03582412,  0.04874743, -0.4177771 ,\n",
       "        -0.0255063 ,  0.06148898],\n",
       "       [-0.19063035, -0.46799459,  0.10642638,  0.08687698,  0.11886768,\n",
       "         0.02535973,  0.09943704, -0.11836676, -0.46893461, -0.33039351,\n",
       "         0.06542317, -0.15330258]])"
      ]
     },
     "execution_count": 10,
     "metadata": {},
     "output_type": "execute_result"
    }
   ],
   "source": [
    "n = np.sum([x.startswith(\"N\") for x in sims.columns])\n",
    "q = int(np.sum([x.startswith(\"V\") for x in sims.columns]) / n)\n",
    "# Output array\n",
    "results = np.zeros((100, n * q))\n",
    "\n",
    "for sim_i in range(100):\n",
    "    \n",
    "    # Fill info from data frame:\n",
    "    N = sims.loc[sim_i, [x.startswith(\"N\") for x in sims.columns]].values\n",
    "    V = sims.loc[sim_i, [x.startswith(\"V\") for x in sims.columns]].values\n",
    "    V = V.reshape((n, q), order = 'F')\n",
    "    f = sims.loc[sim_i,\"f\"]\n",
    "    a0 = sims.loc[sim_i,\"a0\"]\n",
    "    eta = sims.loc[sim_i,\"eta\"]\n",
    "    r0 = sims.loc[sim_i,\"r0\"]\n",
    "    d = sims.loc[sim_i,\"d\"]\n",
    "    C = np.zeros((q, q)) + eta\n",
    "    np.fill_diagonal(C,1.0)\n",
    "\n",
    "    # Fill output array:\n",
    "    for i in range(0, n):\n",
    "        O = N[i] + np.sum([np.exp(-d * np.dot(V[j,:], V[j,:].T)) * N[j] \n",
    "            for j in range(0, N.size) if j != i])\n",
    "        sym = symbolic(i, V, O, C, f, a0, r0)\n",
    "        results[sim_i, (i*q):((i+1)*q)] = sym.flatten()\n",
    "\n",
    "# Make sure first and last aren't zeros:\n",
    "results[[0, 99], :]"
   ]
  },
  {
   "cell_type": "code",
   "execution_count": 11,
   "metadata": {},
   "outputs": [],
   "source": [
    "np.savetxt('results/dF_dVi.csv', results, delimiter=',')"
   ]
  },
  {
   "cell_type": "code",
   "execution_count": null,
   "metadata": {},
   "outputs": [],
   "source": []
  }
 ],
 "metadata": {
  "kernelspec": {
   "display_name": "Python 3",
   "language": "python",
   "name": "python3"
  },
  "language_info": {
   "codemirror_mode": {
    "name": "ipython",
    "version": 3
   },
   "file_extension": ".py",
   "mimetype": "text/x-python",
   "name": "python",
   "nbconvert_exporter": "python",
   "pygments_lexer": "ipython3",
   "version": "3.7.7"
  }
 },
 "nbformat": 4,
 "nbformat_minor": 2
}
