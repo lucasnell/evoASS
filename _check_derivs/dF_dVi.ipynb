{
 "cells": [
  {
   "cell_type": "markdown",
   "metadata": {},
   "source": [
    "# Derivative of fitness with respect to traits\n",
    "\n",
    "Here I will be testing my solution for\n",
    "$\\frac{ \\partial F }{ \\partial \\mathbf{V_i} }$\n",
    "(see below)\n",
    "by calculating the derivatives using the `theano` package\n",
    "and comparing those results to my solution.\n",
    "\n",
    "\n",
    "\n",
    "\n",
    "## Importing packages and setting options"
   ]
  },
  {
   "cell_type": "code",
   "execution_count": 2,
   "metadata": {},
   "outputs": [
    {
     "name": "stdout",
     "output_type": "stream",
     "text": [
      "env: OMP_NUM_THREADS=4\n",
      "env: THEANO_FLAGS='openmp=True'\n"
     ]
    }
   ],
   "source": [
    "%env OMP_NUM_THREADS=4\n",
    "%env THEANO_FLAGS='openmp=True'\n",
    "import sympy\n",
    "import theano\n",
    "theano.config.cxx = \"\"\n",
    "import theano.tensor as T\n",
    "import numpy as np\n",
    "import pandas as pd\n",
    "from tqdm import tqdm\n",
    "import math\n",
    "pd.options.display.max_columns = 10"
   ]
  },
  {
   "cell_type": "markdown",
   "metadata": {},
   "source": [
    "## Equations\n",
    "\n",
    "__Notes:__\n",
    "\n",
    "- ${}^\\text{T}$ represents transpose.\n",
    "- Elements in __bold__ are matrices\n",
    "- Multiplication between matrices is always matrix multiplication, not\n",
    "  element-wise\n",
    "\n",
    "\n",
    "The equations for fitness for species $i$ ($F$)\n",
    "and the partial derivative of $F$ with respect\n",
    "to the traits of species $i$\n",
    "($\\frac{ \\partial F }{ \\partial \\mathbf{V_i} }$)\n",
    "are as follows:\n",
    "\n",
    "\\begin{align}\n",
    "F_{i} &= \\exp \\left\\{\n",
    "        r_0 - f ~ \\mathbf{V}_i ~ \\mathbf{C} ~ \\mathbf{V}_{i}^{\\text{T}} -\n",
    "        \\alpha_0 ~ \\text{e}^{- \\mathbf{V}_i \\mathbf{V}_i^{\\text{T}} } ~\n",
    "        \\mathbf{\\Omega}_i\n",
    "    \\right\\} \\\\\n",
    "    \\mathbf{\\Omega}_i &\\equiv N_{i} +\n",
    "        \\sum_{j \\ne i}^{n}{ N_{j} ~ \\text{e}^{\n",
    "                -d \\mathbf{V}_{j} \\mathbf{V}_{j}^{\\text{T}}} } \\\\[2ex]\n",
    "    \\frac{ \\partial F }{ \\partial \\mathbf{V_i} } &= \n",
    "        \\exp \\{ \\ldots \\} ~\n",
    "        \\left[\n",
    "            2 ~ \\alpha_0 ~ \\mathbf{\\Omega}_i ~ \\text{e}^{- \\mathbf{V_i} * \\mathbf{V_i}^{\\text{T}}} \\mathbf{V_i}\n",
    "            - 2 ~ f ~ \\mathbf{V_i} \\mathbf{C}\n",
    "        \\right]\n",
    "\\end{align}\n"
   ]
  },
  {
   "cell_type": "markdown",
   "metadata": {},
   "source": [
    "## Read CSV of simulated datasets"
   ]
  },
  {
   "cell_type": "code",
   "execution_count": 3,
   "metadata": {},
   "outputs": [
    {
     "data": {
      "text/html": [
       "<div>\n",
       "<style scoped>\n",
       "    .dataframe tbody tr th:only-of-type {\n",
       "        vertical-align: middle;\n",
       "    }\n",
       "\n",
       "    .dataframe tbody tr th {\n",
       "        vertical-align: top;\n",
       "    }\n",
       "\n",
       "    .dataframe thead th {\n",
       "        text-align: right;\n",
       "    }\n",
       "</style>\n",
       "<table border=\"1\" class=\"dataframe\">\n",
       "  <thead>\n",
       "    <tr style=\"text-align: right;\">\n",
       "      <th></th>\n",
       "      <th>V1</th>\n",
       "      <th>V2</th>\n",
       "      <th>V3</th>\n",
       "      <th>V4</th>\n",
       "      <th>V5</th>\n",
       "      <th>...</th>\n",
       "      <th>f</th>\n",
       "      <th>a0</th>\n",
       "      <th>eta</th>\n",
       "      <th>r0</th>\n",
       "      <th>d</th>\n",
       "    </tr>\n",
       "  </thead>\n",
       "  <tbody>\n",
       "    <tr>\n",
       "      <th>0</th>\n",
       "      <td>5.329784</td>\n",
       "      <td>-0.593159</td>\n",
       "      <td>0.003065</td>\n",
       "      <td>1.414273</td>\n",
       "      <td>-6.458124</td>\n",
       "      <td>...</td>\n",
       "      <td>0.137235</td>\n",
       "      <td>0.104261</td>\n",
       "      <td>0.063997</td>\n",
       "      <td>0.343463</td>\n",
       "      <td>-0.118705</td>\n",
       "    </tr>\n",
       "    <tr>\n",
       "      <th>1</th>\n",
       "      <td>-1.514917</td>\n",
       "      <td>-1.024847</td>\n",
       "      <td>5.413096</td>\n",
       "      <td>-4.548136</td>\n",
       "      <td>1.542865</td>\n",
       "      <td>...</td>\n",
       "      <td>0.600063</td>\n",
       "      <td>0.197839</td>\n",
       "      <td>0.103529</td>\n",
       "      <td>0.279827</td>\n",
       "      <td>-0.158496</td>\n",
       "    </tr>\n",
       "    <tr>\n",
       "      <th>2</th>\n",
       "      <td>-9.969353</td>\n",
       "      <td>0.930724</td>\n",
       "      <td>2.855755</td>\n",
       "      <td>8.144096</td>\n",
       "      <td>3.640262</td>\n",
       "      <td>...</td>\n",
       "      <td>0.537799</td>\n",
       "      <td>0.202685</td>\n",
       "      <td>-0.088763</td>\n",
       "      <td>0.303346</td>\n",
       "      <td>-0.159742</td>\n",
       "    </tr>\n",
       "    <tr>\n",
       "      <th>3</th>\n",
       "      <td>3.821274</td>\n",
       "      <td>-3.732219</td>\n",
       "      <td>-2.680385</td>\n",
       "      <td>-1.586652</td>\n",
       "      <td>-9.755770</td>\n",
       "      <td>...</td>\n",
       "      <td>0.123312</td>\n",
       "      <td>0.117315</td>\n",
       "      <td>-0.082240</td>\n",
       "      <td>0.136664</td>\n",
       "      <td>0.103837</td>\n",
       "    </tr>\n",
       "    <tr>\n",
       "      <th>4</th>\n",
       "      <td>3.291826</td>\n",
       "      <td>0.708288</td>\n",
       "      <td>-5.281580</td>\n",
       "      <td>6.224788</td>\n",
       "      <td>-0.271641</td>\n",
       "      <td>...</td>\n",
       "      <td>0.560044</td>\n",
       "      <td>0.054967</td>\n",
       "      <td>0.046302</td>\n",
       "      <td>0.254523</td>\n",
       "      <td>-0.125201</td>\n",
       "    </tr>\n",
       "  </tbody>\n",
       "</table>\n",
       "<p>5 rows × 21 columns</p>\n",
       "</div>"
      ],
      "text/plain": [
       "         V1        V2        V3        V4        V5    ...            f  \\\n",
       "0  5.329784 -0.593159  0.003065  1.414273 -6.458124    ...     0.137235   \n",
       "1 -1.514917 -1.024847  5.413096 -4.548136  1.542865    ...     0.600063   \n",
       "2 -9.969353  0.930724  2.855755  8.144096  3.640262    ...     0.537799   \n",
       "3  3.821274 -3.732219 -2.680385 -1.586652 -9.755770    ...     0.123312   \n",
       "4  3.291826  0.708288 -5.281580  6.224788 -0.271641    ...     0.560044   \n",
       "\n",
       "         a0       eta        r0         d  \n",
       "0  0.104261  0.063997  0.343463 -0.118705  \n",
       "1  0.197839  0.103529  0.279827 -0.158496  \n",
       "2  0.202685 -0.088763  0.303346 -0.159742  \n",
       "3  0.117315 -0.082240  0.136664  0.103837  \n",
       "4  0.054967  0.046302  0.254523 -0.125201  \n",
       "\n",
       "[5 rows x 21 columns]"
      ]
     },
     "execution_count": 3,
     "metadata": {},
     "output_type": "execute_result"
    }
   ],
   "source": [
    "sims = pd.read_csv(\"simulated_data.csv\")\n",
    "sims.head()"
   ]
  },
  {
   "cell_type": "code",
   "execution_count": 7,
   "metadata": {},
   "outputs": [],
   "source": [
    "def automatic(i, V, O, C, f, a0, r0):\n",
    "    \"\"\"Automatic differentiation using theano pkg\"\"\"\n",
    "    Vi = T.dvector('Vi')\n",
    "    F = T.exp(\n",
    "        r0 - f * T.dot(T.dot(Vi, C), Vi.T) -\n",
    "        a0 * O * T.exp(-1 * T.dot(Vi, Vi.T))\n",
    "    )\n",
    "    J = T.grad(F, Vi)\n",
    "    num_fun = theano.function([Vi], J)\n",
    "    out_array = num_fun(V[i,:]).T\n",
    "    return out_array"
   ]
  },
  {
   "cell_type": "code",
   "execution_count": 8,
   "metadata": {},
   "outputs": [],
   "source": [
    "def symbolic(i, V, O, C, f, a0, r0):\n",
    "    \"\"\"Symbolic differentiation using math\"\"\"\n",
    "    Vi = V[i,:]\n",
    "    F = np.exp(\n",
    "        r0 - f * np.dot(np.dot(Vi, C), Vi.T) -\n",
    "        a0 * O * np.exp(-1 * np.dot(Vi, Vi.T))\n",
    "    )\n",
    "    dF = F * (\n",
    "        ( 2 * a0 * O * np.exp(-1 * Vi @ Vi.T) * Vi ) -\n",
    "        (2 * f * Vi @ C)\n",
    "    )\n",
    "    return dF"
   ]
  },
  {
   "cell_type": "code",
   "execution_count": 11,
   "metadata": {},
   "outputs": [],
   "source": [
    "def compare_methods(sim_i, abs = False):\n",
    "    \"\"\"Compare answers from symbolic and automatic methods\"\"\"\n",
    "\n",
    "    # Fill info from data frame:\n",
    "    N = sims.loc[sim_i, [x.startswith(\"N\") for x in sims.columns]].values\n",
    "    V = sims.loc[sim_i, [x.startswith(\"V\") for x in sims.columns]].values\n",
    "    n, q = (N.size, int(V.size / N.size))\n",
    "    V = V.reshape((n, q), order = 'F')\n",
    "    f = sims.loc[sim_i,\"f\"]\n",
    "    a0 = sims.loc[sim_i,\"a0\"]\n",
    "    eta = sims.loc[sim_i,\"eta\"]\n",
    "    r0 = sims.loc[sim_i,\"r0\"]\n",
    "    d = sims.loc[sim_i,\"d\"]\n",
    "    C = np.zeros((q, q)) + eta\n",
    "    np.fill_diagonal(C,1.0)\n",
    "\n",
    "    # Create output array:\n",
    "    diffs = np.empty((n, 4))\n",
    "    diffs[:,0] = sim_i\n",
    "\n",
    "    # Fill output array:\n",
    "    for i in range(0, n):\n",
    "        O = N[i] + np.sum([np.exp(-d * np.dot(V[j,:], V[j,:].T)) * N[j] \n",
    "            for j in range(0, N.size) if j != i])\n",
    "        auto = automatic(i, V, O, C, f, a0, r0)\n",
    "        sym = symbolic(i, V, O, C, f, a0, r0)\n",
    "        if abs or np.any(sym == 0):\n",
    "            diff = auto - sym\n",
    "        else:\n",
    "            diff = (auto - sym) / sym\n",
    "        diffs[i, 1] = i\n",
    "        diffs[i, 2] = diff.min()\n",
    "        diffs[i, 3] = diff.max()\n",
    "\n",
    "    return diffs\n"
   ]
  },
  {
   "cell_type": "markdown",
   "metadata": {},
   "source": [
    "### Example of using `compare_methods`:"
   ]
  },
  {
   "cell_type": "code",
   "execution_count": 12,
   "metadata": {},
   "outputs": [
    {
     "name": "stdout",
     "output_type": "stream",
     "text": [
      "-3.4924628219779773e-16\n",
      "1.2246603754998577e-16\n"
     ]
    }
   ],
   "source": [
    "diffs = compare_methods(0)\n",
    "# Worst case examples:\n",
    "print(diffs[:,2].min())\n",
    "print(diffs[:,3].max())"
   ]
  },
  {
   "cell_type": "markdown",
   "metadata": {},
   "source": [
    "## Comparing methods\n",
    "\n",
    "This takes ~2 minutes."
   ]
  },
  {
   "cell_type": "code",
   "execution_count": 13,
   "metadata": {},
   "outputs": [],
   "source": [
    "n_per_rep = 4\n",
    "diffs = np.empty((int(n_per_rep * 100), 4))"
   ]
  },
  {
   "cell_type": "code",
   "execution_count": 14,
   "metadata": {},
   "outputs": [
    {
     "name": "stderr",
     "output_type": "stream",
     "text": [
      "100%|██████████| 100/100 [01:21<00:00,  1.27it/s]\n"
     ]
    }
   ],
   "source": [
    "for rep in tqdm(range(100)):\n",
    "    diffs_r = compare_methods(rep)\n",
    "    diffs[(rep * n_per_rep):((rep+1) * n_per_rep),:] = diffs_r"
   ]
  },
  {
   "cell_type": "markdown",
   "metadata": {},
   "source": [
    "## The results\n",
    "They appear to be extremely similar, enough so that I feel comfortable with my symbolic version."
   ]
  },
  {
   "cell_type": "code",
   "execution_count": 15,
   "metadata": {},
   "outputs": [
    {
     "name": "stdout",
     "output_type": "stream",
     "text": [
      "-2.5537767027145596e-14\n",
      "4.050697280564236e-13\n"
     ]
    }
   ],
   "source": [
    "print(diffs[:,2].min())\n",
    "print(diffs[:,3].max())"
   ]
  },
  {
   "cell_type": "markdown",
   "metadata": {},
   "source": [
    "## Write output to file\n",
    "\n",
    "To make sure the R version works, too, I'm writing to a CSV file the output from the symbolic version on the 100 datasets."
   ]
  },
  {
   "cell_type": "code",
   "execution_count": 16,
   "metadata": {},
   "outputs": [
    {
     "data": {
      "text/plain": [
       "array([[-1.08777785e-04,  1.27757832e-04, -5.12452120e-05,\n",
       "         2.01106132e-03,  1.13821655e-02,  3.54123378e-03,\n",
       "         7.75063810e-15, -5.27256584e-12,  5.78240634e-13,\n",
       "        -3.58300160e-02, -8.15820315e-02, -4.17550951e-02],\n",
       "       [ 8.48828081e-14, -4.98771984e-14, -7.55144202e-14,\n",
       "        -5.02909842e-17,  2.04833125e-17, -6.79434569e-17,\n",
       "        -1.26465961e-05,  1.38184874e-05, -2.49250565e-05,\n",
       "        -1.83711053e-06, -1.38219800e-06,  4.03381302e-06]])"
      ]
     },
     "execution_count": 16,
     "metadata": {},
     "output_type": "execute_result"
    }
   ],
   "source": [
    "n = np.sum([x.startswith(\"N\") for x in sims.columns])\n",
    "q = int(np.sum([x.startswith(\"V\") for x in sims.columns]) / n)\n",
    "# Output array\n",
    "results = np.zeros((100, n * q))\n",
    "\n",
    "for sim_i in range(100):\n",
    "    \n",
    "    # Fill info from data frame:\n",
    "    N = sims.loc[sim_i, [x.startswith(\"N\") for x in sims.columns]].values\n",
    "    V = sims.loc[sim_i, [x.startswith(\"V\") for x in sims.columns]].values\n",
    "    V = V.reshape((n, q), order = 'F')\n",
    "    f = sims.loc[sim_i,\"f\"]\n",
    "    a0 = sims.loc[sim_i,\"a0\"]\n",
    "    eta = sims.loc[sim_i,\"eta\"]\n",
    "    r0 = sims.loc[sim_i,\"r0\"]\n",
    "    d = sims.loc[sim_i,\"d\"]\n",
    "    C = np.zeros((q, q)) + eta\n",
    "    np.fill_diagonal(C,1.0)\n",
    "\n",
    "    # Fill output array:\n",
    "    for i in range(0, n):\n",
    "        O = N[i] + np.sum([np.exp(-d * np.dot(V[j,:], V[j,:].T)) * N[j] \n",
    "            for j in range(0, N.size) if j != i])\n",
    "        sym = symbolic(i, V, O, C, f, a0, r0)\n",
    "        results[sim_i, (i*q):((i+1)*q)] = sym.flatten()\n",
    "\n",
    "# Make sure first and last aren't zeros:\n",
    "results[[0, 99], :]"
   ]
  },
  {
   "cell_type": "code",
   "execution_count": 17,
   "metadata": {},
   "outputs": [],
   "source": [
    "np.savetxt('results/dF_dVi.csv', results, delimiter=',')"
   ]
  },
  {
   "cell_type": "code",
   "execution_count": null,
   "metadata": {},
   "outputs": [],
   "source": []
  }
 ],
 "metadata": {
  "kernelspec": {
   "display_name": "Python 3",
   "language": "python",
   "name": "python3"
  },
  "language_info": {
   "codemirror_mode": {
    "name": "ipython",
    "version": 3
   },
   "file_extension": ".py",
   "mimetype": "text/x-python",
   "name": "python",
   "nbconvert_exporter": "python",
   "pygments_lexer": "ipython3",
   "version": "3.7.0"
  }
 },
 "nbformat": 4,
 "nbformat_minor": 2
}
