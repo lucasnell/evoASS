{
 "cells": [
  {
   "cell_type": "markdown",
   "metadata": {},
   "source": [
    "# Derivative of abundance_i with respect to abundance_i and abundance_k\n",
    "\n",
    "Here I will be testing my solutions for\n",
    "$\\frac{ \\partial \\hat{N}_i }{ \\partial N_i }$\n",
    "and\n",
    "$\\frac{ \\partial \\hat{N}_i }{ \\partial N_k }$\n",
    "(see below)\n",
    "by calculating the Jacobian using the `theano` package\n",
    "and comparing those results to my solution.\n",
    "\n",
    "\n",
    "## Importing packages and setting options"
   ]
  },
  {
   "cell_type": "code",
   "execution_count": 110,
   "metadata": {},
   "outputs": [
    {
     "name": "stdout",
     "output_type": "stream",
     "text": [
      "env: OMP_NUM_THREADS=4\n",
      "env: THEANO_FLAGS='openmp=True'\n"
     ]
    }
   ],
   "source": [
    "%env OMP_NUM_THREADS=4\n",
    "%env THEANO_FLAGS='openmp=True'\n",
    "import sympy\n",
    "import theano\n",
    "theano.config.cxx = \"\"\n",
    "import theano.tensor as T\n",
    "import numpy as np\n",
    "import pandas as pd\n",
    "from tqdm import tqdm\n",
    "import math\n",
    "pd.options.display.max_columns = 10"
   ]
  },
  {
   "cell_type": "markdown",
   "metadata": {},
   "source": [
    "## Equations\n",
    "\n",
    "__Notes:__\n",
    "\n",
    "- ${}^\\text{T}$ represents transpose.\n",
    "- Elements in __bold__ are matrices\n",
    "- Multiplication between matrices is always matrix multiplication, not\n",
    "  element-wise\n",
    "  \n",
    "\n",
    "Below are the equations for\n",
    "(1) abundance for species $i$ at time $t+1$ (${N}_{i,t+1}$),\n",
    "(2) the partial derivative of species $i$ abundance at time $t+1$ with respect \n",
    "to species $i$ abundance at time $t$, and\n",
    "(3) the partial derivative of species $i$ abundance at time $t+1$ with respect \n",
    "to species $k$ abundance at time $t$.\n",
    "\n",
    "\\begin{align}\n",
    "N_{i,t+1} &= N_{i,t} F_t \\\\\n",
    "F_t &=  \\exp \\left\\{\n",
    "    r_0 - f \\mathbf{V}_{i,t}^{\\text{T}} \\mathbf{C} \\mathbf{V}_{i,t} - \n",
    "        \\alpha_0 \\text{e}^{-\\mathbf{V}_{i,t}^{\\text{T}} \\mathbf{V}_{i,t}} \n",
    "        \\left(\n",
    "            N_{i,t} + \\sum_{j \\ne i}^{n}{ N_j \\text{e}^{- \\mathbf{V}_{j,t}^{\\text{T}} \\mathbf{D} \\mathbf{V}_{j,t} } }\n",
    "        \\right)\n",
    "    \\right\\} \\\\\n",
    "%\n",
    "%\n",
    "    \\frac{ \\partial N_{i,t+1} }{ \\partial N_{i,t} } &= F_t \\left( 1 - N_{i,t} \\: \\alpha_0 \\: \\text{e}^{ -\\mathbf{V}_{i,t}^{\\text{T}} \\mathbf{V}_{i,t} } \\right) \\\\\n",
    "%\n",
    "%\n",
    "    \\frac{ \\partial N_{i,t+1} }{ \\partial N_{k,t} } &= - F_t \\: N_{i,t} \\: \\alpha_0 \\: \\text{e}^{ -\\mathbf{V}_{i,t}^{\\text{T}} \\mathbf{V}_{i,t} - \\mathbf{V}_{k,t}^{\\text{T}} \\mathbf{D} \\mathbf{V}_{k,t} } \\\\\n",
    "\\end{align}\n",
    "\n"
   ]
  },
  {
   "cell_type": "markdown",
   "metadata": {},
   "source": [
    "## Read CSV of simulated datasets"
   ]
  },
  {
   "cell_type": "code",
   "execution_count": 111,
   "metadata": {},
   "outputs": [
    {
     "data": {
      "text/html": [
       "<div>\n",
       "<style scoped>\n",
       "    .dataframe tbody tr th:only-of-type {\n",
       "        vertical-align: middle;\n",
       "    }\n",
       "\n",
       "    .dataframe tbody tr th {\n",
       "        vertical-align: top;\n",
       "    }\n",
       "\n",
       "    .dataframe thead th {\n",
       "        text-align: right;\n",
       "    }\n",
       "</style>\n",
       "<table border=\"1\" class=\"dataframe\">\n",
       "  <thead>\n",
       "    <tr style=\"text-align: right;\">\n",
       "      <th></th>\n",
       "      <th>V1</th>\n",
       "      <th>V2</th>\n",
       "      <th>V3</th>\n",
       "      <th>V4</th>\n",
       "      <th>V5</th>\n",
       "      <th>...</th>\n",
       "      <th>f</th>\n",
       "      <th>a0</th>\n",
       "      <th>eta</th>\n",
       "      <th>r0</th>\n",
       "      <th>d</th>\n",
       "    </tr>\n",
       "  </thead>\n",
       "  <tbody>\n",
       "    <tr>\n",
       "      <th>0</th>\n",
       "      <td>4.945110</td>\n",
       "      <td>2.869199</td>\n",
       "      <td>6.747126</td>\n",
       "      <td>6.142522</td>\n",
       "      <td>5.629532</td>\n",
       "      <td>...</td>\n",
       "      <td>0.068890</td>\n",
       "      <td>0.112113</td>\n",
       "      <td>-0.331150</td>\n",
       "      <td>1.422746</td>\n",
       "      <td>-0.091228</td>\n",
       "    </tr>\n",
       "    <tr>\n",
       "      <th>1</th>\n",
       "      <td>0.718846</td>\n",
       "      <td>1.220364</td>\n",
       "      <td>0.815571</td>\n",
       "      <td>0.868633</td>\n",
       "      <td>0.838021</td>\n",
       "      <td>...</td>\n",
       "      <td>0.309021</td>\n",
       "      <td>0.057579</td>\n",
       "      <td>0.094811</td>\n",
       "      <td>1.237047</td>\n",
       "      <td>0.003429</td>\n",
       "    </tr>\n",
       "    <tr>\n",
       "      <th>2</th>\n",
       "      <td>3.369285</td>\n",
       "      <td>1.912974</td>\n",
       "      <td>3.131174</td>\n",
       "      <td>0.046303</td>\n",
       "      <td>1.416252</td>\n",
       "      <td>...</td>\n",
       "      <td>0.118318</td>\n",
       "      <td>0.401410</td>\n",
       "      <td>-0.036977</td>\n",
       "      <td>1.746024</td>\n",
       "      <td>0.012160</td>\n",
       "    </tr>\n",
       "    <tr>\n",
       "      <th>3</th>\n",
       "      <td>0.373669</td>\n",
       "      <td>0.283873</td>\n",
       "      <td>0.237735</td>\n",
       "      <td>0.053632</td>\n",
       "      <td>0.062281</td>\n",
       "      <td>...</td>\n",
       "      <td>0.497286</td>\n",
       "      <td>0.499730</td>\n",
       "      <td>0.117188</td>\n",
       "      <td>0.669199</td>\n",
       "      <td>0.081612</td>\n",
       "    </tr>\n",
       "    <tr>\n",
       "      <th>4</th>\n",
       "      <td>3.562637</td>\n",
       "      <td>1.635016</td>\n",
       "      <td>5.724176</td>\n",
       "      <td>4.953962</td>\n",
       "      <td>1.060083</td>\n",
       "      <td>...</td>\n",
       "      <td>0.042638</td>\n",
       "      <td>0.307171</td>\n",
       "      <td>-0.467453</td>\n",
       "      <td>0.952351</td>\n",
       "      <td>0.051834</td>\n",
       "    </tr>\n",
       "  </tbody>\n",
       "</table>\n",
       "<p>5 rows × 21 columns</p>\n",
       "</div>"
      ],
      "text/plain": [
       "         V1        V2        V3        V4        V5  ...         f        a0  \\\n",
       "0  4.945110  2.869199  6.747126  6.142522  5.629532  ...  0.068890  0.112113   \n",
       "1  0.718846  1.220364  0.815571  0.868633  0.838021  ...  0.309021  0.057579   \n",
       "2  3.369285  1.912974  3.131174  0.046303  1.416252  ...  0.118318  0.401410   \n",
       "3  0.373669  0.283873  0.237735  0.053632  0.062281  ...  0.497286  0.499730   \n",
       "4  3.562637  1.635016  5.724176  4.953962  1.060083  ...  0.042638  0.307171   \n",
       "\n",
       "        eta        r0         d  \n",
       "0 -0.331150  1.422746 -0.091228  \n",
       "1  0.094811  1.237047  0.003429  \n",
       "2 -0.036977  1.746024  0.012160  \n",
       "3  0.117188  0.669199  0.081612  \n",
       "4 -0.467453  0.952351  0.051834  \n",
       "\n",
       "[5 rows x 21 columns]"
      ]
     },
     "execution_count": 111,
     "metadata": {},
     "output_type": "execute_result"
    }
   ],
   "source": [
    "sims = pd.read_csv(\"simulated_data.csv\")\n",
    "sims.head()"
   ]
  },
  {
   "cell_type": "markdown",
   "metadata": {},
   "source": [
    "---------\n",
    "\n",
    "\n",
    "# N_i / N_i\n",
    "\n",
    "\n",
    "## Functions to compare methods"
   ]
  },
  {
   "cell_type": "code",
   "execution_count": 112,
   "metadata": {},
   "outputs": [],
   "source": [
    "def fitness(i, V, N, D, C, f, a0, r0):\n",
    "    \"\"\"Fitness function.\"\"\"\n",
    "    q = V.shape[0]\n",
    "    Vi = V[:,i]\n",
    "    Vi = Vi.reshape((q, 1))\n",
    "    Nj_sum = np.sum([N[j] * np.exp(-V[:,j].T @ D @ V[:,j]) for j in range(N.size) if j != i])\n",
    "    Ni = N[i]\n",
    "    F = np.exp(\n",
    "        r0 - f * Vi.T @ C @ Vi - \n",
    "        ( a0 * np.exp(-1 * Vi.T @ Vi) * (Ni + Nj_sum))\n",
    "    )\n",
    "    return F[0,0]"
   ]
  },
  {
   "cell_type": "code",
   "execution_count": 113,
   "metadata": {},
   "outputs": [],
   "source": [
    "def automatic(i, V, N, D, C, f, a0, r0):\n",
    "    \"\"\"Automatic differentiation using theano pkg\"\"\"\n",
    "    Vi = V[:,i]\n",
    "    Nj_sum = np.sum([N[j] * np.exp(-V[:,j].T @ D @ V[:,j]) for j in range(N.size) if j != i])\n",
    "    Ni = T.dscalar('Ni')\n",
    "    Nhat = Ni * T.exp(\n",
    "        r0 - f * T.dot(T.dot(Vi.T, C), Vi) - \n",
    "        ( a0 * T.exp(-1 * T.dot(Vi.T, Vi)) * (Ni + Nj_sum))\n",
    "    )\n",
    "    J = T.grad(Nhat, Ni)\n",
    "    num_fun = theano.function([Ni], J)\n",
    "    out_array = num_fun(N[i])\n",
    "    return out_array"
   ]
  },
  {
   "cell_type": "code",
   "execution_count": 114,
   "metadata": {},
   "outputs": [],
   "source": [
    "def symbolic(i, V, N, D, C, f, a0, r0):\n",
    "    \"\"\"Symbolic differentiation using math\"\"\"\n",
    "    q = V.shape[0]\n",
    "    Vi = V[:,i]\n",
    "    Vi = Vi.reshape((q, 1))\n",
    "    F = fitness(i, V, N, D, C, f, a0, r0)\n",
    "    dNhat = F * (1 - N[i] * a0 * (np.exp(-1 * Vi.T @ Vi)).item())\n",
    "    return dNhat"
   ]
  },
  {
   "cell_type": "code",
   "execution_count": 115,
   "metadata": {},
   "outputs": [],
   "source": [
    "def compare_methods(sim_i, abs = False):\n",
    "    \"\"\"Compare answers from symbolic and automatic methods\"\"\"\n",
    "    \n",
    "    # Fill info from data frame:\n",
    "    N = sims.loc[sim_i, [x.startswith(\"N\") for x in sims.columns]].values\n",
    "    V = sims.loc[sim_i, [x.startswith(\"V\") for x in sims.columns]].values\n",
    "    n, q = (N.size, int(V.size / N.size))\n",
    "    V = V.reshape((q, n), order = 'F')\n",
    "    f = sims.loc[sim_i,\"f\"]\n",
    "    a0 = sims.loc[sim_i,\"a0\"]\n",
    "    r0 = sims.loc[sim_i,\"r0\"]\n",
    "    eta = sims.loc[sim_i,\"eta\"]\n",
    "    d = sims.loc[sim_i,\"d\"]\n",
    "    D = np.zeros((q, q))\n",
    "    np.fill_diagonal(D, d)\n",
    "    C = np.zeros((q, q)) + eta\n",
    "    np.fill_diagonal(C,1.0)\n",
    "    \n",
    "    # Create output array:\n",
    "    diffs = np.empty((n, 4))\n",
    "    diffs[:,0] = sim_i\n",
    "    \n",
    "    # Fill output array:\n",
    "    for i in range(n):\n",
    "        auto = automatic(i, V, N, D, C, f, a0, r0)\n",
    "        sym =   symbolic(i, V, N, D, C, f, a0, r0)\n",
    "        if abs:\n",
    "            diff = auto - sym\n",
    "        else:\n",
    "            diff = (auto - sym) / sym\n",
    "        diff = diff.flatten()\n",
    "        diffs[i, 1] = i\n",
    "        diffs[i, 2] = diff.min()\n",
    "        diffs[i, 3] = diff.max()\n",
    "    \n",
    "    return diffs"
   ]
  },
  {
   "cell_type": "markdown",
   "metadata": {},
   "source": [
    "### Example of using `compare_methods`:"
   ]
  },
  {
   "cell_type": "code",
   "execution_count": 116,
   "metadata": {},
   "outputs": [
    {
     "name": "stdout",
     "output_type": "stream",
     "text": [
      "0.0\n",
      "4.659349095435551e-16\n"
     ]
    }
   ],
   "source": [
    "diffs = compare_methods(0)\n",
    "# Worst case examples:\n",
    "print(diffs[:,2].min())\n",
    "print(diffs[:,3].max())"
   ]
  },
  {
   "cell_type": "markdown",
   "metadata": {},
   "source": [
    "## Comparing methods\n",
    "\n",
    "This takes ~30 seconds."
   ]
  },
  {
   "cell_type": "code",
   "execution_count": 117,
   "metadata": {},
   "outputs": [],
   "source": [
    "n_per_rep = 4\n",
    "diffs = np.empty((int(n_per_rep * 100), 4))"
   ]
  },
  {
   "cell_type": "code",
   "execution_count": 118,
   "metadata": {},
   "outputs": [
    {
     "name": "stderr",
     "output_type": "stream",
     "text": [
      "100%|██████████| 100/100 [00:27<00:00,  3.67it/s]\n"
     ]
    }
   ],
   "source": [
    "for rep in tqdm(range(100)):\n",
    "    diffs_r = compare_methods(rep, abs = True)\n",
    "    diffs[(rep * n_per_rep):((rep+1) * n_per_rep),:] = diffs_r"
   ]
  },
  {
   "cell_type": "markdown",
   "metadata": {},
   "source": [
    "## The results\n",
    "They appear to be extremely similar, enough so that I feel comfortable with my symbolic version."
   ]
  },
  {
   "cell_type": "code",
   "execution_count": 119,
   "metadata": {},
   "outputs": [
    {
     "name": "stdout",
     "output_type": "stream",
     "text": [
      "-8.881784197001252e-16\n",
      "6.661338147750939e-16\n"
     ]
    }
   ],
   "source": [
    "print(diffs[:,2].min())\n",
    "print(diffs[:,3].max())"
   ]
  },
  {
   "cell_type": "markdown",
   "metadata": {},
   "source": [
    "## Write output to file\n",
    "\n",
    "To make sure the R version works, too, I'm writing to a CSV file the output from the symbolic version on the 100 datasets."
   ]
  },
  {
   "cell_type": "code",
   "execution_count": 120,
   "metadata": {},
   "outputs": [
    {
     "data": {
      "text/plain": [
       "array([[0.4016391 , 0.4016391 , 0.4016391 , 0.35741785, 0.35741785,\n",
       "        0.35741785, 1.51619382, 1.51619382, 1.51619382, 2.73714043,\n",
       "        2.73714043, 2.73714043],\n",
       "       [0.48889062, 0.48889062, 0.48889062, 0.28321771, 0.28321771,\n",
       "        0.28321771, 0.07808013, 0.07808013, 0.07808013, 0.43248949,\n",
       "        0.43248949, 0.43248949]])"
      ]
     },
     "execution_count": 120,
     "metadata": {},
     "output_type": "execute_result"
    }
   ],
   "source": [
    "n = np.sum([x.startswith(\"N\") for x in sims.columns])\n",
    "q = int(np.sum([x.startswith(\"V\") for x in sims.columns]) / n)\n",
    "# Output array\n",
    "results = np.zeros((100, n * q))\n",
    "\n",
    "for sim_i in range(100):\n",
    "    \n",
    "    # Fill info from data frame:\n",
    "    N = sims.loc[sim_i, [x.startswith(\"N\") for x in sims.columns]].values\n",
    "    V = sims.loc[sim_i, [x.startswith(\"V\") for x in sims.columns]].values\n",
    "    V = V.reshape((q, n), order = 'F')\n",
    "    f = sims.loc[sim_i,\"f\"]\n",
    "    a0 = sims.loc[sim_i,\"a0\"]\n",
    "    r0 = sims.loc[sim_i,\"r0\"]\n",
    "    eta = sims.loc[sim_i,\"eta\"]\n",
    "    d = sims.loc[sim_i,\"d\"]\n",
    "    D = np.zeros((q, q))\n",
    "    np.fill_diagonal(D, d)\n",
    "    C = np.zeros((q, q)) + eta\n",
    "    np.fill_diagonal(C,1.0)\n",
    "\n",
    "    # Fill output array:\n",
    "    for i in range(0, n):\n",
    "        sym = symbolic(i, V, N, D, C, f, a0, r0)\n",
    "        results[sim_i, (i*q):((i+1)*q)] = sym.flatten()\n",
    "\n",
    "# Make sure first and last aren't zeros:\n",
    "results[[0, 99], :]"
   ]
  },
  {
   "cell_type": "code",
   "execution_count": 121,
   "metadata": {},
   "outputs": [],
   "source": [
    "np.savetxt('results/dNi_dNi.csv', results, delimiter=',')"
   ]
  },
  {
   "cell_type": "markdown",
   "metadata": {},
   "source": [
    "---------\n",
    "\n",
    "\n",
    "# N_i / N_k\n",
    "\n",
    "\n",
    "## Functions to compare methods"
   ]
  },
  {
   "cell_type": "code",
   "execution_count": 122,
   "metadata": {},
   "outputs": [],
   "source": [
    "def automatic(i, k, V, N, D, C, f, a0, r0):\n",
    "    \"\"\"Automatic differentiation using theano pkg\"\"\"\n",
    "    Vi = V[:,i]\n",
    "    Vk = V[:,k]\n",
    "    Nj = np.sum(np.array([N[j] * np.exp(-V[:,j].T @ D @ V[:,j]) for j in range(N.size) if j != i and j != k]))\n",
    "    Ni = N[i]\n",
    "    Nk = T.dscalar('Nk')\n",
    "    Nhat = Ni * T.exp(\n",
    "        r0 - f * T.dot(T.dot(Vi.T, C), Vi) - \n",
    "        ( a0 * T.exp(-1 * T.dot(Vi.T, Vi)) * \n",
    "         (Ni + Nj + Nk * T.exp(-1 * T.dot(T.dot(Vk.T, D), Vk))))\n",
    "    )\n",
    "    J = T.grad(Nhat, Nk)\n",
    "    num_fun = theano.function([Nk], J)\n",
    "    out_array = num_fun(N[k])\n",
    "    return out_array"
   ]
  },
  {
   "cell_type": "code",
   "execution_count": 123,
   "metadata": {},
   "outputs": [],
   "source": [
    "def symbolic(i, k, V, N, D, C, f, a0, r0):\n",
    "    \"\"\"Symbolic differentiation using math\"\"\"\n",
    "    q = V.shape[0]\n",
    "    Vi = V[:,i]\n",
    "    Vi = Vi.reshape((q, 1))\n",
    "    Vk = V[:,k]\n",
    "    Vk = Vk.reshape((q, 1))\n",
    "    F = fitness(i, V, N, D, C, f, a0, r0)\n",
    "    dNhat = -F * N[i] * a0 * np.exp(-1 * Vk.T @ D @ Vk - Vi.T @ Vi)\n",
    "    return dNhat"
   ]
  },
  {
   "cell_type": "code",
   "execution_count": 124,
   "metadata": {},
   "outputs": [],
   "source": [
    "def compare_methods(sim_i, abs = False):\n",
    "    \"\"\"Compare answers from symbolic and automatic methods\"\"\"\n",
    "    \n",
    "    # Fill info from data frame:\n",
    "    N = sims.loc[sim_i, [x.startswith(\"N\") for x in sims.columns]].values\n",
    "    V = sims.loc[sim_i, [x.startswith(\"V\") for x in sims.columns]].values\n",
    "    n, q = (N.size, int(V.size / N.size))\n",
    "    V = V.reshape((q, n), order = 'F')\n",
    "    f = sims.loc[sim_i,\"f\"]\n",
    "    a0 = sims.loc[sim_i,\"a0\"]\n",
    "    r0 = sims.loc[sim_i,\"r0\"]\n",
    "    eta = sims.loc[sim_i,\"eta\"]\n",
    "    d = sims.loc[sim_i,\"d\"]\n",
    "    D = np.zeros((q, q))\n",
    "    np.fill_diagonal(D, d)\n",
    "    C = np.zeros((q, q)) + eta\n",
    "    np.fill_diagonal(C,1.0)\n",
    "    \n",
    "    # Create output array:\n",
    "    diffs = np.empty((math.factorial(n) // math.factorial(n-2), 4))\n",
    "    j = 0\n",
    "    for i in range(0, n):\n",
    "        for k in [x for x in range(0, n) if x != i]:\n",
    "            num = automatic(i, k, V, N, D, C, f, a0, r0)\n",
    "            sym = symbolic(i, k, V, N, D, C, f, a0, r0)\n",
    "            num = num.flatten()\n",
    "            sym = sym.flatten()\n",
    "            if abs:\n",
    "                diff = num - sym\n",
    "            else:\n",
    "                diff = (num - sym) / sym\n",
    "                if np.any(sym == 0):\n",
    "                    for l in [x for x in range(0, diff.size) if sym[x] == 0]:\n",
    "                        diff[l] = num[l];\n",
    "            diffs[j, 0] = i\n",
    "            diffs[j, 1] = k\n",
    "            diffs[j, 2] = diff.min()\n",
    "            diffs[j, 3] = diff.max()\n",
    "            j += 1\n",
    "    return diffs"
   ]
  },
  {
   "cell_type": "markdown",
   "metadata": {},
   "source": [
    "### Example of using `compare_methods`:"
   ]
  },
  {
   "cell_type": "code",
   "execution_count": 125,
   "metadata": {},
   "outputs": [
    {
     "name": "stdout",
     "output_type": "stream",
     "text": [
      "-5.750445668955183e-15\n",
      "7.16611041363844e-15\n"
     ]
    }
   ],
   "source": [
    "diffs = compare_methods(0)\n",
    "# Worst case examples:\n",
    "print(diffs[:,2].min())\n",
    "print(diffs[:,3].max())"
   ]
  },
  {
   "cell_type": "markdown",
   "metadata": {},
   "source": [
    "## Comparing methods\n",
    "\n",
    "This takes ~2 minutes."
   ]
  },
  {
   "cell_type": "code",
   "execution_count": 126,
   "metadata": {},
   "outputs": [],
   "source": [
    "n_per_rep = math.factorial(4) // math.factorial(4-2)\n",
    "diffs = np.empty((int(n_per_rep * 100), 4))"
   ]
  },
  {
   "cell_type": "code",
   "execution_count": 127,
   "metadata": {},
   "outputs": [
    {
     "name": "stderr",
     "output_type": "stream",
     "text": [
      "100%|██████████| 100/100 [01:28<00:00,  1.13it/s]\n"
     ]
    }
   ],
   "source": [
    "for rep in tqdm(range(100)):\n",
    "    diffs_r = compare_methods(rep, abs = True)\n",
    "    diffs[(rep * n_per_rep):((rep+1) * n_per_rep),:] = diffs_r"
   ]
  },
  {
   "cell_type": "markdown",
   "metadata": {},
   "source": [
    "## The results\n",
    "They appear to be extremely similar, enough so that I feel comfortable with my symbolic version."
   ]
  },
  {
   "cell_type": "code",
   "execution_count": 128,
   "metadata": {},
   "outputs": [
    {
     "name": "stdout",
     "output_type": "stream",
     "text": [
      "-2.220446049250313e-16\n",
      "2.220446049250313e-16\n"
     ]
    }
   ],
   "source": [
    "print(diffs[:,2].min())\n",
    "print(diffs[:,3].max())"
   ]
  },
  {
   "cell_type": "markdown",
   "metadata": {},
   "source": [
    "## Write output to file\n",
    "\n",
    "To make sure the R version works, too, I'm writing to a CSV file the output from the symbolic version on the 100 datasets."
   ]
  },
  {
   "cell_type": "code",
   "execution_count": 129,
   "metadata": {},
   "outputs": [
    {
     "data": {
      "text/plain": [
       "array([[-6.50940801e-33, -6.50940801e-33, -6.50940801e-33,\n",
       "        -3.67566611e-34, -3.67566611e-34, -3.67566611e-34,\n",
       "        -3.94551730e-35, -3.94551730e-35, -3.94551730e-35,\n",
       "        -1.51293987e-30, -1.51293987e-30, -1.51293987e-30,\n",
       "        -5.20735950e-32, -5.20735950e-32, -5.20735950e-32,\n",
       "        -5.58966086e-33, -5.58966086e-33, -5.58966086e-33,\n",
       "        -8.62893263e-16, -8.62893263e-16, -8.62893263e-16,\n",
       "        -5.25966898e-16, -5.25966898e-16, -5.25966898e-16,\n",
       "        -3.18801878e-18, -3.18801878e-18, -3.18801878e-18,\n",
       "        -3.66269058e-05, -3.66269058e-05, -3.66269058e-05,\n",
       "        -2.23255191e-05, -2.23255191e-05, -2.23255191e-05,\n",
       "        -1.26065464e-06, -1.26065464e-06, -1.26065464e-06],\n",
       "       [-1.98280598e-02, -1.98280598e-02, -1.98280598e-02,\n",
       "        -8.99846379e-02, -8.99846379e-02, -8.99846379e-02,\n",
       "        -3.31065119e-02, -3.31065119e-02, -3.31065119e-02,\n",
       "        -1.83206958e-09, -1.83206958e-09, -1.83206958e-09,\n",
       "        -1.94601305e-09, -1.94601305e-09, -1.94601305e-09,\n",
       "        -7.15963365e-10, -7.15963365e-10, -7.15963365e-10,\n",
       "        -1.13487646e-01, -1.13487646e-01, -1.13487646e-01,\n",
       "        -2.65622108e-02, -2.65622108e-02, -2.65622108e-02,\n",
       "        -4.43503881e-02, -4.43503881e-02, -4.43503881e-02,\n",
       "        -2.97685899e-07, -2.97685899e-07, -2.97685899e-07,\n",
       "        -6.96745053e-08, -6.96745053e-08, -6.96745053e-08,\n",
       "        -3.16200132e-07, -3.16200132e-07, -3.16200132e-07]])"
      ]
     },
     "execution_count": 129,
     "metadata": {},
     "output_type": "execute_result"
    }
   ],
   "source": [
    "n = np.sum([x.startswith(\"N\") for x in sims.columns])\n",
    "q = int(np.sum([x.startswith(\"V\") for x in sims.columns]) / n)\n",
    "s2 = 0.01\n",
    "n_perms = math.factorial(n) // math.factorial(n-2)\n",
    "# Output array\n",
    "results = np.zeros((100, n_perms * q))\n",
    "\n",
    "for sim_i in range(100):\n",
    "    \n",
    "    # Fill info from data frame:\n",
    "    N = sims.loc[sim_i, [x.startswith(\"N\") for x in sims.columns]].values\n",
    "    V = sims.loc[sim_i, [x.startswith(\"V\") for x in sims.columns]].values\n",
    "    V = V.reshape((q, n), order = 'F')\n",
    "    f = sims.loc[sim_i,\"f\"]\n",
    "    a0 = sims.loc[sim_i,\"a0\"]\n",
    "    r0 = sims.loc[sim_i,\"r0\"]\n",
    "    eta = sims.loc[sim_i,\"eta\"]\n",
    "    d = sims.loc[sim_i,\"d\"]\n",
    "    D = np.zeros((q, q))\n",
    "    np.fill_diagonal(D, d)\n",
    "    C = np.zeros((q, q)) + eta\n",
    "    np.fill_diagonal(C,1.0)\n",
    "    \n",
    "    # Fill output array:\n",
    "    j = 0\n",
    "    for i in range(0, n):\n",
    "        for k in [x for x in range(0, n) if x != i]:\n",
    "            sym = symbolic(i, k, V, N, D, C, f, a0, s2)\n",
    "            results[sim_i, (j*q):((j+1)*q)] = sym.flatten()\n",
    "            j += 1\n",
    "\n",
    "\n",
    "# Make sure first and last aren't zeros:\n",
    "results[[0, 99], :]"
   ]
  },
  {
   "cell_type": "code",
   "execution_count": 130,
   "metadata": {},
   "outputs": [],
   "source": [
    "np.savetxt('results/dNi_dNk.csv', results, delimiter=',')"
   ]
  },
  {
   "cell_type": "code",
   "execution_count": null,
   "metadata": {},
   "outputs": [],
   "source": []
  }
 ],
 "metadata": {
  "kernelspec": {
   "display_name": "Python 3",
   "language": "python",
   "name": "python3"
  },
  "language_info": {
   "codemirror_mode": {
    "name": "ipython",
    "version": 3
   },
   "file_extension": ".py",
   "mimetype": "text/x-python",
   "name": "python",
   "nbconvert_exporter": "python",
   "pygments_lexer": "ipython3",
   "version": "3.7.7"
  }
 },
 "nbformat": 4,
 "nbformat_minor": 4
}
